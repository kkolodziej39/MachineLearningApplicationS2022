{
 "cells": [
  {
   "cell_type": "markdown",
   "id": "f28ef730-9b14-4678-9aea-80faff624bc9",
   "metadata": {},
   "source": [
    "# Project 3 Part 1 - Uber Fares Dataset\n",
    "#### By: David Hoffman and Kyle Kolodziej"
   ]
  },
  {
   "cell_type": "markdown",
   "id": "029ced57-5fa6-4db7-8c37-d50c24c9e30e",
   "metadata": {},
   "source": [
    "### 1. Import, Explore, and Clean Data"
   ]
  },
  {
   "cell_type": "code",
   "execution_count": 1,
   "id": "2da4d548-ac46-4c6e-acbc-17e9d4a4a1d8",
   "metadata": {},
   "outputs": [
    {
     "data": {
      "text/html": [
       "<div>\n",
       "<style scoped>\n",
       "    .dataframe tbody tr th:only-of-type {\n",
       "        vertical-align: middle;\n",
       "    }\n",
       "\n",
       "    .dataframe tbody tr th {\n",
       "        vertical-align: top;\n",
       "    }\n",
       "\n",
       "    .dataframe thead th {\n",
       "        text-align: right;\n",
       "    }\n",
       "</style>\n",
       "<table border=\"1\" class=\"dataframe\">\n",
       "  <thead>\n",
       "    <tr style=\"text-align: right;\">\n",
       "      <th></th>\n",
       "      <th>Unnamed: 0</th>\n",
       "      <th>key</th>\n",
       "      <th>fare_amount</th>\n",
       "      <th>pickup_datetime</th>\n",
       "      <th>pickup_longitude</th>\n",
       "      <th>pickup_latitude</th>\n",
       "      <th>dropoff_longitude</th>\n",
       "      <th>dropoff_latitude</th>\n",
       "      <th>passenger_count</th>\n",
       "    </tr>\n",
       "  </thead>\n",
       "  <tbody>\n",
       "    <tr>\n",
       "      <th>0</th>\n",
       "      <td>24238194</td>\n",
       "      <td>2015-05-07 19:52:06.0000003</td>\n",
       "      <td>7.5</td>\n",
       "      <td>2015-05-07 19:52:06 UTC</td>\n",
       "      <td>-73.999817</td>\n",
       "      <td>40.738354</td>\n",
       "      <td>-73.999512</td>\n",
       "      <td>40.723217</td>\n",
       "      <td>1</td>\n",
       "    </tr>\n",
       "    <tr>\n",
       "      <th>1</th>\n",
       "      <td>27835199</td>\n",
       "      <td>2009-07-17 20:04:56.0000002</td>\n",
       "      <td>7.7</td>\n",
       "      <td>2009-07-17 20:04:56 UTC</td>\n",
       "      <td>-73.994355</td>\n",
       "      <td>40.728225</td>\n",
       "      <td>-73.994710</td>\n",
       "      <td>40.750325</td>\n",
       "      <td>1</td>\n",
       "    </tr>\n",
       "    <tr>\n",
       "      <th>2</th>\n",
       "      <td>44984355</td>\n",
       "      <td>2009-08-24 21:45:00.00000061</td>\n",
       "      <td>12.9</td>\n",
       "      <td>2009-08-24 21:45:00 UTC</td>\n",
       "      <td>-74.005043</td>\n",
       "      <td>40.740770</td>\n",
       "      <td>-73.962565</td>\n",
       "      <td>40.772647</td>\n",
       "      <td>1</td>\n",
       "    </tr>\n",
       "    <tr>\n",
       "      <th>3</th>\n",
       "      <td>25894730</td>\n",
       "      <td>2009-06-26 08:22:21.0000001</td>\n",
       "      <td>5.3</td>\n",
       "      <td>2009-06-26 08:22:21 UTC</td>\n",
       "      <td>-73.976124</td>\n",
       "      <td>40.790844</td>\n",
       "      <td>-73.965316</td>\n",
       "      <td>40.803349</td>\n",
       "      <td>3</td>\n",
       "    </tr>\n",
       "    <tr>\n",
       "      <th>4</th>\n",
       "      <td>17610152</td>\n",
       "      <td>2014-08-28 17:47:00.000000188</td>\n",
       "      <td>16.0</td>\n",
       "      <td>2014-08-28 17:47:00 UTC</td>\n",
       "      <td>-73.925023</td>\n",
       "      <td>40.744085</td>\n",
       "      <td>-73.973082</td>\n",
       "      <td>40.761247</td>\n",
       "      <td>5</td>\n",
       "    </tr>\n",
       "  </tbody>\n",
       "</table>\n",
       "</div>"
      ],
      "text/plain": [
       "   Unnamed: 0                            key  fare_amount  \\\n",
       "0    24238194    2015-05-07 19:52:06.0000003          7.5   \n",
       "1    27835199    2009-07-17 20:04:56.0000002          7.7   \n",
       "2    44984355   2009-08-24 21:45:00.00000061         12.9   \n",
       "3    25894730    2009-06-26 08:22:21.0000001          5.3   \n",
       "4    17610152  2014-08-28 17:47:00.000000188         16.0   \n",
       "\n",
       "           pickup_datetime  pickup_longitude  pickup_latitude  \\\n",
       "0  2015-05-07 19:52:06 UTC        -73.999817        40.738354   \n",
       "1  2009-07-17 20:04:56 UTC        -73.994355        40.728225   \n",
       "2  2009-08-24 21:45:00 UTC        -74.005043        40.740770   \n",
       "3  2009-06-26 08:22:21 UTC        -73.976124        40.790844   \n",
       "4  2014-08-28 17:47:00 UTC        -73.925023        40.744085   \n",
       "\n",
       "   dropoff_longitude  dropoff_latitude  passenger_count  \n",
       "0         -73.999512         40.723217                1  \n",
       "1         -73.994710         40.750325                1  \n",
       "2         -73.962565         40.772647                1  \n",
       "3         -73.965316         40.803349                3  \n",
       "4         -73.973082         40.761247                5  "
      ]
     },
     "execution_count": 1,
     "metadata": {},
     "output_type": "execute_result"
    }
   ],
   "source": [
    "import pandas as pd\n",
    "import numpy as np\n",
    "ubers = pd.read_csv(\"uber.csv\")\n",
    "ubers.head(5)"
   ]
  },
  {
   "cell_type": "code",
   "execution_count": 2,
   "id": "f59addbb-9767-4fd4-8ec3-e636e835a506",
   "metadata": {},
   "outputs": [
    {
     "name": "stdout",
     "output_type": "stream",
     "text": [
      "<class 'pandas.core.frame.DataFrame'>\n",
      "RangeIndex: 200000 entries, 0 to 199999\n",
      "Data columns (total 9 columns):\n",
      " #   Column             Non-Null Count   Dtype  \n",
      "---  ------             --------------   -----  \n",
      " 0   Unnamed: 0         200000 non-null  int64  \n",
      " 1   key                200000 non-null  object \n",
      " 2   fare_amount        200000 non-null  float64\n",
      " 3   pickup_datetime    200000 non-null  object \n",
      " 4   pickup_longitude   200000 non-null  float64\n",
      " 5   pickup_latitude    200000 non-null  float64\n",
      " 6   dropoff_longitude  199999 non-null  float64\n",
      " 7   dropoff_latitude   199999 non-null  float64\n",
      " 8   passenger_count    200000 non-null  int64  \n",
      "dtypes: float64(5), int64(2), object(2)\n",
      "memory usage: 13.7+ MB\n"
     ]
    }
   ],
   "source": [
    "ubers.info()"
   ]
  },
  {
   "cell_type": "markdown",
   "id": "6cb8d329-6276-48ff-b085-54b13ae08ac4",
   "metadata": {},
   "source": [
    "It looks like there are 200,000 entries of Ubers in this data set. Also, it appears that dropoff_longitude and dropoff_latitude are the only two factors that have a null entry in one of their rows (they only have 199,999 non-null entries)"
   ]
  },
  {
   "cell_type": "code",
   "execution_count": 3,
   "id": "949d7601-204d-4387-b34a-95a926827039",
   "metadata": {},
   "outputs": [],
   "source": [
    "# Let's get rid of the 'Unnamed: 0' and 'key' columns and drop the NA values\n",
    "ubers = ubers.drop(columns=['Unnamed: 0', 'key'])\n",
    "ubers = ubers.dropna()"
   ]
  },
  {
   "cell_type": "code",
   "execution_count": 4,
   "id": "4a69780d-4ce8-4e64-a5a9-8feca6882287",
   "metadata": {},
   "outputs": [
    {
     "data": {
      "text/plain": [
       "'2015-06-30 23:40:39 UTC'"
      ]
     },
     "execution_count": 4,
     "metadata": {},
     "output_type": "execute_result"
    }
   ],
   "source": [
    "max(ubers['pickup_datetime'])"
   ]
  },
  {
   "cell_type": "code",
   "execution_count": 5,
   "id": "f60de1d3-ba4b-48eb-862b-20d5b4c6530f",
   "metadata": {},
   "outputs": [
    {
     "data": {
      "text/plain": [
       "'2009-01-01 01:15:22 UTC'"
      ]
     },
     "execution_count": 5,
     "metadata": {},
     "output_type": "execute_result"
    }
   ],
   "source": [
    "min(ubers['pickup_datetime'])"
   ]
  },
  {
   "cell_type": "code",
   "execution_count": 6,
   "id": "99ef5b6d-ccef-45a0-84dd-101e30083d33",
   "metadata": {},
   "outputs": [
    {
     "name": "stdout",
     "output_type": "stream",
     "text": [
      "-52.0  to  499.0\n"
     ]
    }
   ],
   "source": [
    "print(min(ubers['fare_amount']), \" to \", max(ubers['fare_amount']))"
   ]
  },
  {
   "cell_type": "markdown",
   "id": "daa0e31f-7526-466a-bcb9-3567f5a36da1",
   "metadata": {},
   "source": [
    "The fares range from -52 to 499. A few things seem a little weird with those values. First, a negative fare value. Second, a fare value that high. Will need to look into this more"
   ]
  },
  {
   "cell_type": "code",
   "execution_count": 7,
   "id": "f5f698c8-5817-4101-88b6-45642e81f07f",
   "metadata": {},
   "outputs": [
    {
     "data": {
      "text/plain": [
       "(array([ 63395,  71246,  79903,  89321,  92062,  98874, 104079, 111588,\n",
       "        139271, 148802, 150300, 151680, 157411, 164055, 179110, 180443,\n",
       "        190924], dtype=int64),)"
      ]
     },
     "execution_count": 7,
     "metadata": {},
     "output_type": "execute_result"
    }
   ],
   "source": [
    "np.where(ubers['fare_amount'] < 0)"
   ]
  },
  {
   "cell_type": "code",
   "execution_count": 8,
   "id": "2f1c115e-14a4-488e-800a-0a9758dbe5a3",
   "metadata": {},
   "outputs": [
    {
     "data": {
      "text/plain": [
       "fare_amount                             -5.0\n",
       "pickup_datetime      2015-03-03 23:07:41 UTC\n",
       "pickup_longitude                  -73.992249\n",
       "pickup_latitude                    40.748936\n",
       "dropoff_longitude                 -73.988518\n",
       "dropoff_latitude                    40.74818\n",
       "passenger_count                            1\n",
       "Name: 63395, dtype: object"
      ]
     },
     "execution_count": 8,
     "metadata": {},
     "output_type": "execute_result"
    }
   ],
   "source": [
    "ubers.iloc[63395]"
   ]
  },
  {
   "cell_type": "code",
   "execution_count": 9,
   "id": "ab172916-6070-4512-a3d9-891234ab17d5",
   "metadata": {},
   "outputs": [],
   "source": [
    "ubers = ubers[ubers.fare_amount >= 0]"
   ]
  },
  {
   "cell_type": "markdown",
   "id": "f88e7564-d1c4-4e32-811c-da6ab023b2e8",
   "metadata": {},
   "source": [
    "Looking at a few of the negative fare amounts, the data doesn't seem to make much sense as to why it would be negative...let's drop these"
   ]
  },
  {
   "cell_type": "code",
   "execution_count": 11,
   "id": "54f0b4cf-e6e1-4aa8-9948-6999b3c3e29d",
   "metadata": {},
   "outputs": [
    {
     "data": {
      "text/plain": [
       "(array([ 20744,  22182,  87464, 156725, 197154], dtype=int64),)"
      ]
     },
     "execution_count": 11,
     "metadata": {},
     "output_type": "execute_result"
    }
   ],
   "source": [
    "np.where(ubers['fare_amount'] == 0)"
   ]
  },
  {
   "cell_type": "code",
   "execution_count": 12,
   "id": "2b4c63dc-9ced-4b3f-a01a-48fb98a97061",
   "metadata": {},
   "outputs": [
    {
     "data": {
      "text/plain": [
       "fare_amount                              0.0\n",
       "pickup_datetime      2010-03-20 02:59:51 UTC\n",
       "pickup_longitude                  -73.994366\n",
       "pickup_latitude                    40.755395\n",
       "dropoff_longitude                 -73.998718\n",
       "dropoff_latitude                   40.854853\n",
       "passenger_count                            2\n",
       "Name: 22182, dtype: object"
      ]
     },
     "execution_count": 12,
     "metadata": {},
     "output_type": "execute_result"
    }
   ],
   "source": [
    "ubers.iloc[22182]"
   ]
  },
  {
   "cell_type": "code",
   "execution_count": 13,
   "id": "ccd8c3ab-0e40-4f51-afcc-f94f033fc22d",
   "metadata": {},
   "outputs": [],
   "source": [
    "ubers = ubers[ubers.fare_amount > 0]"
   ]
  },
  {
   "cell_type": "code",
   "execution_count": 14,
   "id": "ac8c4974-ab88-499c-aef2-dd2f90e539fc",
   "metadata": {},
   "outputs": [
    {
     "data": {
      "text/plain": [
       "(array([  4292,  23680,  29259,  71711, 170062, 185304, 197470],\n",
       "       dtype=int64),)"
      ]
     },
     "execution_count": 14,
     "metadata": {},
     "output_type": "execute_result"
    }
   ],
   "source": [
    "np.where(ubers['fare_amount'] > 200)"
   ]
  },
  {
   "cell_type": "code",
   "execution_count": 15,
   "id": "74010588-d7dd-42a3-9ffa-3f319f48af0b",
   "metadata": {},
   "outputs": [
    {
     "data": {
      "text/plain": [
       "fare_amount                              4.5\n",
       "pickup_datetime      2015-05-28 23:26:17 UTC\n",
       "pickup_longitude                   -73.97049\n",
       "pickup_latitude                    40.796719\n",
       "dropoff_longitude                 -73.975693\n",
       "dropoff_latitude                   40.795624\n",
       "passenger_count                            1\n",
       "Name: 71719, dtype: object"
      ]
     },
     "execution_count": 15,
     "metadata": {},
     "output_type": "execute_result"
    }
   ],
   "source": [
    "ubers.iloc[71715]"
   ]
  },
  {
   "cell_type": "markdown",
   "id": "150e7381-0a06-4c0c-aabb-96de7ba8269a",
   "metadata": {},
   "source": [
    "The same goes for when the fare is pricey (just looked at above 200)...let's drop these and then look at trips priced above 100"
   ]
  },
  {
   "cell_type": "code",
   "execution_count": 16,
   "id": "d1a0de33-f52f-4e4c-ae26-55d17b1ec2d8",
   "metadata": {},
   "outputs": [],
   "source": [
    "ubers = ubers[ubers.fare_amount < 200]"
   ]
  },
  {
   "cell_type": "code",
   "execution_count": 17,
   "id": "2e8ac2c6-06d6-4eb1-903e-0a277796d2eb",
   "metadata": {},
   "outputs": [
    {
     "data": {
      "text/plain": [
       "(array([  2053,   5967,   6612,   9059,  11300,  15361,  15460,  15934,\n",
       "         16386,  18414,  19508,  22559,  23145,  23229,  28805,  31701,\n",
       "         33906,  34105,  36328,  39711,  43707,  44368,  45089,  45782,\n",
       "         51012,  53012,  53991,  58039,  72774,  73583,  79305,  87145,\n",
       "         90806,  92383,  93030,  95324,  99969, 105791, 110485, 112822,\n",
       "        114266, 114924, 117349, 120134, 122665, 123980, 127198, 129025,\n",
       "        131077, 131407, 131856, 134508, 138887, 140405, 141106, 144154,\n",
       "        145232, 147782, 149003, 150961, 151580, 155042, 158098, 159879,\n",
       "        163199, 166538, 166862, 173943, 174234, 178426, 183917, 184875,\n",
       "        188207, 190740, 194426, 196588], dtype=int64),)"
      ]
     },
     "execution_count": 17,
     "metadata": {},
     "output_type": "execute_result"
    }
   ],
   "source": [
    "np.where(ubers['fare_amount'] > 100)"
   ]
  },
  {
   "cell_type": "code",
   "execution_count": 18,
   "id": "d5c89246-a9be-4aad-842f-ded82c12e5d9",
   "metadata": {},
   "outputs": [
    {
     "data": {
      "text/plain": [
       "fare_amount                            105.0\n",
       "pickup_datetime      2011-05-06 00:40:00 UTC\n",
       "pickup_longitude                  -73.752265\n",
       "pickup_latitude                    40.923303\n",
       "dropoff_longitude                  -73.75227\n",
       "dropoff_latitude                   40.923303\n",
       "passenger_count                            1\n",
       "Name: 5968, dtype: object"
      ]
     },
     "execution_count": 18,
     "metadata": {},
     "output_type": "execute_result"
    }
   ],
   "source": [
    "ubers.iloc[5967]"
   ]
  },
  {
   "cell_type": "code",
   "execution_count": 19,
   "id": "623b3de0-de0f-4f84-9562-a88a371adcd1",
   "metadata": {},
   "outputs": [
    {
     "data": {
      "text/plain": [
       "fare_amount                            126.1\n",
       "pickup_datetime      2011-06-13 15:46:00 UTC\n",
       "pickup_longitude                  -73.788657\n",
       "pickup_latitude                    40.640643\n",
       "dropoff_longitude                  -74.00135\n",
       "dropoff_latitude                   41.048048\n",
       "passenger_count                            1\n",
       "Name: 9060, dtype: object"
      ]
     },
     "execution_count": 19,
     "metadata": {},
     "output_type": "execute_result"
    }
   ],
   "source": [
    "ubers.iloc[9059]"
   ]
  },
  {
   "cell_type": "markdown",
   "id": "d131c188-8b93-40c9-b3b2-c52295d50d21",
   "metadata": {},
   "source": [
    "Some of these are logical, but others aren't. For now going to keep them in, but will return to this later..."
   ]
  },
  {
   "cell_type": "code",
   "execution_count": 20,
   "id": "2fc178c1-1847-4242-ab82-8b1091cb7111",
   "metadata": {},
   "outputs": [
    {
     "data": {
      "text/plain": [
       "array(['UTC'], dtype=object)"
      ]
     },
     "execution_count": 20,
     "metadata": {},
     "output_type": "execute_result"
    }
   ],
   "source": [
    "timeZones = ubers['pickup_datetime'].str[-3:]\n",
    "timeZones.unique()"
   ]
  },
  {
   "cell_type": "markdown",
   "id": "d65e5042-83e3-48b0-abab-fe5ea077deaa",
   "metadata": {},
   "source": [
    "Nice, just working with data in UTC time zone"
   ]
  },
  {
   "cell_type": "code",
   "execution_count": 21,
   "id": "3839d052-5f31-4c16-a4ca-b4b010e5fafc",
   "metadata": {},
   "outputs": [
    {
     "data": {
      "text/plain": [
       "array([  1,   3,   5,   2,   4,   6,   0, 208], dtype=int64)"
      ]
     },
     "execution_count": 21,
     "metadata": {},
     "output_type": "execute_result"
    }
   ],
   "source": [
    "ubers['passenger_count'].unique()"
   ]
  },
  {
   "cell_type": "code",
   "execution_count": 22,
   "id": "755150d4-f571-4394-857b-ff1942016844",
   "metadata": {},
   "outputs": [
    {
     "data": {
      "text/plain": [
       "1      138408\n",
       "2       29423\n",
       "5       14005\n",
       "3        8877\n",
       "4        4276\n",
       "6        4271\n",
       "0         708\n",
       "208         1\n",
       "Name: passenger_count, dtype: int64"
      ]
     },
     "execution_count": 22,
     "metadata": {},
     "output_type": "execute_result"
    }
   ],
   "source": [
    "ubers['passenger_count'].value_counts()"
   ]
  },
  {
   "cell_type": "markdown",
   "id": "0a59471e-a585-4368-872c-be2e8204d5f7",
   "metadata": {},
   "source": [
    "Kinda surprising that there are so many rides of 0 passengers. Does this mean that the ride was cancelled? Might need to investigate this scenario further...\n",
    "\n",
    "Also, going to drop the one ride of 208 passengers"
   ]
  },
  {
   "cell_type": "code",
   "execution_count": 23,
   "id": "af4fe53a-94b0-4c7a-9bbc-3f6f4099574d",
   "metadata": {},
   "outputs": [],
   "source": [
    "ubers = ubers[ubers.passenger_count != 208]"
   ]
  },
  {
   "cell_type": "markdown",
   "id": "bd075efd-9b17-44cb-9a8c-4b39b7b54836",
   "metadata": {},
   "source": [
    "Let's take a look at all the numerical features after cleaning it up a little bit"
   ]
  },
  {
   "cell_type": "code",
   "execution_count": 24,
   "id": "aaf39d7c-01d3-40ac-942b-618868353d62",
   "metadata": {},
   "outputs": [
    {
     "data": {
      "text/html": [
       "<div>\n",
       "<style scoped>\n",
       "    .dataframe tbody tr th:only-of-type {\n",
       "        vertical-align: middle;\n",
       "    }\n",
       "\n",
       "    .dataframe tbody tr th {\n",
       "        vertical-align: top;\n",
       "    }\n",
       "\n",
       "    .dataframe thead th {\n",
       "        text-align: right;\n",
       "    }\n",
       "</style>\n",
       "<table border=\"1\" class=\"dataframe\">\n",
       "  <thead>\n",
       "    <tr style=\"text-align: right;\">\n",
       "      <th></th>\n",
       "      <th>fare_amount</th>\n",
       "      <th>pickup_longitude</th>\n",
       "      <th>pickup_latitude</th>\n",
       "      <th>dropoff_longitude</th>\n",
       "      <th>dropoff_latitude</th>\n",
       "      <th>passenger_count</th>\n",
       "    </tr>\n",
       "  </thead>\n",
       "  <tbody>\n",
       "    <tr>\n",
       "      <th>count</th>\n",
       "      <td>199968.000000</td>\n",
       "      <td>199968.000000</td>\n",
       "      <td>199968.000000</td>\n",
       "      <td>199968.000000</td>\n",
       "      <td>199968.000000</td>\n",
       "      <td>199968.000000</td>\n",
       "    </tr>\n",
       "    <tr>\n",
       "      <th>mean</th>\n",
       "      <td>11.351885</td>\n",
       "      <td>-72.528891</td>\n",
       "      <td>39.936571</td>\n",
       "      <td>-72.527284</td>\n",
       "      <td>39.924984</td>\n",
       "      <td>1.683469</td>\n",
       "    </tr>\n",
       "    <tr>\n",
       "      <th>std</th>\n",
       "      <td>9.733257</td>\n",
       "      <td>11.434090</td>\n",
       "      <td>7.719085</td>\n",
       "      <td>13.112397</td>\n",
       "      <td>6.791829</td>\n",
       "      <td>1.306949</td>\n",
       "    </tr>\n",
       "    <tr>\n",
       "      <th>min</th>\n",
       "      <td>0.010000</td>\n",
       "      <td>-1340.648410</td>\n",
       "      <td>-74.015515</td>\n",
       "      <td>-3356.666300</td>\n",
       "      <td>-881.985513</td>\n",
       "      <td>0.000000</td>\n",
       "    </tr>\n",
       "    <tr>\n",
       "      <th>25%</th>\n",
       "      <td>6.000000</td>\n",
       "      <td>-73.992065</td>\n",
       "      <td>40.734797</td>\n",
       "      <td>-73.991407</td>\n",
       "      <td>40.733828</td>\n",
       "      <td>1.000000</td>\n",
       "    </tr>\n",
       "    <tr>\n",
       "      <th>50%</th>\n",
       "      <td>8.500000</td>\n",
       "      <td>-73.981823</td>\n",
       "      <td>40.752592</td>\n",
       "      <td>-73.980093</td>\n",
       "      <td>40.753042</td>\n",
       "      <td>1.000000</td>\n",
       "    </tr>\n",
       "    <tr>\n",
       "      <th>75%</th>\n",
       "      <td>12.500000</td>\n",
       "      <td>-73.967157</td>\n",
       "      <td>40.767158</td>\n",
       "      <td>-73.963662</td>\n",
       "      <td>40.768002</td>\n",
       "      <td>2.000000</td>\n",
       "    </tr>\n",
       "    <tr>\n",
       "      <th>max</th>\n",
       "      <td>196.000000</td>\n",
       "      <td>57.418457</td>\n",
       "      <td>1644.421482</td>\n",
       "      <td>1153.572603</td>\n",
       "      <td>872.697628</td>\n",
       "      <td>6.000000</td>\n",
       "    </tr>\n",
       "  </tbody>\n",
       "</table>\n",
       "</div>"
      ],
      "text/plain": [
       "         fare_amount  pickup_longitude  pickup_latitude  dropoff_longitude  \\\n",
       "count  199968.000000     199968.000000    199968.000000      199968.000000   \n",
       "mean       11.351885        -72.528891        39.936571         -72.527284   \n",
       "std         9.733257         11.434090         7.719085          13.112397   \n",
       "min         0.010000      -1340.648410       -74.015515       -3356.666300   \n",
       "25%         6.000000        -73.992065        40.734797         -73.991407   \n",
       "50%         8.500000        -73.981823        40.752592         -73.980093   \n",
       "75%        12.500000        -73.967157        40.767158         -73.963662   \n",
       "max       196.000000         57.418457      1644.421482        1153.572603   \n",
       "\n",
       "       dropoff_latitude  passenger_count  \n",
       "count     199968.000000    199968.000000  \n",
       "mean          39.924984         1.683469  \n",
       "std            6.791829         1.306949  \n",
       "min         -881.985513         0.000000  \n",
       "25%           40.733828         1.000000  \n",
       "50%           40.753042         1.000000  \n",
       "75%           40.768002         2.000000  \n",
       "max          872.697628         6.000000  "
      ]
     },
     "execution_count": 24,
     "metadata": {},
     "output_type": "execute_result"
    }
   ],
   "source": [
    "ubers.describe()"
   ]
  },
  {
   "cell_type": "markdown",
   "id": "2e740e01-92d3-4801-a1d6-ea4aab63c251",
   "metadata": {},
   "source": [
    "It also looks like the longitudes and latitudes could have some iffy data (not entirely sure if those values are realistic)"
   ]
  },
  {
   "cell_type": "code",
   "execution_count": 25,
   "id": "f3a62556-1259-4660-aee8-735b2c660da0",
   "metadata": {},
   "outputs": [
    {
     "data": {
      "image/png": "[encoded data removed]",
      "text/plain": [
       "<Figure size 1440x1080 with 6 Axes>"
      ]
     },
     "metadata": {
      "needs_background": "light"
     },
     "output_type": "display_data"
    }
   ],
   "source": [
    "import matplotlib.pyplot as plt\n",
    "plt = ubers.hist(bins=50, figsize=(20,15))"
   ]
  },
  {
   "cell_type": "markdown",
   "id": "1e7cf23c-157a-4758-a5eb-fc7aed66d87e",
   "metadata": {},
   "source": [
    "Besides information listed above, only new takeaways are the amount of fares negative and the grouping of longitude and latitudes so close to each other. Let's take a deeper dive into these longitudes and latitudes..."
   ]
  },
  {
   "cell_type": "code",
   "execution_count": 26,
   "id": "6b521faa-28af-4978-80b3-86bff6d282fd",
   "metadata": {},
   "outputs": [
    {
     "data": {
      "text/plain": [
       "<AxesSubplot:xlabel='pickup_longitude', ylabel='pickup_latitude'>"
      ]
     },
     "execution_count": 26,
     "metadata": {},
     "output_type": "execute_result"
    },
    {
     "data": {
      "image/png": "[encoded data removed]",
      "text/plain": [
       "<Figure size 432x288 with 1 Axes>"
      ]
     },
     "metadata": {
      "needs_background": "light"
     },
     "output_type": "display_data"
    }
   ],
   "source": [
    "ubers.plot(kind=\"scatter\", x=\"pickup_longitude\", y=\"pickup_latitude\")"
   ]
  },
  {
   "cell_type": "code",
   "execution_count": 27,
   "id": "49517e57-ffc0-41b6-b243-633010782275",
   "metadata": {},
   "outputs": [
    {
     "data": {
      "text/plain": [
       "<AxesSubplot:xlabel='dropoff_longitude', ylabel='dropoff_latitude'>"
      ]
     },
     "execution_count": 27,
     "metadata": {},
     "output_type": "execute_result"
    },
    {
     "data": {
      "image/png": "[encoded data removed]",
      "text/plain": [
       "<Figure size 432x288 with 1 Axes>"
      ]
     },
     "metadata": {
      "needs_background": "light"
     },
     "output_type": "display_data"
    }
   ],
   "source": [
    "ubers.plot(kind=\"scatter\", x=\"dropoff_longitude\", y=\"dropoff_latitude\")"
   ]
  },
  {
   "cell_type": "markdown",
   "id": "8e0f62e5-20a3-4dbe-ae2f-fe65a7805ad6",
   "metadata": {},
   "source": [
    "As expected, the longitude and latitudes are grouped tightly together (for the most part)"
   ]
  },
  {
   "cell_type": "code",
   "execution_count": 28,
   "id": "47bd5c6b-1b76-48e8-b408-f2ba2a9805c1",
   "metadata": {},
   "outputs": [],
   "source": [
    "corr_matrix = ubers.corr()"
   ]
  },
  {
   "cell_type": "code",
   "execution_count": 29,
   "id": "f391087f-0f77-4f63-ae0f-6d6f5602d893",
   "metadata": {},
   "outputs": [
    {
     "data": {
      "text/plain": [
       "fare_amount          1.000000\n",
       "passenger_count      0.011434\n",
       "pickup_longitude     0.007987\n",
       "dropoff_longitude    0.007055\n",
       "pickup_latitude     -0.006466\n",
       "dropoff_latitude    -0.008983\n",
       "Name: fare_amount, dtype: float64"
      ]
     },
     "execution_count": 29,
     "metadata": {},
     "output_type": "execute_result"
    }
   ],
   "source": [
    "# let's see the correlation to the fare prices\n",
    "corr_matrix[\"fare_amount\"].sort_values(ascending=False)"
   ]
  },
  {
   "cell_type": "markdown",
   "id": "5bc9e900-da3b-4c71-8e96-9fa18afa050e",
   "metadata": {},
   "source": [
    "Doesn't appear to be much correlation at all. Let's add in the difference in latitude and longitude values and see if that shows better correlation with showing the distance between two points"
   ]
  },
  {
   "cell_type": "markdown",
   "id": "09949fd3-2392-4a14-9dec-7b3f2bea23da",
   "metadata": {},
   "source": [
    "### 2. Custom Transformer"
   ]
  },
  {
   "cell_type": "markdown",
   "id": "82f80c73-b88d-45d4-a634-16dc950e30b1",
   "metadata": {},
   "source": [
    "Haversine formula for distance between two points: https://www.geeksforgeeks.org/haversine-formula-to-find-distance-between-two-points-on-a-sphere/"
   ]
  },
  {
   "cell_type": "code",
   "execution_count": 30,
   "id": "2e864b96-294e-4483-abeb-36fde6682274",
   "metadata": {},
   "outputs": [],
   "source": [
    "import math\n",
    " \n",
    "# Python 3 program for the\n",
    "# haversine formula\n",
    "def haversine(lat1, lon1, lat2, lon2):\n",
    "     \n",
    "    # distance between latitudes\n",
    "    # and longitudes\n",
    "    dLat = (lat2 - lat1) * math.pi / 180.0\n",
    "    dLon = (lon2 - lon1) * math.pi / 180.0\n",
    " \n",
    "    # convert to radians\n",
    "    lat1 = (lat1) * math.pi / 180.0\n",
    "    lat2 = (lat2) * math.pi / 180.0\n",
    " \n",
    "    # apply formulae\n",
    "    a = (pow(math.sin(dLat / 2), 2) +\n",
    "         pow(math.sin(dLon / 2), 2) *\n",
    "             math.cos(lat1) * math.cos(lat2));\n",
    "    rad = 6371\n",
    "    c = 2 * math.asin(math.sqrt(a))\n",
    "    return rad * c"
   ]
  },
  {
   "cell_type": "code",
   "execution_count": 31,
   "id": "803248e1-ea9a-47e5-816d-31e8e3cda068",
   "metadata": {},
   "outputs": [],
   "source": [
    "distance = []\n",
    "for i in range(len(ubers)):\n",
    "    lat1 = ubers[\"pickup_latitude\"].iloc[i]\n",
    "    lon1 = ubers[\"pickup_longitude\"].iloc[i]\n",
    "    lat2 = ubers[\"dropoff_latitude\"].iloc[i]\n",
    "    lon2 = ubers[\"dropoff_longitude\"].iloc[i]\n",
    "    d = haversine(lat1, lon1, lat2, lon2)\n",
    "    distance.append(d)"
   ]
  },
  {
   "cell_type": "code",
   "execution_count": 32,
   "id": "64d2ee8e-d821-4763-a5fd-2dd18eaee527",
   "metadata": {},
   "outputs": [],
   "source": [
    "ubers['distance'] = distance"
   ]
  },
  {
   "cell_type": "code",
   "execution_count": 33,
   "id": "676c1c79-5476-4634-baa8-cb0d6e9ec4de",
   "metadata": {},
   "outputs": [
    {
     "data": {
      "text/html": [
       "<div>\n",
       "<style scoped>\n",
       "    .dataframe tbody tr th:only-of-type {\n",
       "        vertical-align: middle;\n",
       "    }\n",
       "\n",
       "    .dataframe tbody tr th {\n",
       "        vertical-align: top;\n",
       "    }\n",
       "\n",
       "    .dataframe thead th {\n",
       "        text-align: right;\n",
       "    }\n",
       "</style>\n",
       "<table border=\"1\" class=\"dataframe\">\n",
       "  <thead>\n",
       "    <tr style=\"text-align: right;\">\n",
       "      <th></th>\n",
       "      <th>fare_amount</th>\n",
       "      <th>pickup_datetime</th>\n",
       "      <th>pickup_longitude</th>\n",
       "      <th>pickup_latitude</th>\n",
       "      <th>dropoff_longitude</th>\n",
       "      <th>dropoff_latitude</th>\n",
       "      <th>passenger_count</th>\n",
       "      <th>distance</th>\n",
       "    </tr>\n",
       "  </thead>\n",
       "  <tbody>\n",
       "    <tr>\n",
       "      <th>0</th>\n",
       "      <td>7.5</td>\n",
       "      <td>2015-05-07 19:52:06 UTC</td>\n",
       "      <td>-73.999817</td>\n",
       "      <td>40.738354</td>\n",
       "      <td>-73.999512</td>\n",
       "      <td>40.723217</td>\n",
       "      <td>1</td>\n",
       "      <td>1.683323</td>\n",
       "    </tr>\n",
       "    <tr>\n",
       "      <th>1</th>\n",
       "      <td>7.7</td>\n",
       "      <td>2009-07-17 20:04:56 UTC</td>\n",
       "      <td>-73.994355</td>\n",
       "      <td>40.728225</td>\n",
       "      <td>-73.994710</td>\n",
       "      <td>40.750325</td>\n",
       "      <td>1</td>\n",
       "      <td>2.457590</td>\n",
       "    </tr>\n",
       "  </tbody>\n",
       "</table>\n",
       "</div>"
      ],
      "text/plain": [
       "   fare_amount          pickup_datetime  pickup_longitude  pickup_latitude  \\\n",
       "0          7.5  2015-05-07 19:52:06 UTC        -73.999817        40.738354   \n",
       "1          7.7  2009-07-17 20:04:56 UTC        -73.994355        40.728225   \n",
       "\n",
       "   dropoff_longitude  dropoff_latitude  passenger_count  distance  \n",
       "0         -73.999512         40.723217                1  1.683323  \n",
       "1         -73.994710         40.750325                1  2.457590  "
      ]
     },
     "execution_count": 33,
     "metadata": {},
     "output_type": "execute_result"
    }
   ],
   "source": [
    "ubers.head(2)"
   ]
  },
  {
   "cell_type": "code",
   "execution_count": 34,
   "id": "9e8ddb34-e868-49b7-aa7e-447ba3e3bc09",
   "metadata": {},
   "outputs": [],
   "source": [
    "corr_matrix2 = ubers.corr()"
   ]
  },
  {
   "cell_type": "code",
   "execution_count": 35,
   "id": "5b3b1c7a-88ed-4959-b917-7416a79ed6ab",
   "metadata": {},
   "outputs": [
    {
     "data": {
      "text/plain": [
       "fare_amount          1.000000\n",
       "distance             0.026068\n",
       "passenger_count      0.011434\n",
       "pickup_longitude     0.007987\n",
       "dropoff_longitude    0.007055\n",
       "pickup_latitude     -0.006466\n",
       "dropoff_latitude    -0.008983\n",
       "Name: fare_amount, dtype: float64"
      ]
     },
     "execution_count": 35,
     "metadata": {},
     "output_type": "execute_result"
    }
   ],
   "source": [
    "# let's see the correlation to the fare prices\n",
    "corr_matrix2[\"fare_amount\"].sort_values(ascending=False)"
   ]
  },
  {
   "cell_type": "markdown",
   "id": "09971c78-286d-4a63-8843-0e54ff900e12",
   "metadata": {},
   "source": [
    "The distance has the highest correlation to the fare amount, but still not a strong correlation\n",
    "\n",
    "Let's see if we can find something to show a stronger correlation to the fare amount. Let's extract the data in the column \"pickup_datetime\" and create a column for the year, month, and hour..."
   ]
  },
  {
   "cell_type": "code",
   "execution_count": 37,
   "id": "f8276d8b-1222-4b29-8db1-a6f8d5b94809",
   "metadata": {},
   "outputs": [],
   "source": [
    "# Get the year, month, and hour from the pickup_datetime column\n",
    "# The hour is calculated by:\n",
    "# 1) Get the hour\n",
    "# 2) Add 1 to the hour if the minutes are >= 30\n",
    "# 3) If adding 1, check to see if the hour is 24, which would mean it needs to be set to 0 \n",
    "pickup_year = []\n",
    "pickup_month = []\n",
    "pickup_hour = []\n",
    "maxHour = 0\n",
    "\n",
    "for i in range(len(ubers)):\n",
    "    temp = ubers[\"pickup_datetime\"].iloc[i]\n",
    "    vals = temp.split(' ')\n",
    "    date = vals[0]\n",
    "    year = int(date[:4])\n",
    "    month = int(date[5:7])\n",
    "    time = vals[1]\n",
    "    hour = int(time[:2])\n",
    "    minutes = int(time[3:5])\n",
    "    if hour > maxHour:\n",
    "        maxHour = hour\n",
    "    if minutes >= 30:\n",
    "        hour += 1\n",
    "        if hour == 24:\n",
    "            hour = 0\n",
    "    pickup_year.append(year)\n",
    "    pickup_month.append(month)\n",
    "    pickup_hour.append(hour)\n",
    "\n",
    "ubers['pickup_year'] = pickup_year\n",
    "ubers['pickup_month'] = pickup_month\n",
    "ubers['pickup_hour'] = pickup_hour"
   ]
  },
  {
   "cell_type": "code",
   "execution_count": 38,
   "id": "541b1073-9f4e-4b27-8fda-ab92812a3627",
   "metadata": {},
   "outputs": [
    {
     "data": {
      "text/html": [
       "<div>\n",
       "<style scoped>\n",
       "    .dataframe tbody tr th:only-of-type {\n",
       "        vertical-align: middle;\n",
       "    }\n",
       "\n",
       "    .dataframe tbody tr th {\n",
       "        vertical-align: top;\n",
       "    }\n",
       "\n",
       "    .dataframe thead th {\n",
       "        text-align: right;\n",
       "    }\n",
       "</style>\n",
       "<table border=\"1\" class=\"dataframe\">\n",
       "  <thead>\n",
       "    <tr style=\"text-align: right;\">\n",
       "      <th></th>\n",
       "      <th>fare_amount</th>\n",
       "      <th>pickup_datetime</th>\n",
       "      <th>pickup_longitude</th>\n",
       "      <th>pickup_latitude</th>\n",
       "      <th>dropoff_longitude</th>\n",
       "      <th>dropoff_latitude</th>\n",
       "      <th>passenger_count</th>\n",
       "      <th>distance</th>\n",
       "      <th>pickup_year</th>\n",
       "      <th>pickup_month</th>\n",
       "      <th>pickup_hour</th>\n",
       "    </tr>\n",
       "  </thead>\n",
       "  <tbody>\n",
       "    <tr>\n",
       "      <th>0</th>\n",
       "      <td>7.5</td>\n",
       "      <td>2015-05-07 19:52:06 UTC</td>\n",
       "      <td>-73.999817</td>\n",
       "      <td>40.738354</td>\n",
       "      <td>-73.999512</td>\n",
       "      <td>40.723217</td>\n",
       "      <td>1</td>\n",
       "      <td>1.683323</td>\n",
       "      <td>2015</td>\n",
       "      <td>5</td>\n",
       "      <td>20</td>\n",
       "    </tr>\n",
       "  </tbody>\n",
       "</table>\n",
       "</div>"
      ],
      "text/plain": [
       "   fare_amount          pickup_datetime  pickup_longitude  pickup_latitude  \\\n",
       "0          7.5  2015-05-07 19:52:06 UTC        -73.999817        40.738354   \n",
       "\n",
       "   dropoff_longitude  dropoff_latitude  passenger_count  distance  \\\n",
       "0         -73.999512         40.723217                1  1.683323   \n",
       "\n",
       "   pickup_year  pickup_month  pickup_hour  \n",
       "0         2015             5           20  "
      ]
     },
     "execution_count": 38,
     "metadata": {},
     "output_type": "execute_result"
    }
   ],
   "source": [
    "ubers.head(1)"
   ]
  },
  {
   "cell_type": "code",
   "execution_count": 39,
   "id": "27ab7805-0c85-440c-bb45-b7bcb2544444",
   "metadata": {},
   "outputs": [],
   "source": [
    "corr_matrix3 = ubers.corr()"
   ]
  },
  {
   "cell_type": "code",
   "execution_count": 40,
   "id": "777c7d5e-c24a-47f1-a84b-1bbfc62275c0",
   "metadata": {},
   "outputs": [
    {
     "data": {
      "text/plain": [
       "fare_amount          1.000000\n",
       "pickup_year          0.120005\n",
       "distance             0.026068\n",
       "pickup_month         0.023715\n",
       "passenger_count      0.011434\n",
       "pickup_longitude     0.007987\n",
       "dropoff_longitude    0.007055\n",
       "pickup_latitude     -0.006466\n",
       "dropoff_latitude    -0.008983\n",
       "pickup_hour         -0.024147\n",
       "Name: fare_amount, dtype: float64"
      ]
     },
     "execution_count": 40,
     "metadata": {},
     "output_type": "execute_result"
    }
   ],
   "source": [
    "# let's see the correlation to the fare prices\n",
    "corr_matrix3[\"fare_amount\"].sort_values(ascending=False)"
   ]
  },
  {
   "cell_type": "markdown",
   "id": "f0d4846a-6ec3-4025-9769-0a48c93912fa",
   "metadata": {},
   "source": [
    "The year shows higher correlation, but still not the level of correlation that I was expecting to get"
   ]
  },
  {
   "cell_type": "code",
   "execution_count": 41,
   "id": "239688e4-a945-4725-a663-0b87951059bc",
   "metadata": {},
   "outputs": [
    {
     "data": {
      "text/plain": [
       "(array([     5,      7,     11, ..., 199885, 199900, 199931], dtype=int64),)"
      ]
     },
     "execution_count": 41,
     "metadata": {},
     "output_type": "execute_result"
    }
   ],
   "source": [
    "np.where(ubers['distance'] == 0)"
   ]
  },
  {
   "cell_type": "markdown",
   "id": "4d961fb9-e742-47d4-8314-fdd9733716f1",
   "metadata": {},
   "source": [
    "Back to the scenario of iffy Uber prices being so high, let's remove unrealistic data/outliers\n",
    "\n",
    "1) remove the ones that have fares above 25, but a distance of 0\n",
    "\n",
    "2) remove the ones that have fares above 50, but a distance < 5\n",
    "\n",
    "3) remove the ones that have fares above 100, but a distance < 10"
   ]
  },
  {
   "cell_type": "code",
   "execution_count": 42,
   "id": "2ae97393-48a2-4594-98e1-73786e4bd11d",
   "metadata": {},
   "outputs": [],
   "source": [
    "indexesToDrop = ubers[(ubers.fare_amount >= 25) & (ubers.distance == 0)].index\n",
    "ubers.drop(indexesToDrop,inplace=True)\n",
    "\n",
    "indexesToDrop = ubers[(ubers.fare_amount >= 50) & (ubers.distance <= 5)].index\n",
    "ubers.drop(indexesToDrop,inplace=True)\n",
    "\n",
    "indexesToDrop = ubers[(ubers.fare_amount >= 100) & (ubers.distance <= 10)].index\n",
    "ubers.drop(indexesToDrop,inplace=True)"
   ]
  },
  {
   "cell_type": "code",
   "execution_count": 43,
   "id": "4d4aace8-c4cf-4629-8a19-f4d6e129a167",
   "metadata": {},
   "outputs": [
    {
     "data": {
      "text/plain": [
       "fare_amount          1.000000\n",
       "pickup_year          0.122956\n",
       "distance             0.028033\n",
       "pickup_month         0.024082\n",
       "dropoff_latitude     0.016059\n",
       "pickup_latitude      0.015607\n",
       "passenger_count      0.014425\n",
       "dropoff_longitude   -0.016718\n",
       "pickup_longitude    -0.019414\n",
       "pickup_hour         -0.022804\n",
       "Name: fare_amount, dtype: float64"
      ]
     },
     "execution_count": 43,
     "metadata": {},
     "output_type": "execute_result"
    }
   ],
   "source": [
    "corr_matrix4 = ubers.corr()\n",
    "# let's see the correlation to the fare prices\n",
    "corr_matrix4[\"fare_amount\"].sort_values(ascending=False)"
   ]
  },
  {
   "cell_type": "code",
   "execution_count": 44,
   "id": "af54bd88-1707-4003-8e58-d5c8e6750c59",
   "metadata": {},
   "outputs": [
    {
     "data": {
      "text/html": [
       "<div>\n",
       "<style scoped>\n",
       "    .dataframe tbody tr th:only-of-type {\n",
       "        vertical-align: middle;\n",
       "    }\n",
       "\n",
       "    .dataframe tbody tr th {\n",
       "        vertical-align: top;\n",
       "    }\n",
       "\n",
       "    .dataframe thead th {\n",
       "        text-align: right;\n",
       "    }\n",
       "</style>\n",
       "<table border=\"1\" class=\"dataframe\">\n",
       "  <thead>\n",
       "    <tr style=\"text-align: right;\">\n",
       "      <th></th>\n",
       "      <th>fare_amount</th>\n",
       "      <th>pickup_datetime</th>\n",
       "      <th>pickup_longitude</th>\n",
       "      <th>pickup_latitude</th>\n",
       "      <th>dropoff_longitude</th>\n",
       "      <th>dropoff_latitude</th>\n",
       "      <th>passenger_count</th>\n",
       "      <th>distance</th>\n",
       "      <th>pickup_year</th>\n",
       "      <th>pickup_month</th>\n",
       "      <th>pickup_hour</th>\n",
       "    </tr>\n",
       "  </thead>\n",
       "  <tbody>\n",
       "    <tr>\n",
       "      <th>0</th>\n",
       "      <td>7.5</td>\n",
       "      <td>2015-05-07 19:52:06 UTC</td>\n",
       "      <td>-73.999817</td>\n",
       "      <td>40.738354</td>\n",
       "      <td>-73.999512</td>\n",
       "      <td>40.723217</td>\n",
       "      <td>1</td>\n",
       "      <td>1.683323</td>\n",
       "      <td>2015</td>\n",
       "      <td>5</td>\n",
       "      <td>20</td>\n",
       "    </tr>\n",
       "    <tr>\n",
       "      <th>1</th>\n",
       "      <td>7.7</td>\n",
       "      <td>2009-07-17 20:04:56 UTC</td>\n",
       "      <td>-73.994355</td>\n",
       "      <td>40.728225</td>\n",
       "      <td>-73.994710</td>\n",
       "      <td>40.750325</td>\n",
       "      <td>1</td>\n",
       "      <td>2.457590</td>\n",
       "      <td>2009</td>\n",
       "      <td>7</td>\n",
       "      <td>20</td>\n",
       "    </tr>\n",
       "  </tbody>\n",
       "</table>\n",
       "</div>"
      ],
      "text/plain": [
       "   fare_amount          pickup_datetime  pickup_longitude  pickup_latitude  \\\n",
       "0          7.5  2015-05-07 19:52:06 UTC        -73.999817        40.738354   \n",
       "1          7.7  2009-07-17 20:04:56 UTC        -73.994355        40.728225   \n",
       "\n",
       "   dropoff_longitude  dropoff_latitude  passenger_count  distance  \\\n",
       "0         -73.999512         40.723217                1  1.683323   \n",
       "1         -73.994710         40.750325                1  2.457590   \n",
       "\n",
       "   pickup_year  pickup_month  pickup_hour  \n",
       "0         2015             5           20  \n",
       "1         2009             7           20  "
      ]
     },
     "execution_count": 44,
     "metadata": {},
     "output_type": "execute_result"
    }
   ],
   "source": [
    "ubers.head(2)"
   ]
  },
  {
   "cell_type": "markdown",
   "id": "4ce1d5ed-e074-4ac1-9c9b-5deeb42ea16e",
   "metadata": {},
   "source": [
    "We don't need pickup_datetime anymore, let's drop that"
   ]
  },
  {
   "cell_type": "code",
   "execution_count": 45,
   "id": "7b2164de-9177-4d1a-ba05-497327b2f47f",
   "metadata": {},
   "outputs": [],
   "source": [
    "ubers = ubers.drop(columns=['pickup_datetime'])"
   ]
  },
  {
   "cell_type": "code",
   "execution_count": 46,
   "id": "72002bba-64a1-4a5e-8220-6278402d02af",
   "metadata": {},
   "outputs": [
    {
     "data": {
      "text/html": [
       "<div>\n",
       "<style scoped>\n",
       "    .dataframe tbody tr th:only-of-type {\n",
       "        vertical-align: middle;\n",
       "    }\n",
       "\n",
       "    .dataframe tbody tr th {\n",
       "        vertical-align: top;\n",
       "    }\n",
       "\n",
       "    .dataframe thead th {\n",
       "        text-align: right;\n",
       "    }\n",
       "</style>\n",
       "<table border=\"1\" class=\"dataframe\">\n",
       "  <thead>\n",
       "    <tr style=\"text-align: right;\">\n",
       "      <th></th>\n",
       "      <th>fare_amount</th>\n",
       "      <th>pickup_longitude</th>\n",
       "      <th>pickup_latitude</th>\n",
       "      <th>dropoff_longitude</th>\n",
       "      <th>dropoff_latitude</th>\n",
       "      <th>passenger_count</th>\n",
       "      <th>distance</th>\n",
       "      <th>pickup_year</th>\n",
       "      <th>pickup_month</th>\n",
       "      <th>pickup_hour</th>\n",
       "    </tr>\n",
       "  </thead>\n",
       "  <tbody>\n",
       "    <tr>\n",
       "      <th>0</th>\n",
       "      <td>7.5</td>\n",
       "      <td>-73.999817</td>\n",
       "      <td>40.738354</td>\n",
       "      <td>-73.999512</td>\n",
       "      <td>40.723217</td>\n",
       "      <td>1</td>\n",
       "      <td>1.683323</td>\n",
       "      <td>2015</td>\n",
       "      <td>5</td>\n",
       "      <td>20</td>\n",
       "    </tr>\n",
       "  </tbody>\n",
       "</table>\n",
       "</div>"
      ],
      "text/plain": [
       "   fare_amount  pickup_longitude  pickup_latitude  dropoff_longitude  \\\n",
       "0          7.5        -73.999817        40.738354         -73.999512   \n",
       "\n",
       "   dropoff_latitude  passenger_count  distance  pickup_year  pickup_month  \\\n",
       "0         40.723217                1  1.683323         2015             5   \n",
       "\n",
       "   pickup_hour  \n",
       "0           20  "
      ]
     },
     "execution_count": 46,
     "metadata": {},
     "output_type": "execute_result"
    }
   ],
   "source": [
    "ubers.head(1)"
   ]
  },
  {
   "cell_type": "markdown",
   "id": "17c7a623-26be-49e2-ae7a-3046d1a02ba1",
   "metadata": {},
   "source": [
    "### 3. StratifiedKFold Cross Validation"
   ]
  },
  {
   "cell_type": "code",
   "execution_count": 56,
   "id": "40dfa09d-b388-4fe6-9682-fe4ceed0f852",
   "metadata": {},
   "outputs": [
    {
     "ename": "ValueError",
     "evalue": "Supported target types are: ('binary', 'multiclass'). Got 'continuous' instead.",
     "output_type": "error",
     "traceback": [
      "\u001b[1;31m---------------------------------------------------------------------------\u001b[0m",
      "\u001b[1;31mValueError\u001b[0m                                Traceback (most recent call last)",
      "\u001b[1;32m<ipython-input-56-514121dd583d>\u001b[0m in \u001b[0;36m<module>\u001b[1;34m\u001b[0m\n\u001b[0;32m      7\u001b[0m \u001b[0mskf\u001b[0m \u001b[1;33m=\u001b[0m \u001b[0mStratifiedKFold\u001b[0m\u001b[1;33m(\u001b[0m\u001b[0mn_splits\u001b[0m\u001b[1;33m=\u001b[0m\u001b[1;36m2\u001b[0m\u001b[1;33m,\u001b[0m \u001b[0mrandom_state\u001b[0m\u001b[1;33m=\u001b[0m\u001b[1;32mNone\u001b[0m\u001b[1;33m,\u001b[0m \u001b[0mshuffle\u001b[0m\u001b[1;33m=\u001b[0m\u001b[1;32mTrue\u001b[0m\u001b[1;33m)\u001b[0m\u001b[1;33m\u001b[0m\u001b[1;33m\u001b[0m\u001b[0m\n\u001b[0;32m      8\u001b[0m \u001b[1;33m\u001b[0m\u001b[0m\n\u001b[1;32m----> 9\u001b[1;33m \u001b[1;32mfor\u001b[0m \u001b[0mtrain_index\u001b[0m\u001b[1;33m,\u001b[0m \u001b[0mtest_index\u001b[0m \u001b[1;32min\u001b[0m \u001b[0mskf\u001b[0m\u001b[1;33m.\u001b[0m\u001b[0msplit\u001b[0m\u001b[1;33m(\u001b[0m\u001b[0mX\u001b[0m\u001b[1;33m,\u001b[0m \u001b[0my\u001b[0m\u001b[1;33m)\u001b[0m\u001b[1;33m:\u001b[0m\u001b[1;33m\u001b[0m\u001b[1;33m\u001b[0m\u001b[0m\n\u001b[0m\u001b[0;32m     10\u001b[0m     \u001b[0mX_train\u001b[0m\u001b[1;33m,\u001b[0m \u001b[0mX_test\u001b[0m \u001b[1;33m=\u001b[0m \u001b[0mX\u001b[0m\u001b[1;33m[\u001b[0m\u001b[0mtrain_index\u001b[0m\u001b[1;33m]\u001b[0m\u001b[1;33m,\u001b[0m \u001b[0mX\u001b[0m\u001b[1;33m[\u001b[0m\u001b[0mtest_index\u001b[0m\u001b[1;33m]\u001b[0m\u001b[1;33m\u001b[0m\u001b[1;33m\u001b[0m\u001b[0m\n\u001b[0;32m     11\u001b[0m     \u001b[0my_train\u001b[0m\u001b[1;33m,\u001b[0m \u001b[0my_test\u001b[0m \u001b[1;33m=\u001b[0m \u001b[0my\u001b[0m\u001b[1;33m[\u001b[0m\u001b[0mtrain_index\u001b[0m\u001b[1;33m]\u001b[0m\u001b[1;33m,\u001b[0m \u001b[0my\u001b[0m\u001b[1;33m[\u001b[0m\u001b[0mtest_index\u001b[0m\u001b[1;33m]\u001b[0m\u001b[1;33m\u001b[0m\u001b[1;33m\u001b[0m\u001b[0m\n",
      "\u001b[1;32m~\\anaconda3\\lib\\site-packages\\sklearn\\model_selection\\_split.py\u001b[0m in \u001b[0;36msplit\u001b[1;34m(self, X, y, groups)\u001b[0m\n\u001b[0;32m    330\u001b[0m                 .format(self.n_splits, n_samples))\n\u001b[0;32m    331\u001b[0m \u001b[1;33m\u001b[0m\u001b[0m\n\u001b[1;32m--> 332\u001b[1;33m         \u001b[1;32mfor\u001b[0m \u001b[0mtrain\u001b[0m\u001b[1;33m,\u001b[0m \u001b[0mtest\u001b[0m \u001b[1;32min\u001b[0m \u001b[0msuper\u001b[0m\u001b[1;33m(\u001b[0m\u001b[1;33m)\u001b[0m\u001b[1;33m.\u001b[0m\u001b[0msplit\u001b[0m\u001b[1;33m(\u001b[0m\u001b[0mX\u001b[0m\u001b[1;33m,\u001b[0m \u001b[0my\u001b[0m\u001b[1;33m,\u001b[0m \u001b[0mgroups\u001b[0m\u001b[1;33m)\u001b[0m\u001b[1;33m:\u001b[0m\u001b[1;33m\u001b[0m\u001b[1;33m\u001b[0m\u001b[0m\n\u001b[0m\u001b[0;32m    333\u001b[0m             \u001b[1;32myield\u001b[0m \u001b[0mtrain\u001b[0m\u001b[1;33m,\u001b[0m \u001b[0mtest\u001b[0m\u001b[1;33m\u001b[0m\u001b[1;33m\u001b[0m\u001b[0m\n\u001b[0;32m    334\u001b[0m \u001b[1;33m\u001b[0m\u001b[0m\n",
      "\u001b[1;32m~\\anaconda3\\lib\\site-packages\\sklearn\\model_selection\\_split.py\u001b[0m in \u001b[0;36msplit\u001b[1;34m(self, X, y, groups)\u001b[0m\n\u001b[0;32m     78\u001b[0m         \u001b[0mX\u001b[0m\u001b[1;33m,\u001b[0m \u001b[0my\u001b[0m\u001b[1;33m,\u001b[0m \u001b[0mgroups\u001b[0m \u001b[1;33m=\u001b[0m \u001b[0mindexable\u001b[0m\u001b[1;33m(\u001b[0m\u001b[0mX\u001b[0m\u001b[1;33m,\u001b[0m \u001b[0my\u001b[0m\u001b[1;33m,\u001b[0m \u001b[0mgroups\u001b[0m\u001b[1;33m)\u001b[0m\u001b[1;33m\u001b[0m\u001b[1;33m\u001b[0m\u001b[0m\n\u001b[0;32m     79\u001b[0m         \u001b[0mindices\u001b[0m \u001b[1;33m=\u001b[0m \u001b[0mnp\u001b[0m\u001b[1;33m.\u001b[0m\u001b[0marange\u001b[0m\u001b[1;33m(\u001b[0m\u001b[0m_num_samples\u001b[0m\u001b[1;33m(\u001b[0m\u001b[0mX\u001b[0m\u001b[1;33m)\u001b[0m\u001b[1;33m)\u001b[0m\u001b[1;33m\u001b[0m\u001b[1;33m\u001b[0m\u001b[0m\n\u001b[1;32m---> 80\u001b[1;33m         \u001b[1;32mfor\u001b[0m \u001b[0mtest_index\u001b[0m \u001b[1;32min\u001b[0m \u001b[0mself\u001b[0m\u001b[1;33m.\u001b[0m\u001b[0m_iter_test_masks\u001b[0m\u001b[1;33m(\u001b[0m\u001b[0mX\u001b[0m\u001b[1;33m,\u001b[0m \u001b[0my\u001b[0m\u001b[1;33m,\u001b[0m \u001b[0mgroups\u001b[0m\u001b[1;33m)\u001b[0m\u001b[1;33m:\u001b[0m\u001b[1;33m\u001b[0m\u001b[1;33m\u001b[0m\u001b[0m\n\u001b[0m\u001b[0;32m     81\u001b[0m             \u001b[0mtrain_index\u001b[0m \u001b[1;33m=\u001b[0m \u001b[0mindices\u001b[0m\u001b[1;33m[\u001b[0m\u001b[0mnp\u001b[0m\u001b[1;33m.\u001b[0m\u001b[0mlogical_not\u001b[0m\u001b[1;33m(\u001b[0m\u001b[0mtest_index\u001b[0m\u001b[1;33m)\u001b[0m\u001b[1;33m]\u001b[0m\u001b[1;33m\u001b[0m\u001b[1;33m\u001b[0m\u001b[0m\n\u001b[0;32m     82\u001b[0m             \u001b[0mtest_index\u001b[0m \u001b[1;33m=\u001b[0m \u001b[0mindices\u001b[0m\u001b[1;33m[\u001b[0m\u001b[0mtest_index\u001b[0m\u001b[1;33m]\u001b[0m\u001b[1;33m\u001b[0m\u001b[1;33m\u001b[0m\u001b[0m\n",
      "\u001b[1;32m~\\anaconda3\\lib\\site-packages\\sklearn\\model_selection\\_split.py\u001b[0m in \u001b[0;36m_iter_test_masks\u001b[1;34m(self, X, y, groups)\u001b[0m\n\u001b[0;32m    691\u001b[0m \u001b[1;33m\u001b[0m\u001b[0m\n\u001b[0;32m    692\u001b[0m     \u001b[1;32mdef\u001b[0m \u001b[0m_iter_test_masks\u001b[0m\u001b[1;33m(\u001b[0m\u001b[0mself\u001b[0m\u001b[1;33m,\u001b[0m \u001b[0mX\u001b[0m\u001b[1;33m,\u001b[0m \u001b[0my\u001b[0m\u001b[1;33m=\u001b[0m\u001b[1;32mNone\u001b[0m\u001b[1;33m,\u001b[0m \u001b[0mgroups\u001b[0m\u001b[1;33m=\u001b[0m\u001b[1;32mNone\u001b[0m\u001b[1;33m)\u001b[0m\u001b[1;33m:\u001b[0m\u001b[1;33m\u001b[0m\u001b[1;33m\u001b[0m\u001b[0m\n\u001b[1;32m--> 693\u001b[1;33m         \u001b[0mtest_folds\u001b[0m \u001b[1;33m=\u001b[0m \u001b[0mself\u001b[0m\u001b[1;33m.\u001b[0m\u001b[0m_make_test_folds\u001b[0m\u001b[1;33m(\u001b[0m\u001b[0mX\u001b[0m\u001b[1;33m,\u001b[0m \u001b[0my\u001b[0m\u001b[1;33m)\u001b[0m\u001b[1;33m\u001b[0m\u001b[1;33m\u001b[0m\u001b[0m\n\u001b[0m\u001b[0;32m    694\u001b[0m         \u001b[1;32mfor\u001b[0m \u001b[0mi\u001b[0m \u001b[1;32min\u001b[0m \u001b[0mrange\u001b[0m\u001b[1;33m(\u001b[0m\u001b[0mself\u001b[0m\u001b[1;33m.\u001b[0m\u001b[0mn_splits\u001b[0m\u001b[1;33m)\u001b[0m\u001b[1;33m:\u001b[0m\u001b[1;33m\u001b[0m\u001b[1;33m\u001b[0m\u001b[0m\n\u001b[0;32m    695\u001b[0m             \u001b[1;32myield\u001b[0m \u001b[0mtest_folds\u001b[0m \u001b[1;33m==\u001b[0m \u001b[0mi\u001b[0m\u001b[1;33m\u001b[0m\u001b[1;33m\u001b[0m\u001b[0m\n",
      "\u001b[1;32m~\\anaconda3\\lib\\site-packages\\sklearn\\model_selection\\_split.py\u001b[0m in \u001b[0;36m_make_test_folds\u001b[1;34m(self, X, y)\u001b[0m\n\u001b[0;32m    643\u001b[0m         \u001b[0mallowed_target_types\u001b[0m \u001b[1;33m=\u001b[0m \u001b[1;33m(\u001b[0m\u001b[1;34m'binary'\u001b[0m\u001b[1;33m,\u001b[0m \u001b[1;34m'multiclass'\u001b[0m\u001b[1;33m)\u001b[0m\u001b[1;33m\u001b[0m\u001b[1;33m\u001b[0m\u001b[0m\n\u001b[0;32m    644\u001b[0m         \u001b[1;32mif\u001b[0m \u001b[0mtype_of_target_y\u001b[0m \u001b[1;32mnot\u001b[0m \u001b[1;32min\u001b[0m \u001b[0mallowed_target_types\u001b[0m\u001b[1;33m:\u001b[0m\u001b[1;33m\u001b[0m\u001b[1;33m\u001b[0m\u001b[0m\n\u001b[1;32m--> 645\u001b[1;33m             raise ValueError(\n\u001b[0m\u001b[0;32m    646\u001b[0m                 'Supported target types are: {}. Got {!r} instead.'.format(\n\u001b[0;32m    647\u001b[0m                     allowed_target_types, type_of_target_y))\n",
      "\u001b[1;31mValueError\u001b[0m: Supported target types are: ('binary', 'multiclass'). Got 'continuous' instead."
     ]
    }
   ],
   "source": [
    "from sklearn.model_selection import StratifiedKFold\n",
    "\n",
    "X = ubers.drop(columns=[\"fare_amount\"])\n",
    "X = X.values\n",
    "y = ubers[\"fare_amount\"].values\n",
    "\n",
    "skf = StratifiedKFold(n_splits=2, random_state=None, shuffle=True)\n",
    "\n",
    "for train_index, test_index in skf.split(X, y):\n",
    "    X_train, X_test = X[train_index], X[test_index]\n",
    "    y_train, y_test = y[train_index], y[test_index]"
   ]
  },
  {
   "cell_type": "markdown",
   "id": "cf6c0955-1c82-4e83-87b7-13e3bdf3f0a0",
   "metadata": {},
   "source": [
    "### 4. Decision Tree Regressor"
   ]
  },
  {
   "cell_type": "code",
   "execution_count": null,
   "id": "fa3e3528-8847-4f65-b29a-961d6337fe53",
   "metadata": {},
   "outputs": [],
   "source": []
  },
  {
   "cell_type": "markdown",
   "id": "c19e1e6b-df01-49a4-b422-f93a7b46ea01",
   "metadata": {},
   "source": [
    "### 5. OvO Classifier"
   ]
  },
  {
   "cell_type": "code",
   "execution_count": null,
   "id": "6da6e2b0-5159-42d9-b747-d0c1a274fe9b",
   "metadata": {},
   "outputs": [],
   "source": []
  },
  {
   "cell_type": "markdown",
   "id": "195b5521-854d-4051-b15f-e8107b838778",
   "metadata": {},
   "source": [
    "### 6. Grid Search Hyperparameter Tuning"
   ]
  },
  {
   "cell_type": "code",
   "execution_count": null,
   "id": "3ad25f74-2ce6-4c3f-a2c3-4f72c2190177",
   "metadata": {},
   "outputs": [],
   "source": []
  },
  {
   "cell_type": "markdown",
   "id": "106064e2-a162-466b-b219-8691ae96b199",
   "metadata": {},
   "source": [
    "### 7. Pipeline"
   ]
  },
  {
   "cell_type": "code",
   "execution_count": null,
   "id": "cd7aefa4-71c8-46d4-8688-defebdd283df",
   "metadata": {},
   "outputs": [],
   "source": []
  }
 ],
 "metadata": {
  "kernelspec": {
   "display_name": "Python 3",
   "language": "python",
   "name": "python3"
  },
  "language_info": {
   "codemirror_mode": {
    "name": "ipython",
    "version": 3
   },
   "file_extension": ".py",
   "mimetype": "text/x-python",
   "name": "python",
   "nbconvert_exporter": "python",
   "pygments_lexer": "ipython3",
   "version": "3.8.8"
  }
 },
 "nbformat": 4,
 "nbformat_minor": 5
}
