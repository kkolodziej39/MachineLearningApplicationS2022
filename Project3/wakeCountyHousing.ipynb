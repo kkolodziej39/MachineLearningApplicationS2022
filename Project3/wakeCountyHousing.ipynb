{
 "cells": [
  {
   "cell_type": "markdown",
   "metadata": {},
   "source": [
    "# Project 3: Wake County Housing Data Set"
   ]
  },
  {
   "cell_type": "markdown",
   "metadata": {},
   "source": [
    "## Getting and Exploring the Data"
   ]
  },
  {
   "cell_type": "code",
   "execution_count": 1,
   "metadata": {},
   "outputs": [
    {
     "data": {
      "text/html": [
       "<div>\n",
       "<style scoped>\n",
       "    .dataframe tbody tr th:only-of-type {\n",
       "        vertical-align: middle;\n",
       "    }\n",
       "\n",
       "    .dataframe tbody tr th {\n",
       "        vertical-align: top;\n",
       "    }\n",
       "\n",
       "    .dataframe thead th {\n",
       "        text-align: right;\n",
       "    }\n",
       "</style>\n",
       "<table border=\"1\" class=\"dataframe\">\n",
       "  <thead>\n",
       "    <tr style=\"text-align: right;\">\n",
       "      <th></th>\n",
       "      <th>Real_Estate_Id</th>\n",
       "      <th>Deeded_Acreage</th>\n",
       "      <th>Total_Sale_Price</th>\n",
       "      <th>Total_Sale_Date</th>\n",
       "      <th>Month_Year_of_Sale</th>\n",
       "      <th>Year_of_Sale</th>\n",
       "      <th>Year_Built</th>\n",
       "      <th>Year_Remodeled</th>\n",
       "      <th>Heated_Area</th>\n",
       "      <th>Num_Stories</th>\n",
       "      <th>Design_Style</th>\n",
       "      <th>Bath</th>\n",
       "      <th>Utilities</th>\n",
       "      <th>Physical_City</th>\n",
       "      <th>Physical_Zip</th>\n",
       "    </tr>\n",
       "  </thead>\n",
       "  <tbody>\n",
       "    <tr>\n",
       "      <th>0</th>\n",
       "      <td>19</td>\n",
       "      <td>0.21</td>\n",
       "      <td>34500</td>\n",
       "      <td>1/1/1974</td>\n",
       "      <td>January 1974</td>\n",
       "      <td>1974</td>\n",
       "      <td>1964</td>\n",
       "      <td>1964</td>\n",
       "      <td>1828</td>\n",
       "      <td>One Story</td>\n",
       "      <td>Split level</td>\n",
       "      <td>2 Bath</td>\n",
       "      <td>ALL</td>\n",
       "      <td>Raleigh</td>\n",
       "      <td>27610.0</td>\n",
       "    </tr>\n",
       "    <tr>\n",
       "      <th>1</th>\n",
       "      <td>20</td>\n",
       "      <td>0.46</td>\n",
       "      <td>35500</td>\n",
       "      <td>5/18/1983</td>\n",
       "      <td>May 1983</td>\n",
       "      <td>1983</td>\n",
       "      <td>1970</td>\n",
       "      <td>1970</td>\n",
       "      <td>1240</td>\n",
       "      <td>One Story</td>\n",
       "      <td>Conventional</td>\n",
       "      <td>1 Bath</td>\n",
       "      <td>E</td>\n",
       "      <td>Raleigh</td>\n",
       "      <td>27610.0</td>\n",
       "    </tr>\n",
       "    <tr>\n",
       "      <th>2</th>\n",
       "      <td>22</td>\n",
       "      <td>0.46</td>\n",
       "      <td>37500</td>\n",
       "      <td>9/16/2004</td>\n",
       "      <td>September 2004</td>\n",
       "      <td>2004</td>\n",
       "      <td>1900</td>\n",
       "      <td>1900</td>\n",
       "      <td>2261</td>\n",
       "      <td>One Story</td>\n",
       "      <td>Conventional</td>\n",
       "      <td>2 Bath</td>\n",
       "      <td>WSE</td>\n",
       "      <td>Wendell</td>\n",
       "      <td>27591.0</td>\n",
       "    </tr>\n",
       "    <tr>\n",
       "      <th>3</th>\n",
       "      <td>25</td>\n",
       "      <td>0.96</td>\n",
       "      <td>70000</td>\n",
       "      <td>1/1/1971</td>\n",
       "      <td>January 1971</td>\n",
       "      <td>1971</td>\n",
       "      <td>1971</td>\n",
       "      <td>1971</td>\n",
       "      <td>3770</td>\n",
       "      <td>One Story</td>\n",
       "      <td>Conventional</td>\n",
       "      <td>Other</td>\n",
       "      <td>WGE</td>\n",
       "      <td>Raleigh</td>\n",
       "      <td>27613.0</td>\n",
       "    </tr>\n",
       "    <tr>\n",
       "      <th>4</th>\n",
       "      <td>30</td>\n",
       "      <td>0.47</td>\n",
       "      <td>380000</td>\n",
       "      <td>8/12/2015</td>\n",
       "      <td>August 2015</td>\n",
       "      <td>2015</td>\n",
       "      <td>1946</td>\n",
       "      <td>2017</td>\n",
       "      <td>1789</td>\n",
       "      <td>One Story</td>\n",
       "      <td>Conventional</td>\n",
       "      <td>2 Bath</td>\n",
       "      <td>ALL</td>\n",
       "      <td>Raleigh</td>\n",
       "      <td>27607.0</td>\n",
       "    </tr>\n",
       "  </tbody>\n",
       "</table>\n",
       "</div>"
      ],
      "text/plain": [
       "   Real_Estate_Id  Deeded_Acreage  Total_Sale_Price Total_Sale_Date  \\\n",
       "0              19            0.21             34500        1/1/1974   \n",
       "1              20            0.46             35500       5/18/1983   \n",
       "2              22            0.46             37500       9/16/2004   \n",
       "3              25            0.96             70000        1/1/1971   \n",
       "4              30            0.47            380000       8/12/2015   \n",
       "\n",
       "  Month_Year_of_Sale  Year_of_Sale  Year_Built  Year_Remodeled  Heated_Area  \\\n",
       "0       January 1974          1974        1964            1964         1828   \n",
       "1           May 1983          1983        1970            1970         1240   \n",
       "2     September 2004          2004        1900            1900         2261   \n",
       "3       January 1971          1971        1971            1971         3770   \n",
       "4        August 2015          2015        1946            2017         1789   \n",
       "\n",
       "  Num_Stories  Design_Style    Bath Utilities Physical_City  Physical_Zip  \n",
       "0   One Story   Split level  2 Bath       ALL       Raleigh       27610.0  \n",
       "1   One Story  Conventional  1 Bath         E       Raleigh       27610.0  \n",
       "2   One Story  Conventional  2 Bath       WSE       Wendell       27591.0  \n",
       "3   One Story  Conventional   Other       WGE       Raleigh       27613.0  \n",
       "4   One Story  Conventional  2 Bath       ALL       Raleigh       27607.0  "
      ]
     },
     "execution_count": 1,
     "metadata": {},
     "output_type": "execute_result"
    }
   ],
   "source": [
    "import pandas as pd\n",
    "housing = pd.read_csv(\"WakeCountyHousing.csv\")\n",
    "housing.head(5)"
   ]
  },
  {
   "cell_type": "code",
   "execution_count": 2,
   "metadata": {},
   "outputs": [
    {
     "name": "stdout",
     "output_type": "stream",
     "text": [
      "<class 'pandas.core.frame.DataFrame'>\n",
      "RangeIndex: 308292 entries, 0 to 308291\n",
      "Data columns (total 15 columns):\n",
      "Real_Estate_Id        308292 non-null int64\n",
      "Deeded_Acreage        308292 non-null float64\n",
      "Total_Sale_Price      308292 non-null int64\n",
      "Total_Sale_Date       308292 non-null object\n",
      "Month_Year_of_Sale    308292 non-null object\n",
      "Year_of_Sale          308292 non-null int64\n",
      "Year_Built            308292 non-null int64\n",
      "Year_Remodeled        308292 non-null int64\n",
      "Heated_Area           308292 non-null int64\n",
      "Num_Stories           308292 non-null object\n",
      "Design_Style          308292 non-null object\n",
      "Bath                  308275 non-null object\n",
      "Utilities             306324 non-null object\n",
      "Physical_City         308183 non-null object\n",
      "Physical_Zip          308146 non-null float64\n",
      "dtypes: float64(2), int64(6), object(7)\n",
      "memory usage: 35.3+ MB\n"
     ]
    }
   ],
   "source": [
    "housing.info()"
   ]
  },
  {
   "cell_type": "markdown",
   "metadata": {},
   "source": [
    "It looks like there are 308,292 entries. However, there are some null entries for Bath, Utilities, Physical_City, and Physical_Zip with these 4 factors having less than 308,292 non-null entries"
   ]
  },
  {
   "cell_type": "code",
   "execution_count": 3,
   "metadata": {},
   "outputs": [
    {
     "data": {
      "text/plain": [
       "'9/9/2020'"
      ]
     },
     "execution_count": 3,
     "metadata": {},
     "output_type": "execute_result"
    }
   ],
   "source": [
    "max(housing['Total_Sale_Date'])"
   ]
  },
  {
   "cell_type": "code",
   "execution_count": 4,
   "metadata": {},
   "outputs": [
    {
     "data": {
      "text/plain": [
       "'1/1/1956'"
      ]
     },
     "execution_count": 4,
     "metadata": {},
     "output_type": "execute_result"
    }
   ],
   "source": [
    "min(housing['Total_Sale_Date'])"
   ]
  },
  {
   "cell_type": "markdown",
   "metadata": {},
   "source": [
    "It looks like the data set is looking at the sales of houses from 1956 to 2020"
   ]
  },
  {
   "cell_type": "markdown",
   "metadata": {},
   "source": [
    "Let's take a look at the unique values of Num_Stories, Design_Style, Bath, Utilities, and Physical_City"
   ]
  },
  {
   "cell_type": "code",
   "execution_count": 6,
   "metadata": {},
   "outputs": [
    {
     "data": {
      "text/plain": [
       "array(['One Story', 'Two Story', 'Other'], dtype=object)"
      ]
     },
     "execution_count": 6,
     "metadata": {},
     "output_type": "execute_result"
    }
   ],
   "source": [
    "housing['Num_Stories'].unique()"
   ]
  },
  {
   "cell_type": "code",
   "execution_count": 11,
   "metadata": {},
   "outputs": [
    {
     "data": {
      "text/plain": [
       "Other        186691\n",
       "One Story     98744\n",
       "Two Story     22857\n",
       "Name: Num_Stories, dtype: int64"
      ]
     },
     "execution_count": 11,
     "metadata": {},
     "output_type": "execute_result"
    }
   ],
   "source": [
    "housing['Num_Stories'].value_counts()"
   ]
  },
  {
   "cell_type": "code",
   "execution_count": 7,
   "metadata": {},
   "outputs": [
    {
     "data": {
      "text/plain": [
       "array(['Split level', 'Conventional', 'Ranch', 'Townhouse', 'Split Foyer',\n",
       "       'Contemporary', 'Modular', 'Colonial', 'Conversion', 'Condo',\n",
       "       'Log', 'Duplex', 'Manuf Multi', 'Cape'], dtype=object)"
      ]
     },
     "execution_count": 7,
     "metadata": {},
     "output_type": "execute_result"
    }
   ],
   "source": [
    "housing['Design_Style'].unique()"
   ]
  },
  {
   "cell_type": "code",
   "execution_count": 8,
   "metadata": {},
   "outputs": [
    {
     "data": {
      "text/plain": [
       "array(['2 Bath', '1 Bath', 'Other', '3 Bath', '3½ Bath', '1 ½ Bath',\n",
       "       '2½ Bath', nan], dtype=object)"
      ]
     },
     "execution_count": 8,
     "metadata": {},
     "output_type": "execute_result"
    }
   ],
   "source": [
    "housing['Bath'].unique()"
   ]
  },
  {
   "cell_type": "code",
   "execution_count": 12,
   "metadata": {},
   "outputs": [
    {
     "data": {
      "text/plain": [
       "2½ Bath     129385\n",
       "2 Bath       57817\n",
       "3½ Bath      54286\n",
       "3 Bath       29079\n",
       "Other        14398\n",
       "1 Bath       12376\n",
       "1 ½ Bath     10934\n",
       "Name: Bath, dtype: int64"
      ]
     },
     "execution_count": 12,
     "metadata": {},
     "output_type": "execute_result"
    }
   ],
   "source": [
    "housing['Bath'].value_counts()"
   ]
  },
  {
   "cell_type": "code",
   "execution_count": 9,
   "metadata": {},
   "outputs": [
    {
     "data": {
      "text/plain": [
       "array(['ALL', 'E', 'WSE', 'WGE', 'WE', nan, 'GE', 'S', 'WSG', 'W', 'SGE',\n",
       "       'G', 'SE', 'SG', 'WG', 'WS'], dtype=object)"
      ]
     },
     "execution_count": 9,
     "metadata": {},
     "output_type": "execute_result"
    }
   ],
   "source": [
    "housing['Utilities'].unique()"
   ]
  },
  {
   "cell_type": "code",
   "execution_count": 10,
   "metadata": {},
   "outputs": [
    {
     "data": {
      "text/plain": [
       "array(['Raleigh', 'Wendell', 'Cary', 'Knightdale', 'Fuquay Varina',\n",
       "       'Garner', 'Apex', 'Wake Forest', 'Holly Springs', 'Zebulon',\n",
       "       'Willow Spring', 'Rolesville', 'New Hill', 'Clayton', 'Durham',\n",
       "       'Morrisville', 'Youngsville', 'Creedmoor', nan, 'Angier'],\n",
       "      dtype=object)"
      ]
     },
     "execution_count": 10,
     "metadata": {},
     "output_type": "execute_result"
    }
   ],
   "source": [
    "housing['Physical_City'].unique()"
   ]
  },
  {
   "cell_type": "markdown",
   "metadata": {},
   "source": [
    "Some takeaways from these: \n",
    "* All of these categorical variables have a reasonable amount of different categories within them that we could deal with for One Hot Encoding\n",
    "* Num_Stories contains an other attribute that contains the majority of the entries. I am going to assume that this just means that it has 3 or more stories, but will need to look further into this\n",
    "* I will need to look into what the different Design_Style categories mean\n",
    "* Bath has a similar category as Num_Stories with Other\n",
    "* I will need to look into what the different Utilities acronyms for categories mean"
   ]
  },
  {
   "cell_type": "code",
   "execution_count": 15,
   "metadata": {},
   "outputs": [
    {
     "data": {
      "image/png": "[encoded data removed]",
      "text/plain": [
       "<Figure size 1440x1080 with 9 Axes>"
      ]
     },
     "metadata": {
      "needs_background": "light"
     },
     "output_type": "display_data"
    }
   ],
   "source": [
    "import matplotlib.pyplot as plt\n",
    "plt = housing.hist(bins=50, figsize=(20,15))"
   ]
  },
  {
   "cell_type": "markdown",
   "metadata": {},
   "source": [
    "# Data Prep"
   ]
  },
  {
   "cell_type": "markdown",
   "metadata": {},
   "source": [
    "Source: https://www.wakegov.com/departments-government/tax-administration/data-files-statistics-and-reports/real-estate-property-data-files\n",
    "\n",
    "Utilities categories:\n",
    "* A: All\n",
    "* E: Electric\n",
    "* G: Gas\n",
    "* W: Water\n",
    "* S: Sewer"
   ]
  },
  {
   "cell_type": "code",
   "execution_count": null,
   "metadata": {},
   "outputs": [],
   "source": []
  }
 ],
 "metadata": {
  "kernelspec": {
   "display_name": "Python 3",
   "language": "python",
   "name": "python3"
  },
  "language_info": {
   "codemirror_mode": {
    "name": "ipython",
    "version": 3
   },
   "file_extension": ".py",
   "mimetype": "text/x-python",
   "name": "python",
   "nbconvert_exporter": "python",
   "pygments_lexer": "ipython3",
   "version": "3.7.4"
  }
 },
 "nbformat": 4,
 "nbformat_minor": 2
}
