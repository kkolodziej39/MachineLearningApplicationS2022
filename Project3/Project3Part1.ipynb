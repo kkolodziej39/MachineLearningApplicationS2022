{
  "nbformat": 4,
  "nbformat_minor": 0,
  "metadata": {
    "colab": {
      "name": "Project3Part1.ipynb",
      "provenance": [],
      "collapsed_sections": []
    },
    "kernelspec": {
      "name": "python3",
      "display_name": "Python 3"
    },
    "language_info": {
      "name": "python"
    }
  },
  "cells": [
    {
      "cell_type": "markdown",
      "source": [
        "# Project 3 Part 1 - Real Estate Dataset\n",
        "#### By: David Hoffman and Kyle Kolodziej"
      ],
      "metadata": {
        "id": "qQ9jS1ZmPcoQ"
      }
    },
    {
      "cell_type": "markdown",
      "source": [
        "### 1. Import Data and Explore Data"
      ],
      "metadata": {
        "id": "mBB55zMKOyqj"
      }
    },
    {
      "cell_type": "code",
      "source": [
        "import os\n",
        "\n",
        "os.environ['KAGGLE_USERNAME'] = \"davidhoffman11\" # username from the json file\n",
        "os.environ['KAGGLE_KEY'] = \"43c89d1d4b7f8d60a63d6d531fc0b018\" # key from the json file\n",
        "\n",
        "!kaggle datasets download -d nkanda/wake-county-housing-nc"
      ],
      "metadata": {
        "id": "2A0WF61XOyPl",
        "colab": {
          "base_uri": "https://localhost:8080/"
        },
        "outputId": "444d0a05-8ead-4c59-8ca3-6e98b40255b9"
      },
      "execution_count": null,
      "outputs": [
        {
          "output_type": "stream",
          "name": "stdout",
          "text": [
            "Downloading wake-county-housing-nc.zip to /content\n",
            " 97% 5.00M/5.15M [00:00<00:00, 16.1MB/s]\n",
            "100% 5.15M/5.15M [00:00<00:00, 16.5MB/s]\n"
          ]
        }
      ]
    },
    {
      "cell_type": "code",
      "source": [
        "import numpy as np \n",
        "import pandas as pd\n",
        "from zipfile import ZipFile\n",
        "\n",
        "# specifying the zip file name\n",
        "file_name = \"wake-county-housing-nc.zip\"\n",
        "  \n",
        "# opening the zip file in READ mode\n",
        "with ZipFile(file_name, 'r') as zip:  \n",
        "    # extracting all the files\n",
        "    print('Extracting all the files now...')\n",
        "    zip.extractall('./data')\n",
        "    print('Done!')"
      ],
      "metadata": {
        "colab": {
          "base_uri": "https://localhost:8080/"
        },
        "id": "bci4-qNlPsj_",
        "outputId": "8fd6f77d-054f-42d0-d202-1ff171a538c4"
      },
      "execution_count": null,
      "outputs": [
        {
          "output_type": "stream",
          "name": "stdout",
          "text": [
            "Extracting all the files now...\n",
            "Done!\n"
          ]
        }
      ]
    },
    {
      "cell_type": "code",
      "source": [
        "# read in combined dataset into a dataframe\n",
        "housing = pd.read_csv(\"/content/data/WakeCountyHousing.csv\") \n",
        "\n",
        "housing.head(5)"
      ],
      "metadata": {
        "colab": {
          "base_uri": "https://localhost:8080/"
        },
        "id": "3qfPSojrP7L4",
        "outputId": "a94b4487-76a4-4cf1-d28b-ec529d602c79"
      },
      "execution_count": null,
      "outputs": [
        {
          "output_type": "execute_result",
          "data": {
            "text/plain": [
              "   Real_Estate_Id  Deeded_Acreage  Total_Sale_Price Total_Sale_Date  \\\n",
              "0              19            0.21             34500        1/1/1974   \n",
              "1              20            0.46             35500       5/18/1983   \n",
              "2              22            0.46             37500       9/16/2004   \n",
              "3              25            0.96             70000        1/1/1971   \n",
              "4              30            0.47            380000       8/12/2015   \n",
              "\n",
              "  Month_Year_of_Sale  Year_of_Sale  Year_Built  Year_Remodeled  Heated_Area  \\\n",
              "0       January 1974          1974        1964            1964         1828   \n",
              "1           May 1983          1983        1970            1970         1240   \n",
              "2     September 2004          2004        1900            1900         2261   \n",
              "3       January 1971          1971        1971            1971         3770   \n",
              "4        August 2015          2015        1946            2017         1789   \n",
              "\n",
              "  Num_Stories  Design_Style    Bath Utilities Physical_City  Physical_Zip  \n",
              "0   One Story   Split level  2 Bath       ALL       Raleigh       27610.0  \n",
              "1   One Story  Conventional  1 Bath         E       Raleigh       27610.0  \n",
              "2   One Story  Conventional  2 Bath       WSE       Wendell       27591.0  \n",
              "3   One Story  Conventional   Other       WGE       Raleigh       27613.0  \n",
              "4   One Story  Conventional  2 Bath       ALL       Raleigh       27607.0  "
            ],
            "text/html": [
              "\n",
              "  <div id=\"df-02560a0a-711e-4092-82d3-7800601901c5\">\n",
              "    <div class=\"colab-df-container\">\n",
              "      <div>\n",
              "<style scoped>\n",
              "    .dataframe tbody tr th:only-of-type {\n",
              "        vertical-align: middle;\n",
              "    }\n",
              "\n",
              "    .dataframe tbody tr th {\n",
              "        vertical-align: top;\n",
              "    }\n",
              "\n",
              "    .dataframe thead th {\n",
              "        text-align: right;\n",
              "    }\n",
              "</style>\n",
              "<table border=\"1\" class=\"dataframe\">\n",
              "  <thead>\n",
              "    <tr style=\"text-align: right;\">\n",
              "      <th></th>\n",
              "      <th>Real_Estate_Id</th>\n",
              "      <th>Deeded_Acreage</th>\n",
              "      <th>Total_Sale_Price</th>\n",
              "      <th>Total_Sale_Date</th>\n",
              "      <th>Month_Year_of_Sale</th>\n",
              "      <th>Year_of_Sale</th>\n",
              "      <th>Year_Built</th>\n",
              "      <th>Year_Remodeled</th>\n",
              "      <th>Heated_Area</th>\n",
              "      <th>Num_Stories</th>\n",
              "      <th>Design_Style</th>\n",
              "      <th>Bath</th>\n",
              "      <th>Utilities</th>\n",
              "      <th>Physical_City</th>\n",
              "      <th>Physical_Zip</th>\n",
              "    </tr>\n",
              "  </thead>\n",
              "  <tbody>\n",
              "    <tr>\n",
              "      <th>0</th>\n",
              "      <td>19</td>\n",
              "      <td>0.21</td>\n",
              "      <td>34500</td>\n",
              "      <td>1/1/1974</td>\n",
              "      <td>January 1974</td>\n",
              "      <td>1974</td>\n",
              "      <td>1964</td>\n",
              "      <td>1964</td>\n",
              "      <td>1828</td>\n",
              "      <td>One Story</td>\n",
              "      <td>Split level</td>\n",
              "      <td>2 Bath</td>\n",
              "      <td>ALL</td>\n",
              "      <td>Raleigh</td>\n",
              "      <td>27610.0</td>\n",
              "    </tr>\n",
              "    <tr>\n",
              "      <th>1</th>\n",
              "      <td>20</td>\n",
              "      <td>0.46</td>\n",
              "      <td>35500</td>\n",
              "      <td>5/18/1983</td>\n",
              "      <td>May 1983</td>\n",
              "      <td>1983</td>\n",
              "      <td>1970</td>\n",
              "      <td>1970</td>\n",
              "      <td>1240</td>\n",
              "      <td>One Story</td>\n",
              "      <td>Conventional</td>\n",
              "      <td>1 Bath</td>\n",
              "      <td>E</td>\n",
              "      <td>Raleigh</td>\n",
              "      <td>27610.0</td>\n",
              "    </tr>\n",
              "    <tr>\n",
              "      <th>2</th>\n",
              "      <td>22</td>\n",
              "      <td>0.46</td>\n",
              "      <td>37500</td>\n",
              "      <td>9/16/2004</td>\n",
              "      <td>September 2004</td>\n",
              "      <td>2004</td>\n",
              "      <td>1900</td>\n",
              "      <td>1900</td>\n",
              "      <td>2261</td>\n",
              "      <td>One Story</td>\n",
              "      <td>Conventional</td>\n",
              "      <td>2 Bath</td>\n",
              "      <td>WSE</td>\n",
              "      <td>Wendell</td>\n",
              "      <td>27591.0</td>\n",
              "    </tr>\n",
              "    <tr>\n",
              "      <th>3</th>\n",
              "      <td>25</td>\n",
              "      <td>0.96</td>\n",
              "      <td>70000</td>\n",
              "      <td>1/1/1971</td>\n",
              "      <td>January 1971</td>\n",
              "      <td>1971</td>\n",
              "      <td>1971</td>\n",
              "      <td>1971</td>\n",
              "      <td>3770</td>\n",
              "      <td>One Story</td>\n",
              "      <td>Conventional</td>\n",
              "      <td>Other</td>\n",
              "      <td>WGE</td>\n",
              "      <td>Raleigh</td>\n",
              "      <td>27613.0</td>\n",
              "    </tr>\n",
              "    <tr>\n",
              "      <th>4</th>\n",
              "      <td>30</td>\n",
              "      <td>0.47</td>\n",
              "      <td>380000</td>\n",
              "      <td>8/12/2015</td>\n",
              "      <td>August 2015</td>\n",
              "      <td>2015</td>\n",
              "      <td>1946</td>\n",
              "      <td>2017</td>\n",
              "      <td>1789</td>\n",
              "      <td>One Story</td>\n",
              "      <td>Conventional</td>\n",
              "      <td>2 Bath</td>\n",
              "      <td>ALL</td>\n",
              "      <td>Raleigh</td>\n",
              "      <td>27607.0</td>\n",
              "    </tr>\n",
              "  </tbody>\n",
              "</table>\n",
              "</div>\n",
              "      <button class=\"colab-df-convert\" onclick=\"convertToInteractive('df-02560a0a-711e-4092-82d3-7800601901c5')\"\n",
              "              title=\"Convert this dataframe to an interactive table.\"\n",
              "              style=\"display:none;\">\n",
              "        \n",
              "  <svg xmlns=\"http://www.w3.org/2000/svg\" height=\"24px\"viewBox=\"0 0 24 24\"\n",
              "       width=\"24px\">\n",
              "    <path d=\"M0 0h24v24H0V0z\" fill=\"none\"/>\n",
              "    <path d=\"M18.56 5.44l.94 2.06.94-2.06 2.06-.94-2.06-.94-.94-2.06-.94 2.06-2.06.94zm-11 1L8.5 8.5l.94-2.06 2.06-.94-2.06-.94L8.5 2.5l-.94 2.06-2.06.94zm10 10l.94 2.06.94-2.06 2.06-.94-2.06-.94-.94-2.06-.94 2.06-2.06.94z\"/><path d=\"M17.41 7.96l-1.37-1.37c-.4-.4-.92-.59-1.43-.59-.52 0-1.04.2-1.43.59L10.3 9.45l-7.72 7.72c-.78.78-.78 2.05 0 2.83L4 21.41c.39.39.9.59 1.41.59.51 0 1.02-.2 1.41-.59l7.78-7.78 2.81-2.81c.8-.78.8-2.07 0-2.86zM5.41 20L4 18.59l7.72-7.72 1.47 1.35L5.41 20z\"/>\n",
              "  </svg>\n",
              "      </button>\n",
              "      \n",
              "  <style>\n",
              "    .colab-df-container {\n",
              "      display:flex;\n",
              "      flex-wrap:wrap;\n",
              "      gap: 12px;\n",
              "    }\n",
              "\n",
              "    .colab-df-convert {\n",
              "      background-color: #E8F0FE;\n",
              "      border: none;\n",
              "      border-radius: 50%;\n",
              "      cursor: pointer;\n",
              "      display: none;\n",
              "      fill: #1967D2;\n",
              "      height: 32px;\n",
              "      padding: 0 0 0 0;\n",
              "      width: 32px;\n",
              "    }\n",
              "\n",
              "    .colab-df-convert:hover {\n",
              "      background-color: #E2EBFA;\n",
              "      box-shadow: 0px 1px 2px rgba(60, 64, 67, 0.3), 0px 1px 3px 1px rgba(60, 64, 67, 0.15);\n",
              "      fill: #174EA6;\n",
              "    }\n",
              "\n",
              "    [theme=dark] .colab-df-convert {\n",
              "      background-color: #3B4455;\n",
              "      fill: #D2E3FC;\n",
              "    }\n",
              "\n",
              "    [theme=dark] .colab-df-convert:hover {\n",
              "      background-color: #434B5C;\n",
              "      box-shadow: 0px 1px 3px 1px rgba(0, 0, 0, 0.15);\n",
              "      filter: drop-shadow(0px 1px 2px rgba(0, 0, 0, 0.3));\n",
              "      fill: #FFFFFF;\n",
              "    }\n",
              "  </style>\n",
              "\n",
              "      <script>\n",
              "        const buttonEl =\n",
              "          document.querySelector('#df-02560a0a-711e-4092-82d3-7800601901c5 button.colab-df-convert');\n",
              "        buttonEl.style.display =\n",
              "          google.colab.kernel.accessAllowed ? 'block' : 'none';\n",
              "\n",
              "        async function convertToInteractive(key) {\n",
              "          const element = document.querySelector('#df-02560a0a-711e-4092-82d3-7800601901c5');\n",
              "          const dataTable =\n",
              "            await google.colab.kernel.invokeFunction('convertToInteractive',\n",
              "                                                     [key], {});\n",
              "          if (!dataTable) return;\n",
              "\n",
              "          const docLinkHtml = 'Like what you see? Visit the ' +\n",
              "            '<a target=\"_blank\" href=https://colab.research.google.com/notebooks/data_table.ipynb>data table notebook</a>'\n",
              "            + ' to learn more about interactive tables.';\n",
              "          element.innerHTML = '';\n",
              "          dataTable['output_type'] = 'display_data';\n",
              "          await google.colab.output.renderOutput(dataTable, element);\n",
              "          const docLink = document.createElement('div');\n",
              "          docLink.innerHTML = docLinkHtml;\n",
              "          element.appendChild(docLink);\n",
              "        }\n",
              "      </script>\n",
              "    </div>\n",
              "  </div>\n",
              "  "
            ]
          },
          "metadata": {},
          "execution_count": 3
        }
      ]
    },
    {
      "cell_type": "code",
      "source": [
        "# check for null values\n",
        "housing.isnull().sum()"
      ],
      "metadata": {
        "colab": {
          "base_uri": "https://localhost:8080/"
        },
        "id": "FrUulzM-NIzr",
        "outputId": "4e0fdd4e-15e9-4ea2-dac6-906bd4a336e8"
      },
      "execution_count": null,
      "outputs": [
        {
          "output_type": "execute_result",
          "data": {
            "text/plain": [
              "Real_Estate_Id           0\n",
              "Deeded_Acreage           0\n",
              "Total_Sale_Price         0\n",
              "Total_Sale_Date          0\n",
              "Month_Year_of_Sale       0\n",
              "Year_of_Sale             0\n",
              "Year_Built               0\n",
              "Year_Remodeled           0\n",
              "Heated_Area              0\n",
              "Num_Stories              0\n",
              "Design_Style             0\n",
              "Bath                    17\n",
              "Utilities             1968\n",
              "Physical_City          109\n",
              "Physical_Zip           146\n",
              "dtype: int64"
            ]
          },
          "metadata": {},
          "execution_count": 4
        }
      ]
    },
    {
      "cell_type": "markdown",
      "source": [
        "Most of the data within this dataset is not missing; however, there is some data missing within the bath, utilities, physical city, and physical zip categories.  I do not think that any of these categories will be easy to impute, but we will decide how to deal with the missing data later."
      ],
      "metadata": {
        "id": "kR-iGGDWNVhQ"
      }
    },
    {
      "cell_type": "code",
      "source": [
        "max(housing['Total_Sale_Date'])"
      ],
      "metadata": {
        "colab": {
          "base_uri": "https://localhost:8080/"
        },
        "id": "XrsqY4JyNnz7",
        "outputId": "43250e7d-f46f-4275-9b51-9a199f272892"
      },
      "execution_count": null,
      "outputs": [
        {
          "output_type": "execute_result",
          "data": {
            "text/plain": [
              "'9/9/2020'"
            ],
            "application/vnd.google.colaboratory.intrinsic+json": {
              "type": "string"
            }
          },
          "metadata": {},
          "execution_count": 5
        }
      ]
    },
    {
      "cell_type": "code",
      "source": [
        "min(housing['Total_Sale_Date'])"
      ],
      "metadata": {
        "colab": {
          "base_uri": "https://localhost:8080/"
        },
        "id": "nDApg19TN5CZ",
        "outputId": "3810d43c-0400-48ad-f704-8cca483bd7c6"
      },
      "execution_count": null,
      "outputs": [
        {
          "output_type": "execute_result",
          "data": {
            "text/plain": [
              "'1/1/1956'"
            ],
            "application/vnd.google.colaboratory.intrinsic+json": {
              "type": "string"
            }
          },
          "metadata": {},
          "execution_count": 6
        }
      ]
    },
    {
      "cell_type": "markdown",
      "source": [
        "The dataset contains homes that have been sold between January 1, 1956 and September 9, 2020."
      ],
      "metadata": {
        "id": "ISkoFUJeOCHT"
      }
    },
    {
      "cell_type": "code",
      "source": [
        "housing['Num_Stories'].unique()"
      ],
      "metadata": {
        "colab": {
          "base_uri": "https://localhost:8080/"
        },
        "id": "n8BtxPj_OOGp",
        "outputId": "2c19611e-c752-4ef9-83bb-3aaeda6208cb"
      },
      "execution_count": null,
      "outputs": [
        {
          "output_type": "execute_result",
          "data": {
            "text/plain": [
              "array(['One Story', 'Two Story', 'Other'], dtype=object)"
            ]
          },
          "metadata": {},
          "execution_count": 7
        }
      ]
    },
    {
      "cell_type": "code",
      "source": [
        "housing['Num_Stories'].value_counts()"
      ],
      "metadata": {
        "colab": {
          "base_uri": "https://localhost:8080/"
        },
        "id": "UAW_E_UwOaGd",
        "outputId": "948d826a-ac5b-43b3-b938-d49213fb8539"
      },
      "execution_count": null,
      "outputs": [
        {
          "output_type": "execute_result",
          "data": {
            "text/plain": [
              "Other        186691\n",
              "One Story     98744\n",
              "Two Story     22857\n",
              "Name: Num_Stories, dtype: int64"
            ]
          },
          "metadata": {},
          "execution_count": 8
        }
      ]
    },
    {
      "cell_type": "markdown",
      "source": [
        "The houses within this dataset are either listed as 1-story, 2-story, or other with other being by far the most numerous category.  Behind other, 1-story homes are significantly more numerous than 2-story homes.  Additionally, I believe that this \"other\" category could be a good way to solve the missing data for bath, utilities, physical city, and physical zip by replacing all of the missing data with the cateogory of \"other\"."
      ],
      "metadata": {
        "id": "dSPCeK7aOblz"
      }
    },
    {
      "cell_type": "code",
      "source": [
        "housing['Design_Style'].unique()"
      ],
      "metadata": {
        "colab": {
          "base_uri": "https://localhost:8080/"
        },
        "id": "x4saXVW-O9z5",
        "outputId": "f13d8188-4250-4092-88b4-31b35c38b83a"
      },
      "execution_count": null,
      "outputs": [
        {
          "output_type": "execute_result",
          "data": {
            "text/plain": [
              "array(['Split level', 'Conventional', 'Ranch', 'Townhouse', 'Split Foyer',\n",
              "       'Contemporary', 'Modular', 'Colonial', 'Conversion', 'Condo',\n",
              "       'Log', 'Duplex', 'Manuf Multi', 'Cape'], dtype=object)"
            ]
          },
          "metadata": {},
          "execution_count": 9
        }
      ]
    },
    {
      "cell_type": "code",
      "source": [
        "housing['Design_Style'].value_counts()"
      ],
      "metadata": {
        "colab": {
          "base_uri": "https://localhost:8080/"
        },
        "id": "kLT18HOeP060",
        "outputId": "8bc7c3c7-52c6-477f-8535-0aeb8179b478"
      },
      "execution_count": null,
      "outputs": [
        {
          "output_type": "execute_result",
          "data": {
            "text/plain": [
              "Conventional    231961\n",
              "Townhouse        46636\n",
              "Condo            11997\n",
              "Ranch             7462\n",
              "Split level       7111\n",
              "Split Foyer       2157\n",
              "Contemporary       636\n",
              "Modular            201\n",
              "Log                 79\n",
              "Colonial            31\n",
              "Cape                 8\n",
              "Conversion           6\n",
              "Duplex               4\n",
              "Manuf Multi          3\n",
              "Name: Design_Style, dtype: int64"
            ]
          },
          "metadata": {},
          "execution_count": 10
        }
      ]
    },
    {
      "cell_type": "markdown",
      "source": [
        "There are 14 different categories of design style within this dataset with conventional being by far the most common and manuf multi being the least common.  Each of these different categories will not serve our model very well if they stay categorical, but this will be solved by one-hot encoding this feature."
      ],
      "metadata": {
        "id": "8dyhOePKP7hN"
      }
    },
    {
      "cell_type": "code",
      "source": [
        "housing['Bath'].unique()"
      ],
      "metadata": {
        "colab": {
          "base_uri": "https://localhost:8080/"
        },
        "id": "-q3ZI-6AQS9C",
        "outputId": "f5a79544-4ce1-4742-9e96-85cad76c8a41"
      },
      "execution_count": null,
      "outputs": [
        {
          "output_type": "execute_result",
          "data": {
            "text/plain": [
              "array(['2 Bath', '1 Bath', 'Other', '3 Bath', '3½ Bath', '1 ½ Bath',\n",
              "       '2½ Bath', nan], dtype=object)"
            ]
          },
          "metadata": {},
          "execution_count": 11
        }
      ]
    },
    {
      "cell_type": "code",
      "source": [
        "housing['Bath'].value_counts()"
      ],
      "metadata": {
        "colab": {
          "base_uri": "https://localhost:8080/"
        },
        "id": "pYvyEGqVQYp2",
        "outputId": "5cc93bb3-f891-4baa-8b11-21ff2de2a62d"
      },
      "execution_count": null,
      "outputs": [
        {
          "output_type": "execute_result",
          "data": {
            "text/plain": [
              "2½ Bath     129385\n",
              "2 Bath       57817\n",
              "3½ Bath      54286\n",
              "3 Bath       29079\n",
              "Other        14398\n",
              "1 Bath       12376\n",
              "1 ½ Bath     10934\n",
              "Name: Bath, dtype: int64"
            ]
          },
          "metadata": {},
          "execution_count": 12
        }
      ]
    },
    {
      "cell_type": "markdown",
      "source": [
        "There are 7 different categories within the bath feature with the two and a half bath being the most common and the 1 and a half bath being the least common.  This feature also has a category named \"other\" similar to the num_stories feature so I will have to use a different designation for the missing data."
      ],
      "metadata": {
        "id": "scrpS-N2Qca9"
      }
    },
    {
      "cell_type": "code",
      "source": [
        "housing['Utilities'].unique()"
      ],
      "metadata": {
        "colab": {
          "base_uri": "https://localhost:8080/"
        },
        "id": "cvU1ttN-Tx1J",
        "outputId": "0c0aeb25-7471-48ac-ea4a-dd22199be08e"
      },
      "execution_count": null,
      "outputs": [
        {
          "output_type": "execute_result",
          "data": {
            "text/plain": [
              "array(['ALL', 'E', 'WSE', 'WGE', 'WE', nan, 'GE', 'S', 'WSG', 'W', 'SGE',\n",
              "       'G', 'SE', 'SG', 'WG', 'WS'], dtype=object)"
            ]
          },
          "metadata": {},
          "execution_count": 13
        }
      ]
    },
    {
      "cell_type": "code",
      "source": [
        "housing['Utilities'].value_counts()"
      ],
      "metadata": {
        "colab": {
          "base_uri": "https://localhost:8080/"
        },
        "id": "cE4nKZbvT2Yp",
        "outputId": "7ccde57e-25f2-4996-c0d2-cbbe4a3a17cb"
      },
      "execution_count": null,
      "outputs": [
        {
          "output_type": "execute_result",
          "data": {
            "text/plain": [
              "ALL    229668\n",
              "E       45702\n",
              "WSE     14059\n",
              "WE      13178\n",
              "WGE      1599\n",
              "GE       1434\n",
              "SGE       280\n",
              "SE        164\n",
              "WS        130\n",
              "W          46\n",
              "S          26\n",
              "WSG        19\n",
              "WG         12\n",
              "G           5\n",
              "SG          2\n",
              "Name: Utilities, dtype: int64"
            ]
          },
          "metadata": {},
          "execution_count": 14
        }
      ]
    },
    {
      "cell_type": "markdown",
      "source": [
        "Within the utilities feature, there are 15 different categories with \"all\" being the most common.  Within this feature, E stands for electric, W stands for water, S stands for sewer, and G stands for gas.  All means that the house has all four utilities and any combination of E, W, S, or G means that those utilities are included within the home."
      ],
      "metadata": {
        "id": "1-f7l4PTUPVo"
      }
    },
    {
      "cell_type": "code",
      "source": [
        "housing['Physical_City'].unique()"
      ],
      "metadata": {
        "colab": {
          "base_uri": "https://localhost:8080/"
        },
        "id": "KUj2sVDVVYlV",
        "outputId": "fda023f3-8c5f-439a-ebbb-9fb5197ba28c"
      },
      "execution_count": null,
      "outputs": [
        {
          "output_type": "execute_result",
          "data": {
            "text/plain": [
              "array(['Raleigh', 'Wendell', 'Cary', 'Knightdale', 'Fuquay Varina',\n",
              "       'Garner', 'Apex', 'Wake Forest', 'Holly Springs', 'Zebulon',\n",
              "       'Willow Spring', 'Rolesville', 'New Hill', 'Clayton', 'Durham',\n",
              "       'Morrisville', 'Youngsville', 'Creedmoor', nan, 'Angier'],\n",
              "      dtype=object)"
            ]
          },
          "metadata": {},
          "execution_count": 15
        }
      ]
    },
    {
      "cell_type": "code",
      "source": [
        "housing['Physical_City'].value_counts()"
      ],
      "metadata": {
        "colab": {
          "base_uri": "https://localhost:8080/"
        },
        "id": "d3qGKo6UVh47",
        "outputId": "08b27865-5e73-4f9d-f3e0-c2ae0a3c84dd"
      },
      "execution_count": null,
      "outputs": [
        {
          "output_type": "execute_result",
          "data": {
            "text/plain": [
              "Raleigh          144089\n",
              "Cary              46172\n",
              "Apex              26537\n",
              "Wake Forest       20759\n",
              "Fuquay Varina     14991\n",
              "Holly Springs     13236\n",
              "Garner             9593\n",
              "Knightdale         8901\n",
              "Morrisville        7208\n",
              "Wendell            5578\n",
              "Zebulon            4157\n",
              "Rolesville         2621\n",
              "Willow Spring      2387\n",
              "New Hill           1005\n",
              "Clayton             322\n",
              "Angier              261\n",
              "Youngsville         159\n",
              "Durham              138\n",
              "Creedmoor            69\n",
              "Name: Physical_City, dtype: int64"
            ]
          },
          "metadata": {},
          "execution_count": 16
        }
      ]
    },
    {
      "cell_type": "markdown",
      "source": [
        "There are 19 different cities within the dataset with Raleigh being the most common likely because it is the largest of the 19.  On the other hand, Creedmoor is the least common and also one of the smaller cities on the list."
      ],
      "metadata": {
        "id": "bFyIWWPJVmc2"
      }
    },
    {
      "cell_type": "markdown",
      "source": [
        "### 2. Clean the Data"
      ],
      "metadata": {
        "id": "n2msUDNcXuXy"
      }
    },
    {
      "cell_type": "code",
      "source": [
        "housing = housing.dropna()\n",
        "housing.pop('Month_Year_of_Sale')\n",
        "housing.isnull().sum()"
      ],
      "metadata": {
        "colab": {
          "base_uri": "https://localhost:8080/"
        },
        "id": "1SIf-UzMXx3J",
        "outputId": "24e7920b-a08c-4d5e-839f-54768a306145"
      },
      "execution_count": null,
      "outputs": [
        {
          "output_type": "execute_result",
          "data": {
            "text/plain": [
              "Real_Estate_Id      0\n",
              "Deeded_Acreage      0\n",
              "Total_Sale_Price    0\n",
              "Total_Sale_Date     0\n",
              "Year_of_Sale        0\n",
              "Year_Built          0\n",
              "Year_Remodeled      0\n",
              "Heated_Area         0\n",
              "Num_Stories         0\n",
              "Design_Style        0\n",
              "Bath                0\n",
              "Utilities           0\n",
              "Physical_City       0\n",
              "Physical_Zip        0\n",
              "dtype: int64"
            ]
          },
          "metadata": {},
          "execution_count": 17
        }
      ]
    },
    {
      "cell_type": "markdown",
      "source": [
        "With the code above I removed all of the rows from the dataset that have missing values.  As stated in the previous section, the features that contained missing values would be impossible to impute and due to the large size of the dataset I decided that we could drop the rows with missing data entirely without effecting our prediction. Additionally, I decided to drop the Month_Year_of_Sale variable entirely because I felt like this was redundant information as the date of sale was already listed as a feature. Finally, as you can see from the output above, there is no longer any missing data within the dataframe after conducting this operation and we can move on."
      ],
      "metadata": {
        "id": "lBPB-yLufzUA"
      }
    },
    {
      "cell_type": "markdown",
      "source": [
        "### 3. Use a One-Hot Encoder"
      ],
      "metadata": {
        "id": "iMEnhpOt-yfo"
      }
    },
    {
      "cell_type": "code",
      "source": [
        "# one-hot encode categorical variables that do not have distinct heirarchy\n",
        "df_ohe = pd.get_dummies(housing[['Design_Style','Utilities','Physical_City']])\n",
        "\n",
        "housing_ohe = pd.concat([housing,df_ohe],axis=1)\n",
        "housing_ohe.drop(['Design_Style','Utilities','Physical_City'],axis=1, inplace=True)\n",
        "\n",
        "housing_ohe.head(5)"
      ],
      "metadata": {
        "colab": {
          "base_uri": "https://localhost:8080/"
        },
        "id": "SnaoFQZ_-26l",
        "outputId": "3d05c903-79b2-45d0-a7d4-b1360ec7bab2"
      },
      "execution_count": null,
      "outputs": [
        {
          "output_type": "execute_result",
          "data": {
            "text/plain": [
              "   Real_Estate_Id  Deeded_Acreage  Total_Sale_Price Total_Sale_Date  \\\n",
              "0              19            0.21             34500        1/1/1974   \n",
              "1              20            0.46             35500       5/18/1983   \n",
              "2              22            0.46             37500       9/16/2004   \n",
              "3              25            0.96             70000        1/1/1971   \n",
              "4              30            0.47            380000       8/12/2015   \n",
              "\n",
              "   Year_of_Sale  Year_Built  Year_Remodeled  Heated_Area Num_Stories    Bath  \\\n",
              "0          1974        1964            1964         1828   One Story  2 Bath   \n",
              "1          1983        1970            1970         1240   One Story  1 Bath   \n",
              "2          2004        1900            1900         2261   One Story  2 Bath   \n",
              "3          1971        1971            1971         3770   One Story   Other   \n",
              "4          2015        1946            2017         1789   One Story  2 Bath   \n",
              "\n",
              "   ...  Physical_City_Knightdale  Physical_City_Morrisville  \\\n",
              "0  ...                         0                          0   \n",
              "1  ...                         0                          0   \n",
              "2  ...                         0                          0   \n",
              "3  ...                         0                          0   \n",
              "4  ...                         0                          0   \n",
              "\n",
              "   Physical_City_New Hill  Physical_City_Raleigh  Physical_City_Rolesville  \\\n",
              "0                       0                      1                         0   \n",
              "1                       0                      1                         0   \n",
              "2                       0                      0                         0   \n",
              "3                       0                      1                         0   \n",
              "4                       0                      1                         0   \n",
              "\n",
              "   Physical_City_Wake Forest  Physical_City_Wendell  \\\n",
              "0                          0                      0   \n",
              "1                          0                      0   \n",
              "2                          0                      1   \n",
              "3                          0                      0   \n",
              "4                          0                      0   \n",
              "\n",
              "   Physical_City_Willow Spring  Physical_City_Youngsville  \\\n",
              "0                            0                          0   \n",
              "1                            0                          0   \n",
              "2                            0                          0   \n",
              "3                            0                          0   \n",
              "4                            0                          0   \n",
              "\n",
              "   Physical_City_Zebulon  \n",
              "0                      0  \n",
              "1                      0  \n",
              "2                      0  \n",
              "3                      0  \n",
              "4                      0  \n",
              "\n",
              "[5 rows x 59 columns]"
            ],
            "text/html": [
              "\n",
              "  <div id=\"df-9d7db816-2e42-4298-a1fd-06fba2a579db\">\n",
              "    <div class=\"colab-df-container\">\n",
              "      <div>\n",
              "<style scoped>\n",
              "    .dataframe tbody tr th:only-of-type {\n",
              "        vertical-align: middle;\n",
              "    }\n",
              "\n",
              "    .dataframe tbody tr th {\n",
              "        vertical-align: top;\n",
              "    }\n",
              "\n",
              "    .dataframe thead th {\n",
              "        text-align: right;\n",
              "    }\n",
              "</style>\n",
              "<table border=\"1\" class=\"dataframe\">\n",
              "  <thead>\n",
              "    <tr style=\"text-align: right;\">\n",
              "      <th></th>\n",
              "      <th>Real_Estate_Id</th>\n",
              "      <th>Deeded_Acreage</th>\n",
              "      <th>Total_Sale_Price</th>\n",
              "      <th>Total_Sale_Date</th>\n",
              "      <th>Year_of_Sale</th>\n",
              "      <th>Year_Built</th>\n",
              "      <th>Year_Remodeled</th>\n",
              "      <th>Heated_Area</th>\n",
              "      <th>Num_Stories</th>\n",
              "      <th>Bath</th>\n",
              "      <th>...</th>\n",
              "      <th>Physical_City_Knightdale</th>\n",
              "      <th>Physical_City_Morrisville</th>\n",
              "      <th>Physical_City_New Hill</th>\n",
              "      <th>Physical_City_Raleigh</th>\n",
              "      <th>Physical_City_Rolesville</th>\n",
              "      <th>Physical_City_Wake Forest</th>\n",
              "      <th>Physical_City_Wendell</th>\n",
              "      <th>Physical_City_Willow Spring</th>\n",
              "      <th>Physical_City_Youngsville</th>\n",
              "      <th>Physical_City_Zebulon</th>\n",
              "    </tr>\n",
              "  </thead>\n",
              "  <tbody>\n",
              "    <tr>\n",
              "      <th>0</th>\n",
              "      <td>19</td>\n",
              "      <td>0.21</td>\n",
              "      <td>34500</td>\n",
              "      <td>1/1/1974</td>\n",
              "      <td>1974</td>\n",
              "      <td>1964</td>\n",
              "      <td>1964</td>\n",
              "      <td>1828</td>\n",
              "      <td>One Story</td>\n",
              "      <td>2 Bath</td>\n",
              "      <td>...</td>\n",
              "      <td>0</td>\n",
              "      <td>0</td>\n",
              "      <td>0</td>\n",
              "      <td>1</td>\n",
              "      <td>0</td>\n",
              "      <td>0</td>\n",
              "      <td>0</td>\n",
              "      <td>0</td>\n",
              "      <td>0</td>\n",
              "      <td>0</td>\n",
              "    </tr>\n",
              "    <tr>\n",
              "      <th>1</th>\n",
              "      <td>20</td>\n",
              "      <td>0.46</td>\n",
              "      <td>35500</td>\n",
              "      <td>5/18/1983</td>\n",
              "      <td>1983</td>\n",
              "      <td>1970</td>\n",
              "      <td>1970</td>\n",
              "      <td>1240</td>\n",
              "      <td>One Story</td>\n",
              "      <td>1 Bath</td>\n",
              "      <td>...</td>\n",
              "      <td>0</td>\n",
              "      <td>0</td>\n",
              "      <td>0</td>\n",
              "      <td>1</td>\n",
              "      <td>0</td>\n",
              "      <td>0</td>\n",
              "      <td>0</td>\n",
              "      <td>0</td>\n",
              "      <td>0</td>\n",
              "      <td>0</td>\n",
              "    </tr>\n",
              "    <tr>\n",
              "      <th>2</th>\n",
              "      <td>22</td>\n",
              "      <td>0.46</td>\n",
              "      <td>37500</td>\n",
              "      <td>9/16/2004</td>\n",
              "      <td>2004</td>\n",
              "      <td>1900</td>\n",
              "      <td>1900</td>\n",
              "      <td>2261</td>\n",
              "      <td>One Story</td>\n",
              "      <td>2 Bath</td>\n",
              "      <td>...</td>\n",
              "      <td>0</td>\n",
              "      <td>0</td>\n",
              "      <td>0</td>\n",
              "      <td>0</td>\n",
              "      <td>0</td>\n",
              "      <td>0</td>\n",
              "      <td>1</td>\n",
              "      <td>0</td>\n",
              "      <td>0</td>\n",
              "      <td>0</td>\n",
              "    </tr>\n",
              "    <tr>\n",
              "      <th>3</th>\n",
              "      <td>25</td>\n",
              "      <td>0.96</td>\n",
              "      <td>70000</td>\n",
              "      <td>1/1/1971</td>\n",
              "      <td>1971</td>\n",
              "      <td>1971</td>\n",
              "      <td>1971</td>\n",
              "      <td>3770</td>\n",
              "      <td>One Story</td>\n",
              "      <td>Other</td>\n",
              "      <td>...</td>\n",
              "      <td>0</td>\n",
              "      <td>0</td>\n",
              "      <td>0</td>\n",
              "      <td>1</td>\n",
              "      <td>0</td>\n",
              "      <td>0</td>\n",
              "      <td>0</td>\n",
              "      <td>0</td>\n",
              "      <td>0</td>\n",
              "      <td>0</td>\n",
              "    </tr>\n",
              "    <tr>\n",
              "      <th>4</th>\n",
              "      <td>30</td>\n",
              "      <td>0.47</td>\n",
              "      <td>380000</td>\n",
              "      <td>8/12/2015</td>\n",
              "      <td>2015</td>\n",
              "      <td>1946</td>\n",
              "      <td>2017</td>\n",
              "      <td>1789</td>\n",
              "      <td>One Story</td>\n",
              "      <td>2 Bath</td>\n",
              "      <td>...</td>\n",
              "      <td>0</td>\n",
              "      <td>0</td>\n",
              "      <td>0</td>\n",
              "      <td>1</td>\n",
              "      <td>0</td>\n",
              "      <td>0</td>\n",
              "      <td>0</td>\n",
              "      <td>0</td>\n",
              "      <td>0</td>\n",
              "      <td>0</td>\n",
              "    </tr>\n",
              "  </tbody>\n",
              "</table>\n",
              "<p>5 rows × 59 columns</p>\n",
              "</div>\n",
              "      <button class=\"colab-df-convert\" onclick=\"convertToInteractive('df-9d7db816-2e42-4298-a1fd-06fba2a579db')\"\n",
              "              title=\"Convert this dataframe to an interactive table.\"\n",
              "              style=\"display:none;\">\n",
              "        \n",
              "  <svg xmlns=\"http://www.w3.org/2000/svg\" height=\"24px\"viewBox=\"0 0 24 24\"\n",
              "       width=\"24px\">\n",
              "    <path d=\"M0 0h24v24H0V0z\" fill=\"none\"/>\n",
              "    <path d=\"M18.56 5.44l.94 2.06.94-2.06 2.06-.94-2.06-.94-.94-2.06-.94 2.06-2.06.94zm-11 1L8.5 8.5l.94-2.06 2.06-.94-2.06-.94L8.5 2.5l-.94 2.06-2.06.94zm10 10l.94 2.06.94-2.06 2.06-.94-2.06-.94-.94-2.06-.94 2.06-2.06.94z\"/><path d=\"M17.41 7.96l-1.37-1.37c-.4-.4-.92-.59-1.43-.59-.52 0-1.04.2-1.43.59L10.3 9.45l-7.72 7.72c-.78.78-.78 2.05 0 2.83L4 21.41c.39.39.9.59 1.41.59.51 0 1.02-.2 1.41-.59l7.78-7.78 2.81-2.81c.8-.78.8-2.07 0-2.86zM5.41 20L4 18.59l7.72-7.72 1.47 1.35L5.41 20z\"/>\n",
              "  </svg>\n",
              "      </button>\n",
              "      \n",
              "  <style>\n",
              "    .colab-df-container {\n",
              "      display:flex;\n",
              "      flex-wrap:wrap;\n",
              "      gap: 12px;\n",
              "    }\n",
              "\n",
              "    .colab-df-convert {\n",
              "      background-color: #E8F0FE;\n",
              "      border: none;\n",
              "      border-radius: 50%;\n",
              "      cursor: pointer;\n",
              "      display: none;\n",
              "      fill: #1967D2;\n",
              "      height: 32px;\n",
              "      padding: 0 0 0 0;\n",
              "      width: 32px;\n",
              "    }\n",
              "\n",
              "    .colab-df-convert:hover {\n",
              "      background-color: #E2EBFA;\n",
              "      box-shadow: 0px 1px 2px rgba(60, 64, 67, 0.3), 0px 1px 3px 1px rgba(60, 64, 67, 0.15);\n",
              "      fill: #174EA6;\n",
              "    }\n",
              "\n",
              "    [theme=dark] .colab-df-convert {\n",
              "      background-color: #3B4455;\n",
              "      fill: #D2E3FC;\n",
              "    }\n",
              "\n",
              "    [theme=dark] .colab-df-convert:hover {\n",
              "      background-color: #434B5C;\n",
              "      box-shadow: 0px 1px 3px 1px rgba(0, 0, 0, 0.15);\n",
              "      filter: drop-shadow(0px 1px 2px rgba(0, 0, 0, 0.3));\n",
              "      fill: #FFFFFF;\n",
              "    }\n",
              "  </style>\n",
              "\n",
              "      <script>\n",
              "        const buttonEl =\n",
              "          document.querySelector('#df-9d7db816-2e42-4298-a1fd-06fba2a579db button.colab-df-convert');\n",
              "        buttonEl.style.display =\n",
              "          google.colab.kernel.accessAllowed ? 'block' : 'none';\n",
              "\n",
              "        async function convertToInteractive(key) {\n",
              "          const element = document.querySelector('#df-9d7db816-2e42-4298-a1fd-06fba2a579db');\n",
              "          const dataTable =\n",
              "            await google.colab.kernel.invokeFunction('convertToInteractive',\n",
              "                                                     [key], {});\n",
              "          if (!dataTable) return;\n",
              "\n",
              "          const docLinkHtml = 'Like what you see? Visit the ' +\n",
              "            '<a target=\"_blank\" href=https://colab.research.google.com/notebooks/data_table.ipynb>data table notebook</a>'\n",
              "            + ' to learn more about interactive tables.';\n",
              "          element.innerHTML = '';\n",
              "          dataTable['output_type'] = 'display_data';\n",
              "          await google.colab.output.renderOutput(dataTable, element);\n",
              "          const docLink = document.createElement('div');\n",
              "          docLink.innerHTML = docLinkHtml;\n",
              "          element.appendChild(docLink);\n",
              "        }\n",
              "      </script>\n",
              "    </div>\n",
              "  </div>\n",
              "  "
            ]
          },
          "metadata": {},
          "execution_count": 18
        }
      ]
    },
    {
      "cell_type": "markdown",
      "source": [
        "The code above serves to one-hot encode 3 of the major categorical variables within the dataset: design style, utilities, and physical city.  The first line of code creates a new, temporary dataframe with the one hot encoded columns.  Then, I combined the temporary dataframe with a new dataframe I titled housing_ohe and dropped the original categorical columns that I one-hot encoded.  As you can see, the one-hot encoding seperates each category within the original features into its own feature column and gives each row either a 1 or a 0 with the 1 indicating that the category listed in the title of the column is present in that row."
      ],
      "metadata": {
        "id": "GVvyy0dJkiBv"
      }
    },
    {
      "cell_type": "markdown",
      "source": [
        "### 4. Use an Ordinal Encoder"
      ],
      "metadata": {
        "id": "2YS-BACSD5Oi"
      }
    },
    {
      "cell_type": "code",
      "source": [
        "# ordinally encode heirarchical categorical variables\n",
        "# num_stories, baths\n",
        "\n",
        "num_stories_mapper = {\"One Story\":1, \"Two Story\":2, \"Other\":3}\n",
        "housing_ohe[\"Num_Stories\"] = housing_ohe[\"Num_Stories\"].replace(num_stories_mapper)\n",
        "\n",
        "baths_mapper = {\"1 Bath\":1, \"1 1/2 Bath\":2, \"2 Bath\":3, \"2 1/2 Bath\":4, \"3 Bath\":5, \"3 1/2 Bath\":6,\"Other\":7}\n",
        "housing_ohe[\"Bath\"] = housing_ohe[\"Bath\"].replace(baths_mapper)\n",
        "\n",
        "housing_ohe.head(5)"
      ],
      "metadata": {
        "id": "CJRJ6AXQD_Wf",
        "colab": {
          "base_uri": "https://localhost:8080/"
        },
        "outputId": "b530dc1b-b818-48b4-f4ab-a2cfa67c15fa"
      },
      "execution_count": null,
      "outputs": [
        {
          "output_type": "execute_result",
          "data": {
            "text/plain": [
              "   Real_Estate_Id  Deeded_Acreage  Total_Sale_Price Total_Sale_Date  \\\n",
              "0              19            0.21             34500        1/1/1974   \n",
              "1              20            0.46             35500       5/18/1983   \n",
              "2              22            0.46             37500       9/16/2004   \n",
              "3              25            0.96             70000        1/1/1971   \n",
              "4              30            0.47            380000       8/12/2015   \n",
              "\n",
              "   Year_of_Sale  Year_Built  Year_Remodeled  Heated_Area  Num_Stories Bath  \\\n",
              "0          1974        1964            1964         1828            1    3   \n",
              "1          1983        1970            1970         1240            1    1   \n",
              "2          2004        1900            1900         2261            1    3   \n",
              "3          1971        1971            1971         3770            1    7   \n",
              "4          2015        1946            2017         1789            1    3   \n",
              "\n",
              "   ...  Physical_City_Knightdale  Physical_City_Morrisville  \\\n",
              "0  ...                         0                          0   \n",
              "1  ...                         0                          0   \n",
              "2  ...                         0                          0   \n",
              "3  ...                         0                          0   \n",
              "4  ...                         0                          0   \n",
              "\n",
              "   Physical_City_New Hill  Physical_City_Raleigh  Physical_City_Rolesville  \\\n",
              "0                       0                      1                         0   \n",
              "1                       0                      1                         0   \n",
              "2                       0                      0                         0   \n",
              "3                       0                      1                         0   \n",
              "4                       0                      1                         0   \n",
              "\n",
              "   Physical_City_Wake Forest  Physical_City_Wendell  \\\n",
              "0                          0                      0   \n",
              "1                          0                      0   \n",
              "2                          0                      1   \n",
              "3                          0                      0   \n",
              "4                          0                      0   \n",
              "\n",
              "   Physical_City_Willow Spring  Physical_City_Youngsville  \\\n",
              "0                            0                          0   \n",
              "1                            0                          0   \n",
              "2                            0                          0   \n",
              "3                            0                          0   \n",
              "4                            0                          0   \n",
              "\n",
              "   Physical_City_Zebulon  \n",
              "0                      0  \n",
              "1                      0  \n",
              "2                      0  \n",
              "3                      0  \n",
              "4                      0  \n",
              "\n",
              "[5 rows x 59 columns]"
            ],
            "text/html": [
              "\n",
              "  <div id=\"df-2a6b8493-5d6d-419a-87a1-968ec79a6b71\">\n",
              "    <div class=\"colab-df-container\">\n",
              "      <div>\n",
              "<style scoped>\n",
              "    .dataframe tbody tr th:only-of-type {\n",
              "        vertical-align: middle;\n",
              "    }\n",
              "\n",
              "    .dataframe tbody tr th {\n",
              "        vertical-align: top;\n",
              "    }\n",
              "\n",
              "    .dataframe thead th {\n",
              "        text-align: right;\n",
              "    }\n",
              "</style>\n",
              "<table border=\"1\" class=\"dataframe\">\n",
              "  <thead>\n",
              "    <tr style=\"text-align: right;\">\n",
              "      <th></th>\n",
              "      <th>Real_Estate_Id</th>\n",
              "      <th>Deeded_Acreage</th>\n",
              "      <th>Total_Sale_Price</th>\n",
              "      <th>Total_Sale_Date</th>\n",
              "      <th>Year_of_Sale</th>\n",
              "      <th>Year_Built</th>\n",
              "      <th>Year_Remodeled</th>\n",
              "      <th>Heated_Area</th>\n",
              "      <th>Num_Stories</th>\n",
              "      <th>Bath</th>\n",
              "      <th>...</th>\n",
              "      <th>Physical_City_Knightdale</th>\n",
              "      <th>Physical_City_Morrisville</th>\n",
              "      <th>Physical_City_New Hill</th>\n",
              "      <th>Physical_City_Raleigh</th>\n",
              "      <th>Physical_City_Rolesville</th>\n",
              "      <th>Physical_City_Wake Forest</th>\n",
              "      <th>Physical_City_Wendell</th>\n",
              "      <th>Physical_City_Willow Spring</th>\n",
              "      <th>Physical_City_Youngsville</th>\n",
              "      <th>Physical_City_Zebulon</th>\n",
              "    </tr>\n",
              "  </thead>\n",
              "  <tbody>\n",
              "    <tr>\n",
              "      <th>0</th>\n",
              "      <td>19</td>\n",
              "      <td>0.21</td>\n",
              "      <td>34500</td>\n",
              "      <td>1/1/1974</td>\n",
              "      <td>1974</td>\n",
              "      <td>1964</td>\n",
              "      <td>1964</td>\n",
              "      <td>1828</td>\n",
              "      <td>1</td>\n",
              "      <td>3</td>\n",
              "      <td>...</td>\n",
              "      <td>0</td>\n",
              "      <td>0</td>\n",
              "      <td>0</td>\n",
              "      <td>1</td>\n",
              "      <td>0</td>\n",
              "      <td>0</td>\n",
              "      <td>0</td>\n",
              "      <td>0</td>\n",
              "      <td>0</td>\n",
              "      <td>0</td>\n",
              "    </tr>\n",
              "    <tr>\n",
              "      <th>1</th>\n",
              "      <td>20</td>\n",
              "      <td>0.46</td>\n",
              "      <td>35500</td>\n",
              "      <td>5/18/1983</td>\n",
              "      <td>1983</td>\n",
              "      <td>1970</td>\n",
              "      <td>1970</td>\n",
              "      <td>1240</td>\n",
              "      <td>1</td>\n",
              "      <td>1</td>\n",
              "      <td>...</td>\n",
              "      <td>0</td>\n",
              "      <td>0</td>\n",
              "      <td>0</td>\n",
              "      <td>1</td>\n",
              "      <td>0</td>\n",
              "      <td>0</td>\n",
              "      <td>0</td>\n",
              "      <td>0</td>\n",
              "      <td>0</td>\n",
              "      <td>0</td>\n",
              "    </tr>\n",
              "    <tr>\n",
              "      <th>2</th>\n",
              "      <td>22</td>\n",
              "      <td>0.46</td>\n",
              "      <td>37500</td>\n",
              "      <td>9/16/2004</td>\n",
              "      <td>2004</td>\n",
              "      <td>1900</td>\n",
              "      <td>1900</td>\n",
              "      <td>2261</td>\n",
              "      <td>1</td>\n",
              "      <td>3</td>\n",
              "      <td>...</td>\n",
              "      <td>0</td>\n",
              "      <td>0</td>\n",
              "      <td>0</td>\n",
              "      <td>0</td>\n",
              "      <td>0</td>\n",
              "      <td>0</td>\n",
              "      <td>1</td>\n",
              "      <td>0</td>\n",
              "      <td>0</td>\n",
              "      <td>0</td>\n",
              "    </tr>\n",
              "    <tr>\n",
              "      <th>3</th>\n",
              "      <td>25</td>\n",
              "      <td>0.96</td>\n",
              "      <td>70000</td>\n",
              "      <td>1/1/1971</td>\n",
              "      <td>1971</td>\n",
              "      <td>1971</td>\n",
              "      <td>1971</td>\n",
              "      <td>3770</td>\n",
              "      <td>1</td>\n",
              "      <td>7</td>\n",
              "      <td>...</td>\n",
              "      <td>0</td>\n",
              "      <td>0</td>\n",
              "      <td>0</td>\n",
              "      <td>1</td>\n",
              "      <td>0</td>\n",
              "      <td>0</td>\n",
              "      <td>0</td>\n",
              "      <td>0</td>\n",
              "      <td>0</td>\n",
              "      <td>0</td>\n",
              "    </tr>\n",
              "    <tr>\n",
              "      <th>4</th>\n",
              "      <td>30</td>\n",
              "      <td>0.47</td>\n",
              "      <td>380000</td>\n",
              "      <td>8/12/2015</td>\n",
              "      <td>2015</td>\n",
              "      <td>1946</td>\n",
              "      <td>2017</td>\n",
              "      <td>1789</td>\n",
              "      <td>1</td>\n",
              "      <td>3</td>\n",
              "      <td>...</td>\n",
              "      <td>0</td>\n",
              "      <td>0</td>\n",
              "      <td>0</td>\n",
              "      <td>1</td>\n",
              "      <td>0</td>\n",
              "      <td>0</td>\n",
              "      <td>0</td>\n",
              "      <td>0</td>\n",
              "      <td>0</td>\n",
              "      <td>0</td>\n",
              "    </tr>\n",
              "  </tbody>\n",
              "</table>\n",
              "<p>5 rows × 59 columns</p>\n",
              "</div>\n",
              "      <button class=\"colab-df-convert\" onclick=\"convertToInteractive('df-2a6b8493-5d6d-419a-87a1-968ec79a6b71')\"\n",
              "              title=\"Convert this dataframe to an interactive table.\"\n",
              "              style=\"display:none;\">\n",
              "        \n",
              "  <svg xmlns=\"http://www.w3.org/2000/svg\" height=\"24px\"viewBox=\"0 0 24 24\"\n",
              "       width=\"24px\">\n",
              "    <path d=\"M0 0h24v24H0V0z\" fill=\"none\"/>\n",
              "    <path d=\"M18.56 5.44l.94 2.06.94-2.06 2.06-.94-2.06-.94-.94-2.06-.94 2.06-2.06.94zm-11 1L8.5 8.5l.94-2.06 2.06-.94-2.06-.94L8.5 2.5l-.94 2.06-2.06.94zm10 10l.94 2.06.94-2.06 2.06-.94-2.06-.94-.94-2.06-.94 2.06-2.06.94z\"/><path d=\"M17.41 7.96l-1.37-1.37c-.4-.4-.92-.59-1.43-.59-.52 0-1.04.2-1.43.59L10.3 9.45l-7.72 7.72c-.78.78-.78 2.05 0 2.83L4 21.41c.39.39.9.59 1.41.59.51 0 1.02-.2 1.41-.59l7.78-7.78 2.81-2.81c.8-.78.8-2.07 0-2.86zM5.41 20L4 18.59l7.72-7.72 1.47 1.35L5.41 20z\"/>\n",
              "  </svg>\n",
              "      </button>\n",
              "      \n",
              "  <style>\n",
              "    .colab-df-container {\n",
              "      display:flex;\n",
              "      flex-wrap:wrap;\n",
              "      gap: 12px;\n",
              "    }\n",
              "\n",
              "    .colab-df-convert {\n",
              "      background-color: #E8F0FE;\n",
              "      border: none;\n",
              "      border-radius: 50%;\n",
              "      cursor: pointer;\n",
              "      display: none;\n",
              "      fill: #1967D2;\n",
              "      height: 32px;\n",
              "      padding: 0 0 0 0;\n",
              "      width: 32px;\n",
              "    }\n",
              "\n",
              "    .colab-df-convert:hover {\n",
              "      background-color: #E2EBFA;\n",
              "      box-shadow: 0px 1px 2px rgba(60, 64, 67, 0.3), 0px 1px 3px 1px rgba(60, 64, 67, 0.15);\n",
              "      fill: #174EA6;\n",
              "    }\n",
              "\n",
              "    [theme=dark] .colab-df-convert {\n",
              "      background-color: #3B4455;\n",
              "      fill: #D2E3FC;\n",
              "    }\n",
              "\n",
              "    [theme=dark] .colab-df-convert:hover {\n",
              "      background-color: #434B5C;\n",
              "      box-shadow: 0px 1px 3px 1px rgba(0, 0, 0, 0.15);\n",
              "      filter: drop-shadow(0px 1px 2px rgba(0, 0, 0, 0.3));\n",
              "      fill: #FFFFFF;\n",
              "    }\n",
              "  </style>\n",
              "\n",
              "      <script>\n",
              "        const buttonEl =\n",
              "          document.querySelector('#df-2a6b8493-5d6d-419a-87a1-968ec79a6b71 button.colab-df-convert');\n",
              "        buttonEl.style.display =\n",
              "          google.colab.kernel.accessAllowed ? 'block' : 'none';\n",
              "\n",
              "        async function convertToInteractive(key) {\n",
              "          const element = document.querySelector('#df-2a6b8493-5d6d-419a-87a1-968ec79a6b71');\n",
              "          const dataTable =\n",
              "            await google.colab.kernel.invokeFunction('convertToInteractive',\n",
              "                                                     [key], {});\n",
              "          if (!dataTable) return;\n",
              "\n",
              "          const docLinkHtml = 'Like what you see? Visit the ' +\n",
              "            '<a target=\"_blank\" href=https://colab.research.google.com/notebooks/data_table.ipynb>data table notebook</a>'\n",
              "            + ' to learn more about interactive tables.';\n",
              "          element.innerHTML = '';\n",
              "          dataTable['output_type'] = 'display_data';\n",
              "          await google.colab.output.renderOutput(dataTable, element);\n",
              "          const docLink = document.createElement('div');\n",
              "          docLink.innerHTML = docLinkHtml;\n",
              "          element.appendChild(docLink);\n",
              "        }\n",
              "      </script>\n",
              "    </div>\n",
              "  </div>\n",
              "  "
            ]
          },
          "metadata": {},
          "execution_count": 19
        }
      ]
    },
    {
      "cell_type": "markdown",
      "source": [
        "With the code above, I ordinally encoded both the num_stories and the bath features to numerically represent these categorical variables.  I chose to ordinally encode these features rather than one-hot encode them because both of these features have a natural heirarchy with one-story being more than two-story and 1 bath being more than 2 baths so I thought it would be more effective to represent them as nominal variables rather than simple categorical variables.  The ordinal encoding should help our model achieve a better prediction."
      ],
      "metadata": {
        "id": "5XJG5cTosS6p"
      }
    },
    {
      "cell_type": "markdown",
      "source": [
        "### 5. Use K-fold Cross-Validation"
      ],
      "metadata": {
        "id": "bLErpSXKuTNk"
      }
    },
    {
      "cell_type": "code",
      "source": [
        "from sklearn.model_selection import KFold\n",
        "\n",
        "X = housing_ohe.drop(columns=[\"Total_Sale_Price\"])\n",
        "y = housing_ohe(\"Total_Sale_Price\")\n",
        "\n",
        "kf = KFold(n_splits=2, random_state=None, shuffle=False)\n",
        "\n",
        "for train_index, test_index in kf.split(X):\n",
        "  X_train, X_test = X[train_index], X[test_index]\n",
        "  y_train, y_test = y[train_index], y[test_index]"
      ],
      "metadata": {
        "id": "tdBhLORywQry",
        "colab": {
          "base_uri": "https://localhost:8080/"
        },
        "outputId": "d5f2f4f2-0197-41ae-be70-b2a64c99b397"
      },
      "execution_count": 23,
      "outputs": [
        {
          "output_type": "error",
          "ename": "KeyError",
          "evalue": "ignored",
          "traceback": [
            "\u001b[0;31m---------------------------------------------------------------------------\u001b[0m",
            "\u001b[0;31mKeyError\u001b[0m                                  Traceback (most recent call last)",
            "\u001b[0;32m<ipython-input-23-9fef06bf9b3c>\u001b[0m in \u001b[0;36m<module>\u001b[0;34m()\u001b[0m\n\u001b[1;32m      1\u001b[0m \u001b[0;32mfrom\u001b[0m \u001b[0msklearn\u001b[0m\u001b[0;34m.\u001b[0m\u001b[0mmodel_selection\u001b[0m \u001b[0;32mimport\u001b[0m \u001b[0mKFold\u001b[0m\u001b[0;34m\u001b[0m\u001b[0;34m\u001b[0m\u001b[0m\n\u001b[1;32m      2\u001b[0m \u001b[0;34m\u001b[0m\u001b[0m\n\u001b[0;32m----> 3\u001b[0;31m \u001b[0mX\u001b[0m \u001b[0;34m=\u001b[0m \u001b[0mhousing_ohe\u001b[0m\u001b[0;34m.\u001b[0m\u001b[0mdrop\u001b[0m\u001b[0;34m(\u001b[0m\u001b[0mcolumns\u001b[0m\u001b[0;34m=\u001b[0m\u001b[0;34m[\u001b[0m\u001b[0;34m\"Total_Sale_Price\"\u001b[0m\u001b[0;34m]\u001b[0m\u001b[0;34m)\u001b[0m\u001b[0;34m\u001b[0m\u001b[0;34m\u001b[0m\u001b[0m\n\u001b[0m\u001b[1;32m      4\u001b[0m \u001b[0my\u001b[0m \u001b[0;34m=\u001b[0m \u001b[0mhousing_ohe\u001b[0m\u001b[0;34m(\u001b[0m\u001b[0;34m\"Total_Sale_Price\"\u001b[0m\u001b[0;34m)\u001b[0m\u001b[0;34m\u001b[0m\u001b[0;34m\u001b[0m\u001b[0m\n\u001b[1;32m      5\u001b[0m \u001b[0;34m\u001b[0m\u001b[0m\n",
            "\u001b[0;32m/usr/local/lib/python3.7/dist-packages/pandas/util/_decorators.py\u001b[0m in \u001b[0;36mwrapper\u001b[0;34m(*args, **kwargs)\u001b[0m\n\u001b[1;32m    309\u001b[0m                     \u001b[0mstacklevel\u001b[0m\u001b[0;34m=\u001b[0m\u001b[0mstacklevel\u001b[0m\u001b[0;34m,\u001b[0m\u001b[0;34m\u001b[0m\u001b[0;34m\u001b[0m\u001b[0m\n\u001b[1;32m    310\u001b[0m                 )\n\u001b[0;32m--> 311\u001b[0;31m             \u001b[0;32mreturn\u001b[0m \u001b[0mfunc\u001b[0m\u001b[0;34m(\u001b[0m\u001b[0;34m*\u001b[0m\u001b[0margs\u001b[0m\u001b[0;34m,\u001b[0m \u001b[0;34m**\u001b[0m\u001b[0mkwargs\u001b[0m\u001b[0;34m)\u001b[0m\u001b[0;34m\u001b[0m\u001b[0;34m\u001b[0m\u001b[0m\n\u001b[0m\u001b[1;32m    312\u001b[0m \u001b[0;34m\u001b[0m\u001b[0m\n\u001b[1;32m    313\u001b[0m         \u001b[0;32mreturn\u001b[0m \u001b[0mwrapper\u001b[0m\u001b[0;34m\u001b[0m\u001b[0;34m\u001b[0m\u001b[0m\n",
            "\u001b[0;32m/usr/local/lib/python3.7/dist-packages/pandas/core/frame.py\u001b[0m in \u001b[0;36mdrop\u001b[0;34m(self, labels, axis, index, columns, level, inplace, errors)\u001b[0m\n\u001b[1;32m   4911\u001b[0m             \u001b[0mlevel\u001b[0m\u001b[0;34m=\u001b[0m\u001b[0mlevel\u001b[0m\u001b[0;34m,\u001b[0m\u001b[0;34m\u001b[0m\u001b[0;34m\u001b[0m\u001b[0m\n\u001b[1;32m   4912\u001b[0m             \u001b[0minplace\u001b[0m\u001b[0;34m=\u001b[0m\u001b[0minplace\u001b[0m\u001b[0;34m,\u001b[0m\u001b[0;34m\u001b[0m\u001b[0;34m\u001b[0m\u001b[0m\n\u001b[0;32m-> 4913\u001b[0;31m             \u001b[0merrors\u001b[0m\u001b[0;34m=\u001b[0m\u001b[0merrors\u001b[0m\u001b[0;34m,\u001b[0m\u001b[0;34m\u001b[0m\u001b[0;34m\u001b[0m\u001b[0m\n\u001b[0m\u001b[1;32m   4914\u001b[0m         )\n\u001b[1;32m   4915\u001b[0m \u001b[0;34m\u001b[0m\u001b[0m\n",
            "\u001b[0;32m/usr/local/lib/python3.7/dist-packages/pandas/core/generic.py\u001b[0m in \u001b[0;36mdrop\u001b[0;34m(self, labels, axis, index, columns, level, inplace, errors)\u001b[0m\n\u001b[1;32m   4148\u001b[0m         \u001b[0;32mfor\u001b[0m \u001b[0maxis\u001b[0m\u001b[0;34m,\u001b[0m \u001b[0mlabels\u001b[0m \u001b[0;32min\u001b[0m \u001b[0maxes\u001b[0m\u001b[0;34m.\u001b[0m\u001b[0mitems\u001b[0m\u001b[0;34m(\u001b[0m\u001b[0;34m)\u001b[0m\u001b[0;34m:\u001b[0m\u001b[0;34m\u001b[0m\u001b[0;34m\u001b[0m\u001b[0m\n\u001b[1;32m   4149\u001b[0m             \u001b[0;32mif\u001b[0m \u001b[0mlabels\u001b[0m \u001b[0;32mis\u001b[0m \u001b[0;32mnot\u001b[0m \u001b[0;32mNone\u001b[0m\u001b[0;34m:\u001b[0m\u001b[0;34m\u001b[0m\u001b[0;34m\u001b[0m\u001b[0m\n\u001b[0;32m-> 4150\u001b[0;31m                 \u001b[0mobj\u001b[0m \u001b[0;34m=\u001b[0m \u001b[0mobj\u001b[0m\u001b[0;34m.\u001b[0m\u001b[0m_drop_axis\u001b[0m\u001b[0;34m(\u001b[0m\u001b[0mlabels\u001b[0m\u001b[0;34m,\u001b[0m \u001b[0maxis\u001b[0m\u001b[0;34m,\u001b[0m \u001b[0mlevel\u001b[0m\u001b[0;34m=\u001b[0m\u001b[0mlevel\u001b[0m\u001b[0;34m,\u001b[0m \u001b[0merrors\u001b[0m\u001b[0;34m=\u001b[0m\u001b[0merrors\u001b[0m\u001b[0;34m)\u001b[0m\u001b[0;34m\u001b[0m\u001b[0;34m\u001b[0m\u001b[0m\n\u001b[0m\u001b[1;32m   4151\u001b[0m \u001b[0;34m\u001b[0m\u001b[0m\n\u001b[1;32m   4152\u001b[0m         \u001b[0;32mif\u001b[0m \u001b[0minplace\u001b[0m\u001b[0;34m:\u001b[0m\u001b[0;34m\u001b[0m\u001b[0;34m\u001b[0m\u001b[0m\n",
            "\u001b[0;32m/usr/local/lib/python3.7/dist-packages/pandas/core/generic.py\u001b[0m in \u001b[0;36m_drop_axis\u001b[0;34m(self, labels, axis, level, errors)\u001b[0m\n\u001b[1;32m   4183\u001b[0m                 \u001b[0mnew_axis\u001b[0m \u001b[0;34m=\u001b[0m \u001b[0maxis\u001b[0m\u001b[0;34m.\u001b[0m\u001b[0mdrop\u001b[0m\u001b[0;34m(\u001b[0m\u001b[0mlabels\u001b[0m\u001b[0;34m,\u001b[0m \u001b[0mlevel\u001b[0m\u001b[0;34m=\u001b[0m\u001b[0mlevel\u001b[0m\u001b[0;34m,\u001b[0m \u001b[0merrors\u001b[0m\u001b[0;34m=\u001b[0m\u001b[0merrors\u001b[0m\u001b[0;34m)\u001b[0m\u001b[0;34m\u001b[0m\u001b[0;34m\u001b[0m\u001b[0m\n\u001b[1;32m   4184\u001b[0m             \u001b[0;32melse\u001b[0m\u001b[0;34m:\u001b[0m\u001b[0;34m\u001b[0m\u001b[0;34m\u001b[0m\u001b[0m\n\u001b[0;32m-> 4185\u001b[0;31m                 \u001b[0mnew_axis\u001b[0m \u001b[0;34m=\u001b[0m \u001b[0maxis\u001b[0m\u001b[0;34m.\u001b[0m\u001b[0mdrop\u001b[0m\u001b[0;34m(\u001b[0m\u001b[0mlabels\u001b[0m\u001b[0;34m,\u001b[0m \u001b[0merrors\u001b[0m\u001b[0;34m=\u001b[0m\u001b[0merrors\u001b[0m\u001b[0;34m)\u001b[0m\u001b[0;34m\u001b[0m\u001b[0;34m\u001b[0m\u001b[0m\n\u001b[0m\u001b[1;32m   4186\u001b[0m             \u001b[0mresult\u001b[0m \u001b[0;34m=\u001b[0m \u001b[0mself\u001b[0m\u001b[0;34m.\u001b[0m\u001b[0mreindex\u001b[0m\u001b[0;34m(\u001b[0m\u001b[0;34m**\u001b[0m\u001b[0;34m{\u001b[0m\u001b[0maxis_name\u001b[0m\u001b[0;34m:\u001b[0m \u001b[0mnew_axis\u001b[0m\u001b[0;34m}\u001b[0m\u001b[0;34m)\u001b[0m\u001b[0;34m\u001b[0m\u001b[0;34m\u001b[0m\u001b[0m\n\u001b[1;32m   4187\u001b[0m \u001b[0;34m\u001b[0m\u001b[0m\n",
            "\u001b[0;32m/usr/local/lib/python3.7/dist-packages/pandas/core/indexes/base.py\u001b[0m in \u001b[0;36mdrop\u001b[0;34m(self, labels, errors)\u001b[0m\n\u001b[1;32m   6015\u001b[0m         \u001b[0;32mif\u001b[0m \u001b[0mmask\u001b[0m\u001b[0;34m.\u001b[0m\u001b[0many\u001b[0m\u001b[0;34m(\u001b[0m\u001b[0;34m)\u001b[0m\u001b[0;34m:\u001b[0m\u001b[0;34m\u001b[0m\u001b[0;34m\u001b[0m\u001b[0m\n\u001b[1;32m   6016\u001b[0m             \u001b[0;32mif\u001b[0m \u001b[0merrors\u001b[0m \u001b[0;34m!=\u001b[0m \u001b[0;34m\"ignore\"\u001b[0m\u001b[0;34m:\u001b[0m\u001b[0;34m\u001b[0m\u001b[0;34m\u001b[0m\u001b[0m\n\u001b[0;32m-> 6017\u001b[0;31m                 \u001b[0;32mraise\u001b[0m \u001b[0mKeyError\u001b[0m\u001b[0;34m(\u001b[0m\u001b[0;34mf\"{labels[mask]} not found in axis\"\u001b[0m\u001b[0;34m)\u001b[0m\u001b[0;34m\u001b[0m\u001b[0;34m\u001b[0m\u001b[0m\n\u001b[0m\u001b[1;32m   6018\u001b[0m             \u001b[0mindexer\u001b[0m \u001b[0;34m=\u001b[0m \u001b[0mindexer\u001b[0m\u001b[0;34m[\u001b[0m\u001b[0;34m~\u001b[0m\u001b[0mmask\u001b[0m\u001b[0;34m]\u001b[0m\u001b[0;34m\u001b[0m\u001b[0;34m\u001b[0m\u001b[0m\n\u001b[1;32m   6019\u001b[0m         \u001b[0;32mreturn\u001b[0m \u001b[0mself\u001b[0m\u001b[0;34m.\u001b[0m\u001b[0mdelete\u001b[0m\u001b[0;34m(\u001b[0m\u001b[0mindexer\u001b[0m\u001b[0;34m)\u001b[0m\u001b[0;34m\u001b[0m\u001b[0;34m\u001b[0m\u001b[0m\n",
            "\u001b[0;31mKeyError\u001b[0m: \"['Total_Sale_Price'] not found in axis\""
          ]
        }
      ]
    }
  ]
}