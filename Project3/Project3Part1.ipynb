{
 "cells": [
  {
   "cell_type": "markdown",
   "metadata": {
    "id": "qQ9jS1ZmPcoQ"
   },
   "source": [
    "# Project 3 Part 1 - Real Estate Dataset\n",
    "#### By: David Hoffman and Kyle Kolodziej"
   ]
  },
  {
   "cell_type": "markdown",
   "metadata": {
    "id": "mBB55zMKOyqj"
   },
   "source": [
    "### 1. Import Data and Explore Data"
   ]
  },
  {
   "cell_type": "code",
   "execution_count": 5,
   "metadata": {
    "colab": {
     "base_uri": "https://localhost:8080/"
    },
    "id": "3qfPSojrP7L4",
    "outputId": "a94b4487-76a4-4cf1-d28b-ec529d602c79"
   },
   "outputs": [
    {
     "data": {
      "text/html": [
       "<div>\n",
       "<style scoped>\n",
       "    .dataframe tbody tr th:only-of-type {\n",
       "        vertical-align: middle;\n",
       "    }\n",
       "\n",
       "    .dataframe tbody tr th {\n",
       "        vertical-align: top;\n",
       "    }\n",
       "\n",
       "    .dataframe thead th {\n",
       "        text-align: right;\n",
       "    }\n",
       "</style>\n",
       "<table border=\"1\" class=\"dataframe\">\n",
       "  <thead>\n",
       "    <tr style=\"text-align: right;\">\n",
       "      <th></th>\n",
       "      <th>Real_Estate_Id</th>\n",
       "      <th>Deeded_Acreage</th>\n",
       "      <th>Total_Sale_Price</th>\n",
       "      <th>Total_Sale_Date</th>\n",
       "      <th>Month_Year_of_Sale</th>\n",
       "      <th>Year_of_Sale</th>\n",
       "      <th>Year_Built</th>\n",
       "      <th>Year_Remodeled</th>\n",
       "      <th>Heated_Area</th>\n",
       "      <th>Num_Stories</th>\n",
       "      <th>Design_Style</th>\n",
       "      <th>Bath</th>\n",
       "      <th>Utilities</th>\n",
       "      <th>Physical_City</th>\n",
       "      <th>Physical_Zip</th>\n",
       "    </tr>\n",
       "  </thead>\n",
       "  <tbody>\n",
       "    <tr>\n",
       "      <th>0</th>\n",
       "      <td>19</td>\n",
       "      <td>0.21</td>\n",
       "      <td>34500</td>\n",
       "      <td>1/1/1974</td>\n",
       "      <td>January 1974</td>\n",
       "      <td>1974</td>\n",
       "      <td>1964</td>\n",
       "      <td>1964</td>\n",
       "      <td>1828</td>\n",
       "      <td>One Story</td>\n",
       "      <td>Split level</td>\n",
       "      <td>2 Bath</td>\n",
       "      <td>ALL</td>\n",
       "      <td>Raleigh</td>\n",
       "      <td>27610.0</td>\n",
       "    </tr>\n",
       "    <tr>\n",
       "      <th>1</th>\n",
       "      <td>20</td>\n",
       "      <td>0.46</td>\n",
       "      <td>35500</td>\n",
       "      <td>5/18/1983</td>\n",
       "      <td>May 1983</td>\n",
       "      <td>1983</td>\n",
       "      <td>1970</td>\n",
       "      <td>1970</td>\n",
       "      <td>1240</td>\n",
       "      <td>One Story</td>\n",
       "      <td>Conventional</td>\n",
       "      <td>1 Bath</td>\n",
       "      <td>E</td>\n",
       "      <td>Raleigh</td>\n",
       "      <td>27610.0</td>\n",
       "    </tr>\n",
       "    <tr>\n",
       "      <th>2</th>\n",
       "      <td>22</td>\n",
       "      <td>0.46</td>\n",
       "      <td>37500</td>\n",
       "      <td>9/16/2004</td>\n",
       "      <td>September 2004</td>\n",
       "      <td>2004</td>\n",
       "      <td>1900</td>\n",
       "      <td>1900</td>\n",
       "      <td>2261</td>\n",
       "      <td>One Story</td>\n",
       "      <td>Conventional</td>\n",
       "      <td>2 Bath</td>\n",
       "      <td>WSE</td>\n",
       "      <td>Wendell</td>\n",
       "      <td>27591.0</td>\n",
       "    </tr>\n",
       "    <tr>\n",
       "      <th>3</th>\n",
       "      <td>25</td>\n",
       "      <td>0.96</td>\n",
       "      <td>70000</td>\n",
       "      <td>1/1/1971</td>\n",
       "      <td>January 1971</td>\n",
       "      <td>1971</td>\n",
       "      <td>1971</td>\n",
       "      <td>1971</td>\n",
       "      <td>3770</td>\n",
       "      <td>One Story</td>\n",
       "      <td>Conventional</td>\n",
       "      <td>Other</td>\n",
       "      <td>WGE</td>\n",
       "      <td>Raleigh</td>\n",
       "      <td>27613.0</td>\n",
       "    </tr>\n",
       "    <tr>\n",
       "      <th>4</th>\n",
       "      <td>30</td>\n",
       "      <td>0.47</td>\n",
       "      <td>380000</td>\n",
       "      <td>8/12/2015</td>\n",
       "      <td>August 2015</td>\n",
       "      <td>2015</td>\n",
       "      <td>1946</td>\n",
       "      <td>2017</td>\n",
       "      <td>1789</td>\n",
       "      <td>One Story</td>\n",
       "      <td>Conventional</td>\n",
       "      <td>2 Bath</td>\n",
       "      <td>ALL</td>\n",
       "      <td>Raleigh</td>\n",
       "      <td>27607.0</td>\n",
       "    </tr>\n",
       "  </tbody>\n",
       "</table>\n",
       "</div>"
      ],
      "text/plain": [
       "   Real_Estate_Id  Deeded_Acreage  Total_Sale_Price Total_Sale_Date  \\\n",
       "0              19            0.21             34500        1/1/1974   \n",
       "1              20            0.46             35500       5/18/1983   \n",
       "2              22            0.46             37500       9/16/2004   \n",
       "3              25            0.96             70000        1/1/1971   \n",
       "4              30            0.47            380000       8/12/2015   \n",
       "\n",
       "  Month_Year_of_Sale  Year_of_Sale  Year_Built  Year_Remodeled  Heated_Area  \\\n",
       "0       January 1974          1974        1964            1964         1828   \n",
       "1           May 1983          1983        1970            1970         1240   \n",
       "2     September 2004          2004        1900            1900         2261   \n",
       "3       January 1971          1971        1971            1971         3770   \n",
       "4        August 2015          2015        1946            2017         1789   \n",
       "\n",
       "  Num_Stories  Design_Style    Bath Utilities Physical_City  Physical_Zip  \n",
       "0   One Story   Split level  2 Bath       ALL       Raleigh       27610.0  \n",
       "1   One Story  Conventional  1 Bath         E       Raleigh       27610.0  \n",
       "2   One Story  Conventional  2 Bath       WSE       Wendell       27591.0  \n",
       "3   One Story  Conventional   Other       WGE       Raleigh       27613.0  \n",
       "4   One Story  Conventional  2 Bath       ALL       Raleigh       27607.0  "
      ]
     },
     "execution_count": 5,
     "metadata": {},
     "output_type": "execute_result"
    }
   ],
   "source": [
    "# read in combined dataset into a dataframe\n",
    "housing = pd.read_csv(\"data/WakeCountyHousing.csv\") \n",
    "\n",
    "housing.head(5)"
   ]
  },
  {
   "cell_type": "code",
   "execution_count": 6,
   "metadata": {
    "colab": {
     "base_uri": "https://localhost:8080/"
    },
    "id": "FrUulzM-NIzr",
    "outputId": "4e0fdd4e-15e9-4ea2-dac6-906bd4a336e8"
   },
   "outputs": [
    {
     "data": {
      "text/plain": [
       "Real_Estate_Id           0\n",
       "Deeded_Acreage           0\n",
       "Total_Sale_Price         0\n",
       "Total_Sale_Date          0\n",
       "Month_Year_of_Sale       0\n",
       "Year_of_Sale             0\n",
       "Year_Built               0\n",
       "Year_Remodeled           0\n",
       "Heated_Area              0\n",
       "Num_Stories              0\n",
       "Design_Style             0\n",
       "Bath                    17\n",
       "Utilities             1968\n",
       "Physical_City          109\n",
       "Physical_Zip           146\n",
       "dtype: int64"
      ]
     },
     "execution_count": 6,
     "metadata": {},
     "output_type": "execute_result"
    }
   ],
   "source": [
    "# check for null values\n",
    "housing.isnull().sum()"
   ]
  },
  {
   "cell_type": "markdown",
   "metadata": {
    "id": "kR-iGGDWNVhQ"
   },
   "source": [
    "Most of the data within this dataset is not missing; however, there is some data missing within the bath, utilities, physical city, and physical zip categories.  I do not think that any of these categories will be easy to impute, but we will decide how to deal with the missing data later."
   ]
  },
  {
   "cell_type": "code",
   "execution_count": 7,
   "metadata": {
    "colab": {
     "base_uri": "https://localhost:8080/"
    },
    "id": "XrsqY4JyNnz7",
    "outputId": "43250e7d-f46f-4275-9b51-9a199f272892"
   },
   "outputs": [
    {
     "data": {
      "text/plain": [
       "'9/9/2020'"
      ]
     },
     "execution_count": 7,
     "metadata": {},
     "output_type": "execute_result"
    }
   ],
   "source": [
    "max(housing['Total_Sale_Date'])"
   ]
  },
  {
   "cell_type": "code",
   "execution_count": 8,
   "metadata": {
    "colab": {
     "base_uri": "https://localhost:8080/"
    },
    "id": "nDApg19TN5CZ",
    "outputId": "3810d43c-0400-48ad-f704-8cca483bd7c6"
   },
   "outputs": [
    {
     "data": {
      "text/plain": [
       "'1/1/1956'"
      ]
     },
     "execution_count": 8,
     "metadata": {},
     "output_type": "execute_result"
    }
   ],
   "source": [
    "min(housing['Total_Sale_Date'])"
   ]
  },
  {
   "cell_type": "markdown",
   "metadata": {
    "id": "ISkoFUJeOCHT"
   },
   "source": [
    "The dataset contains homes that have been sold between January 1, 1956 and September 9, 2020."
   ]
  },
  {
   "cell_type": "code",
   "execution_count": 9,
   "metadata": {
    "colab": {
     "base_uri": "https://localhost:8080/"
    },
    "id": "n8BtxPj_OOGp",
    "outputId": "2c19611e-c752-4ef9-83bb-3aaeda6208cb"
   },
   "outputs": [
    {
     "data": {
      "text/plain": [
       "array(['One Story', 'Two Story', 'Other'], dtype=object)"
      ]
     },
     "execution_count": 9,
     "metadata": {},
     "output_type": "execute_result"
    }
   ],
   "source": [
    "housing['Num_Stories'].unique()"
   ]
  },
  {
   "cell_type": "code",
   "execution_count": 10,
   "metadata": {
    "colab": {
     "base_uri": "https://localhost:8080/"
    },
    "id": "UAW_E_UwOaGd",
    "outputId": "948d826a-ac5b-43b3-b938-d49213fb8539"
   },
   "outputs": [
    {
     "data": {
      "text/plain": [
       "Other        186691\n",
       "One Story     98744\n",
       "Two Story     22857\n",
       "Name: Num_Stories, dtype: int64"
      ]
     },
     "execution_count": 10,
     "metadata": {},
     "output_type": "execute_result"
    }
   ],
   "source": [
    "housing['Num_Stories'].value_counts()"
   ]
  },
  {
   "cell_type": "markdown",
   "metadata": {
    "id": "dSPCeK7aOblz"
   },
   "source": [
    "The houses within this dataset are either listed as 1-story, 2-story, or other with other being by far the most numerous category.  Behind other, 1-story homes are significantly more numerous than 2-story homes.  Additionally, I believe that this \"other\" category could be a good way to solve the missing data for bath, utilities, physical city, and physical zip by replacing all of the missing data with the cateogory of \"other\"."
   ]
  },
  {
   "cell_type": "code",
   "execution_count": 11,
   "metadata": {
    "colab": {
     "base_uri": "https://localhost:8080/"
    },
    "id": "x4saXVW-O9z5",
    "outputId": "f13d8188-4250-4092-88b4-31b35c38b83a"
   },
   "outputs": [
    {
     "data": {
      "text/plain": [
       "array(['Split level', 'Conventional', 'Ranch', 'Townhouse', 'Split Foyer',\n",
       "       'Contemporary', 'Modular', 'Colonial', 'Conversion', 'Condo',\n",
       "       'Log', 'Duplex', 'Manuf Multi', 'Cape'], dtype=object)"
      ]
     },
     "execution_count": 11,
     "metadata": {},
     "output_type": "execute_result"
    }
   ],
   "source": [
    "housing['Design_Style'].unique()"
   ]
  },
  {
   "cell_type": "code",
   "execution_count": 12,
   "metadata": {
    "colab": {
     "base_uri": "https://localhost:8080/"
    },
    "id": "kLT18HOeP060",
    "outputId": "8bc7c3c7-52c6-477f-8535-0aeb8179b478"
   },
   "outputs": [
    {
     "data": {
      "text/plain": [
       "Conventional    231961\n",
       "Townhouse        46636\n",
       "Condo            11997\n",
       "Ranch             7462\n",
       "Split level       7111\n",
       "Split Foyer       2157\n",
       "Contemporary       636\n",
       "Modular            201\n",
       "Log                 79\n",
       "Colonial            31\n",
       "Cape                 8\n",
       "Conversion           6\n",
       "Duplex               4\n",
       "Manuf Multi          3\n",
       "Name: Design_Style, dtype: int64"
      ]
     },
     "execution_count": 12,
     "metadata": {},
     "output_type": "execute_result"
    }
   ],
   "source": [
    "housing['Design_Style'].value_counts()"
   ]
  },
  {
   "cell_type": "markdown",
   "metadata": {
    "id": "8dyhOePKP7hN"
   },
   "source": [
    "There are 14 different categories of design style within this dataset with conventional being by far the most common and manuf multi being the least common.  Each of these different categories will not serve our model very well if they stay categorical, but this will be solved by one-hot encoding this feature."
   ]
  },
  {
   "cell_type": "code",
   "execution_count": 13,
   "metadata": {
    "colab": {
     "base_uri": "https://localhost:8080/"
    },
    "id": "-q3ZI-6AQS9C",
    "outputId": "f5a79544-4ce1-4742-9e96-85cad76c8a41"
   },
   "outputs": [
    {
     "data": {
      "text/plain": [
       "array(['2 Bath', '1 Bath', 'Other', '3 Bath', '3½ Bath', '1 ½ Bath',\n",
       "       '2½ Bath', nan], dtype=object)"
      ]
     },
     "execution_count": 13,
     "metadata": {},
     "output_type": "execute_result"
    }
   ],
   "source": [
    "housing['Bath'].unique()"
   ]
  },
  {
   "cell_type": "code",
   "execution_count": 14,
   "metadata": {
    "colab": {
     "base_uri": "https://localhost:8080/"
    },
    "id": "pYvyEGqVQYp2",
    "outputId": "5cc93bb3-f891-4baa-8b11-21ff2de2a62d"
   },
   "outputs": [
    {
     "data": {
      "text/plain": [
       "2½ Bath     129385\n",
       "2 Bath       57817\n",
       "3½ Bath      54286\n",
       "3 Bath       29079\n",
       "Other        14398\n",
       "1 Bath       12376\n",
       "1 ½ Bath     10934\n",
       "Name: Bath, dtype: int64"
      ]
     },
     "execution_count": 14,
     "metadata": {},
     "output_type": "execute_result"
    }
   ],
   "source": [
    "housing['Bath'].value_counts()"
   ]
  },
  {
   "cell_type": "markdown",
   "metadata": {
    "id": "scrpS-N2Qca9"
   },
   "source": [
    "There are 7 different categories within the bath feature with the two and a half bath being the most common and the 1 and a half bath being the least common.  This feature also has a category named \"other\" similar to the num_stories feature so I will have to use a different designation for the missing data."
   ]
  },
  {
   "cell_type": "code",
   "execution_count": 15,
   "metadata": {
    "colab": {
     "base_uri": "https://localhost:8080/"
    },
    "id": "cvU1ttN-Tx1J",
    "outputId": "0c0aeb25-7471-48ac-ea4a-dd22199be08e"
   },
   "outputs": [
    {
     "data": {
      "text/plain": [
       "array(['ALL', 'E', 'WSE', 'WGE', 'WE', nan, 'GE', 'S', 'WSG', 'W', 'SGE',\n",
       "       'G', 'SE', 'SG', 'WG', 'WS'], dtype=object)"
      ]
     },
     "execution_count": 15,
     "metadata": {},
     "output_type": "execute_result"
    }
   ],
   "source": [
    "housing['Utilities'].unique()"
   ]
  },
  {
   "cell_type": "code",
   "execution_count": 16,
   "metadata": {
    "colab": {
     "base_uri": "https://localhost:8080/"
    },
    "id": "cE4nKZbvT2Yp",
    "outputId": "7ccde57e-25f2-4996-c0d2-cbbe4a3a17cb"
   },
   "outputs": [
    {
     "data": {
      "text/plain": [
       "ALL    229668\n",
       "E       45702\n",
       "WSE     14059\n",
       "WE      13178\n",
       "WGE      1599\n",
       "GE       1434\n",
       "SGE       280\n",
       "SE        164\n",
       "WS        130\n",
       "W          46\n",
       "S          26\n",
       "WSG        19\n",
       "WG         12\n",
       "G           5\n",
       "SG          2\n",
       "Name: Utilities, dtype: int64"
      ]
     },
     "execution_count": 16,
     "metadata": {},
     "output_type": "execute_result"
    }
   ],
   "source": [
    "housing['Utilities'].value_counts()"
   ]
  },
  {
   "cell_type": "markdown",
   "metadata": {
    "id": "1-f7l4PTUPVo"
   },
   "source": [
    "Within the utilities feature, there are 15 different categories with \"all\" being the most common.  Within this feature, E stands for electric, W stands for water, S stands for sewer, and G stands for gas.  All means that the house has all four utilities and any combination of E, W, S, or G means that those utilities are included within the home."
   ]
  },
  {
   "cell_type": "code",
   "execution_count": 17,
   "metadata": {
    "colab": {
     "base_uri": "https://localhost:8080/"
    },
    "id": "KUj2sVDVVYlV",
    "outputId": "fda023f3-8c5f-439a-ebbb-9fb5197ba28c"
   },
   "outputs": [
    {
     "data": {
      "text/plain": [
       "array(['Raleigh', 'Wendell', 'Cary', 'Knightdale', 'Fuquay Varina',\n",
       "       'Garner', 'Apex', 'Wake Forest', 'Holly Springs', 'Zebulon',\n",
       "       'Willow Spring', 'Rolesville', 'New Hill', 'Clayton', 'Durham',\n",
       "       'Morrisville', 'Youngsville', 'Creedmoor', nan, 'Angier'],\n",
       "      dtype=object)"
      ]
     },
     "execution_count": 17,
     "metadata": {},
     "output_type": "execute_result"
    }
   ],
   "source": [
    "housing['Physical_City'].unique()"
   ]
  },
  {
   "cell_type": "code",
   "execution_count": 18,
   "metadata": {
    "colab": {
     "base_uri": "https://localhost:8080/"
    },
    "id": "d3qGKo6UVh47",
    "outputId": "08b27865-5e73-4f9d-f3e0-c2ae0a3c84dd"
   },
   "outputs": [
    {
     "data": {
      "text/plain": [
       "Raleigh          144089\n",
       "Cary              46172\n",
       "Apex              26537\n",
       "Wake Forest       20759\n",
       "Fuquay Varina     14991\n",
       "Holly Springs     13236\n",
       "Garner             9593\n",
       "Knightdale         8901\n",
       "Morrisville        7208\n",
       "Wendell            5578\n",
       "Zebulon            4157\n",
       "Rolesville         2621\n",
       "Willow Spring      2387\n",
       "New Hill           1005\n",
       "Clayton             322\n",
       "Angier              261\n",
       "Youngsville         159\n",
       "Durham              138\n",
       "Creedmoor            69\n",
       "Name: Physical_City, dtype: int64"
      ]
     },
     "execution_count": 18,
     "metadata": {},
     "output_type": "execute_result"
    }
   ],
   "source": [
    "housing['Physical_City'].value_counts()"
   ]
  },
  {
   "cell_type": "markdown",
   "metadata": {
    "id": "bFyIWWPJVmc2"
   },
   "source": [
    "There are 19 different cities within the dataset with Raleigh being the most common likely because it is the largest of the 19.  On the other hand, Creedmoor is the least common and also one of the smaller cities on the list."
   ]
  },
  {
   "cell_type": "markdown",
   "metadata": {
    "id": "n2msUDNcXuXy"
   },
   "source": [
    "### 2. Clean the Data"
   ]
  },
  {
   "cell_type": "code",
   "execution_count": 19,
   "metadata": {
    "colab": {
     "base_uri": "https://localhost:8080/"
    },
    "id": "1SIf-UzMXx3J",
    "outputId": "24e7920b-a08c-4d5e-839f-54768a306145"
   },
   "outputs": [
    {
     "data": {
      "text/plain": [
       "Real_Estate_Id      0\n",
       "Deeded_Acreage      0\n",
       "Total_Sale_Price    0\n",
       "Year_of_Sale        0\n",
       "Year_Built          0\n",
       "Year_Remodeled      0\n",
       "Heated_Area         0\n",
       "Num_Stories         0\n",
       "Design_Style        0\n",
       "Bath                0\n",
       "Utilities           0\n",
       "Physical_City       0\n",
       "Physical_Zip        0\n",
       "dtype: int64"
      ]
     },
     "execution_count": 19,
     "metadata": {},
     "output_type": "execute_result"
    }
   ],
   "source": [
    "housing = housing.dropna()\n",
    "housing.pop('Month_Year_of_Sale')\n",
    "housing.pop('Total_Sale_Date')\n",
    "housing.isnull().sum()"
   ]
  },
  {
   "cell_type": "markdown",
   "metadata": {
    "id": "lBPB-yLufzUA"
   },
   "source": [
    "With the code above I removed all of the rows from the dataset that have missing values.  As stated in the previous section, the features that contained missing values would be impossible to impute and due to the large size of the dataset I decided that we could drop the rows with missing data entirely without effecting our prediction. Additionally, I decided to drop the Month_Year_of_Sale and Total_Sale_Dates variables entirely because I felt like this was redundant information as the year of sale was already listed as a feature and the non-numeric data messed with our model. Finally, as you can see from the output above, there is no longer any missing data within the dataframe after conducting this operation and we can move on."
   ]
  },
  {
   "cell_type": "markdown",
   "metadata": {
    "id": "iMEnhpOt-yfo"
   },
   "source": [
    "### 3. Use a One-Hot Encoder"
   ]
  },
  {
   "cell_type": "code",
   "execution_count": 20,
   "metadata": {
    "colab": {
     "base_uri": "https://localhost:8080/"
    },
    "id": "SnaoFQZ_-26l",
    "outputId": "3d05c903-79b2-45d0-a7d4-b1360ec7bab2"
   },
   "outputs": [
    {
     "data": {
      "text/html": [
       "<div>\n",
       "<style scoped>\n",
       "    .dataframe tbody tr th:only-of-type {\n",
       "        vertical-align: middle;\n",
       "    }\n",
       "\n",
       "    .dataframe tbody tr th {\n",
       "        vertical-align: top;\n",
       "    }\n",
       "\n",
       "    .dataframe thead th {\n",
       "        text-align: right;\n",
       "    }\n",
       "</style>\n",
       "<table border=\"1\" class=\"dataframe\">\n",
       "  <thead>\n",
       "    <tr style=\"text-align: right;\">\n",
       "      <th></th>\n",
       "      <th>Real_Estate_Id</th>\n",
       "      <th>Deeded_Acreage</th>\n",
       "      <th>Total_Sale_Price</th>\n",
       "      <th>Year_of_Sale</th>\n",
       "      <th>Year_Built</th>\n",
       "      <th>Year_Remodeled</th>\n",
       "      <th>Heated_Area</th>\n",
       "      <th>Num_Stories</th>\n",
       "      <th>Bath</th>\n",
       "      <th>Physical_Zip</th>\n",
       "      <th>...</th>\n",
       "      <th>Physical_City_Knightdale</th>\n",
       "      <th>Physical_City_Morrisville</th>\n",
       "      <th>Physical_City_New Hill</th>\n",
       "      <th>Physical_City_Raleigh</th>\n",
       "      <th>Physical_City_Rolesville</th>\n",
       "      <th>Physical_City_Wake Forest</th>\n",
       "      <th>Physical_City_Wendell</th>\n",
       "      <th>Physical_City_Willow Spring</th>\n",
       "      <th>Physical_City_Youngsville</th>\n",
       "      <th>Physical_City_Zebulon</th>\n",
       "    </tr>\n",
       "  </thead>\n",
       "  <tbody>\n",
       "    <tr>\n",
       "      <th>0</th>\n",
       "      <td>19</td>\n",
       "      <td>0.21</td>\n",
       "      <td>34500</td>\n",
       "      <td>1974</td>\n",
       "      <td>1964</td>\n",
       "      <td>1964</td>\n",
       "      <td>1828</td>\n",
       "      <td>One Story</td>\n",
       "      <td>2 Bath</td>\n",
       "      <td>27610.0</td>\n",
       "      <td>...</td>\n",
       "      <td>0</td>\n",
       "      <td>0</td>\n",
       "      <td>0</td>\n",
       "      <td>1</td>\n",
       "      <td>0</td>\n",
       "      <td>0</td>\n",
       "      <td>0</td>\n",
       "      <td>0</td>\n",
       "      <td>0</td>\n",
       "      <td>0</td>\n",
       "    </tr>\n",
       "    <tr>\n",
       "      <th>1</th>\n",
       "      <td>20</td>\n",
       "      <td>0.46</td>\n",
       "      <td>35500</td>\n",
       "      <td>1983</td>\n",
       "      <td>1970</td>\n",
       "      <td>1970</td>\n",
       "      <td>1240</td>\n",
       "      <td>One Story</td>\n",
       "      <td>1 Bath</td>\n",
       "      <td>27610.0</td>\n",
       "      <td>...</td>\n",
       "      <td>0</td>\n",
       "      <td>0</td>\n",
       "      <td>0</td>\n",
       "      <td>1</td>\n",
       "      <td>0</td>\n",
       "      <td>0</td>\n",
       "      <td>0</td>\n",
       "      <td>0</td>\n",
       "      <td>0</td>\n",
       "      <td>0</td>\n",
       "    </tr>\n",
       "    <tr>\n",
       "      <th>2</th>\n",
       "      <td>22</td>\n",
       "      <td>0.46</td>\n",
       "      <td>37500</td>\n",
       "      <td>2004</td>\n",
       "      <td>1900</td>\n",
       "      <td>1900</td>\n",
       "      <td>2261</td>\n",
       "      <td>One Story</td>\n",
       "      <td>2 Bath</td>\n",
       "      <td>27591.0</td>\n",
       "      <td>...</td>\n",
       "      <td>0</td>\n",
       "      <td>0</td>\n",
       "      <td>0</td>\n",
       "      <td>0</td>\n",
       "      <td>0</td>\n",
       "      <td>0</td>\n",
       "      <td>1</td>\n",
       "      <td>0</td>\n",
       "      <td>0</td>\n",
       "      <td>0</td>\n",
       "    </tr>\n",
       "    <tr>\n",
       "      <th>3</th>\n",
       "      <td>25</td>\n",
       "      <td>0.96</td>\n",
       "      <td>70000</td>\n",
       "      <td>1971</td>\n",
       "      <td>1971</td>\n",
       "      <td>1971</td>\n",
       "      <td>3770</td>\n",
       "      <td>One Story</td>\n",
       "      <td>Other</td>\n",
       "      <td>27613.0</td>\n",
       "      <td>...</td>\n",
       "      <td>0</td>\n",
       "      <td>0</td>\n",
       "      <td>0</td>\n",
       "      <td>1</td>\n",
       "      <td>0</td>\n",
       "      <td>0</td>\n",
       "      <td>0</td>\n",
       "      <td>0</td>\n",
       "      <td>0</td>\n",
       "      <td>0</td>\n",
       "    </tr>\n",
       "    <tr>\n",
       "      <th>4</th>\n",
       "      <td>30</td>\n",
       "      <td>0.47</td>\n",
       "      <td>380000</td>\n",
       "      <td>2015</td>\n",
       "      <td>1946</td>\n",
       "      <td>2017</td>\n",
       "      <td>1789</td>\n",
       "      <td>One Story</td>\n",
       "      <td>2 Bath</td>\n",
       "      <td>27607.0</td>\n",
       "      <td>...</td>\n",
       "      <td>0</td>\n",
       "      <td>0</td>\n",
       "      <td>0</td>\n",
       "      <td>1</td>\n",
       "      <td>0</td>\n",
       "      <td>0</td>\n",
       "      <td>0</td>\n",
       "      <td>0</td>\n",
       "      <td>0</td>\n",
       "      <td>0</td>\n",
       "    </tr>\n",
       "  </tbody>\n",
       "</table>\n",
       "<p>5 rows × 58 columns</p>\n",
       "</div>"
      ],
      "text/plain": [
       "   Real_Estate_Id  Deeded_Acreage  Total_Sale_Price  Year_of_Sale  Year_Built  \\\n",
       "0              19            0.21             34500          1974        1964   \n",
       "1              20            0.46             35500          1983        1970   \n",
       "2              22            0.46             37500          2004        1900   \n",
       "3              25            0.96             70000          1971        1971   \n",
       "4              30            0.47            380000          2015        1946   \n",
       "\n",
       "   Year_Remodeled  Heated_Area Num_Stories    Bath  Physical_Zip  ...  \\\n",
       "0            1964         1828   One Story  2 Bath       27610.0  ...   \n",
       "1            1970         1240   One Story  1 Bath       27610.0  ...   \n",
       "2            1900         2261   One Story  2 Bath       27591.0  ...   \n",
       "3            1971         3770   One Story   Other       27613.0  ...   \n",
       "4            2017         1789   One Story  2 Bath       27607.0  ...   \n",
       "\n",
       "   Physical_City_Knightdale  Physical_City_Morrisville  \\\n",
       "0                         0                          0   \n",
       "1                         0                          0   \n",
       "2                         0                          0   \n",
       "3                         0                          0   \n",
       "4                         0                          0   \n",
       "\n",
       "   Physical_City_New Hill  Physical_City_Raleigh  Physical_City_Rolesville  \\\n",
       "0                       0                      1                         0   \n",
       "1                       0                      1                         0   \n",
       "2                       0                      0                         0   \n",
       "3                       0                      1                         0   \n",
       "4                       0                      1                         0   \n",
       "\n",
       "   Physical_City_Wake Forest  Physical_City_Wendell  \\\n",
       "0                          0                      0   \n",
       "1                          0                      0   \n",
       "2                          0                      1   \n",
       "3                          0                      0   \n",
       "4                          0                      0   \n",
       "\n",
       "   Physical_City_Willow Spring  Physical_City_Youngsville  \\\n",
       "0                            0                          0   \n",
       "1                            0                          0   \n",
       "2                            0                          0   \n",
       "3                            0                          0   \n",
       "4                            0                          0   \n",
       "\n",
       "   Physical_City_Zebulon  \n",
       "0                      0  \n",
       "1                      0  \n",
       "2                      0  \n",
       "3                      0  \n",
       "4                      0  \n",
       "\n",
       "[5 rows x 58 columns]"
      ]
     },
     "execution_count": 20,
     "metadata": {},
     "output_type": "execute_result"
    }
   ],
   "source": [
    "# one-hot encode categorical variables that do not have distinct heirarchy\n",
    "df_ohe = pd.get_dummies(housing[['Design_Style','Utilities','Physical_City']])\n",
    "\n",
    "housing_ohe = pd.concat([housing,df_ohe],axis=1)\n",
    "housing_ohe.drop(['Design_Style','Utilities','Physical_City'],axis=1, inplace=True)\n",
    "\n",
    "housing_ohe.head(5)"
   ]
  },
  {
   "cell_type": "markdown",
   "metadata": {
    "id": "GVvyy0dJkiBv"
   },
   "source": [
    "The code above serves to one-hot encode 3 of the major categorical variables within the dataset: design style, utilities, and physical city.  The first line of code creates a new, temporary dataframe with the one hot encoded columns.  Then, I combined the temporary dataframe with a new dataframe I titled housing_ohe and dropped the original categorical columns that I one-hot encoded.  As you can see, the one-hot encoding seperates each category within the original features into its own feature column and gives each row either a 1 or a 0 with the 1 indicating that the category listed in the title of the column is present in that row."
   ]
  },
  {
   "cell_type": "markdown",
   "metadata": {
    "id": "2YS-BACSD5Oi"
   },
   "source": [
    "### 4. Use an Ordinal Encoder"
   ]
  },
  {
   "cell_type": "code",
   "execution_count": 21,
   "metadata": {
    "colab": {
     "base_uri": "https://localhost:8080/"
    },
    "id": "CJRJ6AXQD_Wf",
    "outputId": "b530dc1b-b818-48b4-f4ab-a2cfa67c15fa"
   },
   "outputs": [
    {
     "data": {
      "text/html": [
       "<div>\n",
       "<style scoped>\n",
       "    .dataframe tbody tr th:only-of-type {\n",
       "        vertical-align: middle;\n",
       "    }\n",
       "\n",
       "    .dataframe tbody tr th {\n",
       "        vertical-align: top;\n",
       "    }\n",
       "\n",
       "    .dataframe thead th {\n",
       "        text-align: right;\n",
       "    }\n",
       "</style>\n",
       "<table border=\"1\" class=\"dataframe\">\n",
       "  <thead>\n",
       "    <tr style=\"text-align: right;\">\n",
       "      <th></th>\n",
       "      <th>Real_Estate_Id</th>\n",
       "      <th>Deeded_Acreage</th>\n",
       "      <th>Total_Sale_Price</th>\n",
       "      <th>Year_of_Sale</th>\n",
       "      <th>Year_Built</th>\n",
       "      <th>Year_Remodeled</th>\n",
       "      <th>Heated_Area</th>\n",
       "      <th>Num_Stories</th>\n",
       "      <th>Bath</th>\n",
       "      <th>Physical_Zip</th>\n",
       "      <th>...</th>\n",
       "      <th>Physical_City_Knightdale</th>\n",
       "      <th>Physical_City_Morrisville</th>\n",
       "      <th>Physical_City_New Hill</th>\n",
       "      <th>Physical_City_Raleigh</th>\n",
       "      <th>Physical_City_Rolesville</th>\n",
       "      <th>Physical_City_Wake Forest</th>\n",
       "      <th>Physical_City_Wendell</th>\n",
       "      <th>Physical_City_Willow Spring</th>\n",
       "      <th>Physical_City_Youngsville</th>\n",
       "      <th>Physical_City_Zebulon</th>\n",
       "    </tr>\n",
       "  </thead>\n",
       "  <tbody>\n",
       "    <tr>\n",
       "      <th>0</th>\n",
       "      <td>19</td>\n",
       "      <td>0.21</td>\n",
       "      <td>34500</td>\n",
       "      <td>1974</td>\n",
       "      <td>1964</td>\n",
       "      <td>1964</td>\n",
       "      <td>1828</td>\n",
       "      <td>1</td>\n",
       "      <td>3</td>\n",
       "      <td>27610.0</td>\n",
       "      <td>...</td>\n",
       "      <td>0</td>\n",
       "      <td>0</td>\n",
       "      <td>0</td>\n",
       "      <td>1</td>\n",
       "      <td>0</td>\n",
       "      <td>0</td>\n",
       "      <td>0</td>\n",
       "      <td>0</td>\n",
       "      <td>0</td>\n",
       "      <td>0</td>\n",
       "    </tr>\n",
       "    <tr>\n",
       "      <th>1</th>\n",
       "      <td>20</td>\n",
       "      <td>0.46</td>\n",
       "      <td>35500</td>\n",
       "      <td>1983</td>\n",
       "      <td>1970</td>\n",
       "      <td>1970</td>\n",
       "      <td>1240</td>\n",
       "      <td>1</td>\n",
       "      <td>1</td>\n",
       "      <td>27610.0</td>\n",
       "      <td>...</td>\n",
       "      <td>0</td>\n",
       "      <td>0</td>\n",
       "      <td>0</td>\n",
       "      <td>1</td>\n",
       "      <td>0</td>\n",
       "      <td>0</td>\n",
       "      <td>0</td>\n",
       "      <td>0</td>\n",
       "      <td>0</td>\n",
       "      <td>0</td>\n",
       "    </tr>\n",
       "    <tr>\n",
       "      <th>2</th>\n",
       "      <td>22</td>\n",
       "      <td>0.46</td>\n",
       "      <td>37500</td>\n",
       "      <td>2004</td>\n",
       "      <td>1900</td>\n",
       "      <td>1900</td>\n",
       "      <td>2261</td>\n",
       "      <td>1</td>\n",
       "      <td>3</td>\n",
       "      <td>27591.0</td>\n",
       "      <td>...</td>\n",
       "      <td>0</td>\n",
       "      <td>0</td>\n",
       "      <td>0</td>\n",
       "      <td>0</td>\n",
       "      <td>0</td>\n",
       "      <td>0</td>\n",
       "      <td>1</td>\n",
       "      <td>0</td>\n",
       "      <td>0</td>\n",
       "      <td>0</td>\n",
       "    </tr>\n",
       "    <tr>\n",
       "      <th>3</th>\n",
       "      <td>25</td>\n",
       "      <td>0.96</td>\n",
       "      <td>70000</td>\n",
       "      <td>1971</td>\n",
       "      <td>1971</td>\n",
       "      <td>1971</td>\n",
       "      <td>3770</td>\n",
       "      <td>1</td>\n",
       "      <td>7</td>\n",
       "      <td>27613.0</td>\n",
       "      <td>...</td>\n",
       "      <td>0</td>\n",
       "      <td>0</td>\n",
       "      <td>0</td>\n",
       "      <td>1</td>\n",
       "      <td>0</td>\n",
       "      <td>0</td>\n",
       "      <td>0</td>\n",
       "      <td>0</td>\n",
       "      <td>0</td>\n",
       "      <td>0</td>\n",
       "    </tr>\n",
       "    <tr>\n",
       "      <th>4</th>\n",
       "      <td>30</td>\n",
       "      <td>0.47</td>\n",
       "      <td>380000</td>\n",
       "      <td>2015</td>\n",
       "      <td>1946</td>\n",
       "      <td>2017</td>\n",
       "      <td>1789</td>\n",
       "      <td>1</td>\n",
       "      <td>3</td>\n",
       "      <td>27607.0</td>\n",
       "      <td>...</td>\n",
       "      <td>0</td>\n",
       "      <td>0</td>\n",
       "      <td>0</td>\n",
       "      <td>1</td>\n",
       "      <td>0</td>\n",
       "      <td>0</td>\n",
       "      <td>0</td>\n",
       "      <td>0</td>\n",
       "      <td>0</td>\n",
       "      <td>0</td>\n",
       "    </tr>\n",
       "  </tbody>\n",
       "</table>\n",
       "<p>5 rows × 58 columns</p>\n",
       "</div>"
      ],
      "text/plain": [
       "   Real_Estate_Id  Deeded_Acreage  Total_Sale_Price  Year_of_Sale  Year_Built  \\\n",
       "0              19            0.21             34500          1974        1964   \n",
       "1              20            0.46             35500          1983        1970   \n",
       "2              22            0.46             37500          2004        1900   \n",
       "3              25            0.96             70000          1971        1971   \n",
       "4              30            0.47            380000          2015        1946   \n",
       "\n",
       "   Year_Remodeled  Heated_Area  Num_Stories  Bath  Physical_Zip  ...  \\\n",
       "0            1964         1828            1     3       27610.0  ...   \n",
       "1            1970         1240            1     1       27610.0  ...   \n",
       "2            1900         2261            1     3       27591.0  ...   \n",
       "3            1971         3770            1     7       27613.0  ...   \n",
       "4            2017         1789            1     3       27607.0  ...   \n",
       "\n",
       "   Physical_City_Knightdale  Physical_City_Morrisville  \\\n",
       "0                         0                          0   \n",
       "1                         0                          0   \n",
       "2                         0                          0   \n",
       "3                         0                          0   \n",
       "4                         0                          0   \n",
       "\n",
       "   Physical_City_New Hill  Physical_City_Raleigh  Physical_City_Rolesville  \\\n",
       "0                       0                      1                         0   \n",
       "1                       0                      1                         0   \n",
       "2                       0                      0                         0   \n",
       "3                       0                      1                         0   \n",
       "4                       0                      1                         0   \n",
       "\n",
       "   Physical_City_Wake Forest  Physical_City_Wendell  \\\n",
       "0                          0                      0   \n",
       "1                          0                      0   \n",
       "2                          0                      1   \n",
       "3                          0                      0   \n",
       "4                          0                      0   \n",
       "\n",
       "   Physical_City_Willow Spring  Physical_City_Youngsville  \\\n",
       "0                            0                          0   \n",
       "1                            0                          0   \n",
       "2                            0                          0   \n",
       "3                            0                          0   \n",
       "4                            0                          0   \n",
       "\n",
       "   Physical_City_Zebulon  \n",
       "0                      0  \n",
       "1                      0  \n",
       "2                      0  \n",
       "3                      0  \n",
       "4                      0  \n",
       "\n",
       "[5 rows x 58 columns]"
      ]
     },
     "execution_count": 21,
     "metadata": {},
     "output_type": "execute_result"
    }
   ],
   "source": [
    "# ordinally encode heirarchical categorical variables\n",
    "# num_stories, baths\n",
    "\n",
    "num_stories_mapper = {\"One Story\":1, \"Two Story\":2, \"Other\":3}\n",
    "housing_ohe[\"Num_Stories\"] = housing_ohe[\"Num_Stories\"].replace(num_stories_mapper)\n",
    "\n",
    "baths_mapper = {\"1 Bath\":1, \"1 ½ Bath\":2, \"2 Bath\":3, \"2½ Bath\":4, \"3 Bath\":5, \"3½ Bath\":6,\"Other\":7}\n",
    "housing_ohe[\"Bath\"] = housing_ohe[\"Bath\"].replace(baths_mapper)\n",
    "\n",
    "housing_ohe.head(5)"
   ]
  },
  {
   "cell_type": "markdown",
   "metadata": {
    "id": "5XJG5cTosS6p"
   },
   "source": [
    "With the code above, I ordinally encoded both the num_stories and the bath features to numerically represent these categorical variables.  I chose to ordinally encode these features rather than one-hot encode them because both of these features have a natural heirarchy with one-story being more than two-story and 1 bath being more than 2 baths so I thought it would be more effective to represent them as nominal variables rather than simple categorical variables.  The ordinal encoding should help our model achieve a better prediction."
   ]
  },
  {
   "cell_type": "markdown",
   "metadata": {},
   "source": [
    "### 5. Normalize Features using SKLearn"
   ]
  },
  {
   "cell_type": "code",
   "execution_count": 22,
   "metadata": {},
   "outputs": [
    {
     "data": {
      "text/html": [
       "<div>\n",
       "<style scoped>\n",
       "    .dataframe tbody tr th:only-of-type {\n",
       "        vertical-align: middle;\n",
       "    }\n",
       "\n",
       "    .dataframe tbody tr th {\n",
       "        vertical-align: top;\n",
       "    }\n",
       "\n",
       "    .dataframe thead th {\n",
       "        text-align: right;\n",
       "    }\n",
       "</style>\n",
       "<table border=\"1\" class=\"dataframe\">\n",
       "  <thead>\n",
       "    <tr style=\"text-align: right;\">\n",
       "      <th></th>\n",
       "      <th>Real_Estate_Id</th>\n",
       "      <th>Deeded_Acreage</th>\n",
       "      <th>Total_Sale_Price</th>\n",
       "      <th>Year_of_Sale</th>\n",
       "      <th>Year_Built</th>\n",
       "      <th>Year_Remodeled</th>\n",
       "      <th>Heated_Area</th>\n",
       "      <th>Num_Stories</th>\n",
       "      <th>Bath</th>\n",
       "      <th>Physical_Zip</th>\n",
       "      <th>...</th>\n",
       "      <th>Physical_City_Knightdale</th>\n",
       "      <th>Physical_City_Morrisville</th>\n",
       "      <th>Physical_City_New Hill</th>\n",
       "      <th>Physical_City_Raleigh</th>\n",
       "      <th>Physical_City_Rolesville</th>\n",
       "      <th>Physical_City_Wake Forest</th>\n",
       "      <th>Physical_City_Wendell</th>\n",
       "      <th>Physical_City_Willow Spring</th>\n",
       "      <th>Physical_City_Youngsville</th>\n",
       "      <th>Physical_City_Zebulon</th>\n",
       "    </tr>\n",
       "  </thead>\n",
       "  <tbody>\n",
       "    <tr>\n",
       "      <th>0</th>\n",
       "      <td>19</td>\n",
       "      <td>0.21</td>\n",
       "      <td>34500</td>\n",
       "      <td>-3.377447</td>\n",
       "      <td>-1.571319</td>\n",
       "      <td>-1.642016</td>\n",
       "      <td>1828</td>\n",
       "      <td>1</td>\n",
       "      <td>3</td>\n",
       "      <td>27610.0</td>\n",
       "      <td>...</td>\n",
       "      <td>0</td>\n",
       "      <td>0</td>\n",
       "      <td>0</td>\n",
       "      <td>1</td>\n",
       "      <td>0</td>\n",
       "      <td>0</td>\n",
       "      <td>0</td>\n",
       "      <td>0</td>\n",
       "      <td>0</td>\n",
       "      <td>0</td>\n",
       "    </tr>\n",
       "    <tr>\n",
       "      <th>1</th>\n",
       "      <td>20</td>\n",
       "      <td>0.46</td>\n",
       "      <td>35500</td>\n",
       "      <td>-2.522725</td>\n",
       "      <td>-1.266570</td>\n",
       "      <td>-1.331777</td>\n",
       "      <td>1240</td>\n",
       "      <td>1</td>\n",
       "      <td>1</td>\n",
       "      <td>27610.0</td>\n",
       "      <td>...</td>\n",
       "      <td>0</td>\n",
       "      <td>0</td>\n",
       "      <td>0</td>\n",
       "      <td>1</td>\n",
       "      <td>0</td>\n",
       "      <td>0</td>\n",
       "      <td>0</td>\n",
       "      <td>0</td>\n",
       "      <td>0</td>\n",
       "      <td>0</td>\n",
       "    </tr>\n",
       "    <tr>\n",
       "      <th>2</th>\n",
       "      <td>22</td>\n",
       "      <td>0.46</td>\n",
       "      <td>37500</td>\n",
       "      <td>-0.528371</td>\n",
       "      <td>-4.821977</td>\n",
       "      <td>-4.951227</td>\n",
       "      <td>2261</td>\n",
       "      <td>1</td>\n",
       "      <td>3</td>\n",
       "      <td>27591.0</td>\n",
       "      <td>...</td>\n",
       "      <td>0</td>\n",
       "      <td>0</td>\n",
       "      <td>0</td>\n",
       "      <td>0</td>\n",
       "      <td>0</td>\n",
       "      <td>0</td>\n",
       "      <td>1</td>\n",
       "      <td>0</td>\n",
       "      <td>0</td>\n",
       "      <td>0</td>\n",
       "    </tr>\n",
       "    <tr>\n",
       "      <th>3</th>\n",
       "      <td>25</td>\n",
       "      <td>0.96</td>\n",
       "      <td>70000</td>\n",
       "      <td>-3.662355</td>\n",
       "      <td>-1.215778</td>\n",
       "      <td>-1.280071</td>\n",
       "      <td>3770</td>\n",
       "      <td>1</td>\n",
       "      <td>7</td>\n",
       "      <td>27613.0</td>\n",
       "      <td>...</td>\n",
       "      <td>0</td>\n",
       "      <td>0</td>\n",
       "      <td>0</td>\n",
       "      <td>1</td>\n",
       "      <td>0</td>\n",
       "      <td>0</td>\n",
       "      <td>0</td>\n",
       "      <td>0</td>\n",
       "      <td>0</td>\n",
       "      <td>0</td>\n",
       "    </tr>\n",
       "    <tr>\n",
       "      <th>4</th>\n",
       "      <td>30</td>\n",
       "      <td>0.47</td>\n",
       "      <td>380000</td>\n",
       "      <td>0.516290</td>\n",
       "      <td>-2.485566</td>\n",
       "      <td>1.098425</td>\n",
       "      <td>1789</td>\n",
       "      <td>1</td>\n",
       "      <td>3</td>\n",
       "      <td>27607.0</td>\n",
       "      <td>...</td>\n",
       "      <td>0</td>\n",
       "      <td>0</td>\n",
       "      <td>0</td>\n",
       "      <td>1</td>\n",
       "      <td>0</td>\n",
       "      <td>0</td>\n",
       "      <td>0</td>\n",
       "      <td>0</td>\n",
       "      <td>0</td>\n",
       "      <td>0</td>\n",
       "    </tr>\n",
       "  </tbody>\n",
       "</table>\n",
       "<p>5 rows × 58 columns</p>\n",
       "</div>"
      ],
      "text/plain": [
       "   Real_Estate_Id  Deeded_Acreage  Total_Sale_Price  Year_of_Sale  Year_Built  \\\n",
       "0              19            0.21             34500     -3.377447   -1.571319   \n",
       "1              20            0.46             35500     -2.522725   -1.266570   \n",
       "2              22            0.46             37500     -0.528371   -4.821977   \n",
       "3              25            0.96             70000     -3.662355   -1.215778   \n",
       "4              30            0.47            380000      0.516290   -2.485566   \n",
       "\n",
       "   Year_Remodeled  Heated_Area  Num_Stories  Bath  Physical_Zip  ...  \\\n",
       "0       -1.642016         1828            1     3       27610.0  ...   \n",
       "1       -1.331777         1240            1     1       27610.0  ...   \n",
       "2       -4.951227         2261            1     3       27591.0  ...   \n",
       "3       -1.280071         3770            1     7       27613.0  ...   \n",
       "4        1.098425         1789            1     3       27607.0  ...   \n",
       "\n",
       "   Physical_City_Knightdale  Physical_City_Morrisville  \\\n",
       "0                         0                          0   \n",
       "1                         0                          0   \n",
       "2                         0                          0   \n",
       "3                         0                          0   \n",
       "4                         0                          0   \n",
       "\n",
       "   Physical_City_New Hill  Physical_City_Raleigh  Physical_City_Rolesville  \\\n",
       "0                       0                      1                         0   \n",
       "1                       0                      1                         0   \n",
       "2                       0                      0                         0   \n",
       "3                       0                      1                         0   \n",
       "4                       0                      1                         0   \n",
       "\n",
       "   Physical_City_Wake Forest  Physical_City_Wendell  \\\n",
       "0                          0                      0   \n",
       "1                          0                      0   \n",
       "2                          0                      1   \n",
       "3                          0                      0   \n",
       "4                          0                      0   \n",
       "\n",
       "   Physical_City_Willow Spring  Physical_City_Youngsville  \\\n",
       "0                            0                          0   \n",
       "1                            0                          0   \n",
       "2                            0                          0   \n",
       "3                            0                          0   \n",
       "4                            0                          0   \n",
       "\n",
       "   Physical_City_Zebulon  \n",
       "0                      0  \n",
       "1                      0  \n",
       "2                      0  \n",
       "3                      0  \n",
       "4                      0  \n",
       "\n",
       "[5 rows x 58 columns]"
      ]
     },
     "execution_count": 22,
     "metadata": {},
     "output_type": "execute_result"
    }
   ],
   "source": [
    "from sklearn.preprocessing import StandardScaler\n",
    "\n",
    "scalar = StandardScaler()\n",
    "\n",
    "scalar.fit(housing_ohe[['Year_of_Sale','Year_Remodeled','Year_Built']])\n",
    "housing_ohe[['Year_of_Sale','Year_Remodeled','Year_Built']] = scalar.transform(housing_ohe[['Year_of_Sale','Year_Remodeled','Year_Built']])\n",
    "\n",
    "housing_ohe.head(5)"
   ]
  },
  {
   "cell_type": "markdown",
   "metadata": {},
   "source": [
    "In the above code segment, I normalized the data for the year of sale, year built, and year remodeled features.  I used the scikit learn normalization tool called the standard scaler which essentially standardizes the data in these three columns so that the new data has a mean of 0 and a standard deviation of 1.  The normalization of these features will help with our model's prediction especially when using linear regression or stochastic gradient decent which are dramatically improved through feature normalization. "
   ]
  },
  {
   "cell_type": "markdown",
   "metadata": {
    "id": "bLErpSXKuTNk"
   },
   "source": [
    "### 6. Use K-fold Cross-Validation"
   ]
  },
  {
   "cell_type": "code",
   "execution_count": 23,
   "metadata": {
    "colab": {
     "base_uri": "https://localhost:8080/"
    },
    "id": "tdBhLORywQry",
    "outputId": "d5f2f4f2-0197-41ae-be70-b2a64c99b397"
   },
   "outputs": [],
   "source": [
    "from sklearn.model_selection import KFold\n",
    "\n",
    "X = housing_ohe.drop(columns=[\"Total_Sale_Price\"])\n",
    "X = X.values\n",
    "y = housing_ohe[\"Total_Sale_Price\"].values\n",
    "\n",
    "kf = KFold(n_splits=2, random_state=None, shuffle=True)\n",
    "\n",
    "for train_index, test_index in kf.split(X, y):\n",
    "  X_train, X_test = X[train_index], X[test_index]\n",
    "  y_train, y_test = y[train_index], y[test_index]"
   ]
  },
  {
   "cell_type": "markdown",
   "metadata": {},
   "source": [
    "In the code above, I seperated the dataset into seperate training and testing sets using a k-fold validation shuffle split.  The k-fold split ensures that there is an equal class distribution between both the training and testing sets and for this example I implemented two seperate splits per set.  For this model, the X values (predictor variables) include all of the columns except total sale price while the y-values (predicted variables) include just the total sales price data. Now that I have divided the dataset into training and testing sets we are now ready to pass the data into a model and get some predictions"
   ]
  },
  {
   "cell_type": "markdown",
   "metadata": {},
   "source": [
    "### 7. SKLearn Linear Regression"
   ]
  },
  {
   "cell_type": "code",
   "execution_count": 24,
   "metadata": {},
   "outputs": [
    {
     "name": "stdout",
     "output_type": "stream",
     "text": [
      "0.7018196396269447\n"
     ]
    }
   ],
   "source": [
    "from sklearn.linear_model import LinearRegression\n",
    "\n",
    "regr = LinearRegression()\n",
    "regr.fit(X_train, y_train)\n",
    "print(regr.score(X_test, y_test))"
   ]
  },
  {
   "cell_type": "markdown",
   "metadata": {},
   "source": [
    "Finally we are able to implement our first completed model.  I used the sklearn implementation of linear regression and after using it on our training data generated a regression score of about 70% when compared to the testing data.  This isn't horrible, but also isn't great either; hopefully another model will be able to have better performance on this dataset.  I will now implement a few different metrics to further judge the performance of the model."
   ]
  },
  {
   "cell_type": "markdown",
   "metadata": {},
   "source": [
    "### 8. Stochastic Gradient Descent Classifier"
   ]
  },
  {
   "cell_type": "code",
   "execution_count": 25,
   "metadata": {},
   "outputs": [
    {
     "name": "stdout",
     "output_type": "stream",
     "text": [
      "0.8983675074921644\n"
     ]
    }
   ],
   "source": [
    "from sklearn.datasets import make_classification\n",
    "from sklearn.linear_model import SGDClassifier\n",
    "from sklearn.model_selection import cross_val_score\n",
    "\n",
    "X_train, y_train = make_classification(n_samples=X_train.shape[0], n_features=X_train.shape[1], \n",
    "                           n_informative=2, n_redundant=0, \n",
    "                           n_clusters_per_class=1)\n",
    "SGD_classifier = SGDClassifier(loss=\"perceptron\", learning_rate=\"optimal\", \n",
    "                               n_iter_no_change=10)\n",
    "\n",
    "print(cross_val_score(SGD_classifier, X_train, y_train, scoring=\"accuracy\", cv=10).mean())"
   ]
  },
  {
   "cell_type": "markdown",
   "metadata": {},
   "source": [
    "In the above coding section, I implemented a stochastic gradient descent classifier on the training set of my dataset.  Stochastic gradient descent is used to minimize a cost function by iterating a gradient-based weight update which is applied to the dataset in batches.  The returned cross-validation score of .949 compares the results of the SGD classifier to both of the original x and y training datasets and evaluates the overall success/accuracy of the SGD classifier."
   ]
  },
  {
   "cell_type": "markdown",
   "metadata": {},
   "source": [
    "### 9. SKLearn Metrics: MSE and Explained Variance Score"
   ]
  },
  {
   "cell_type": "code",
   "execution_count": 26,
   "metadata": {},
   "outputs": [
    {
     "name": "stdout",
     "output_type": "stream",
     "text": [
      "83862117808652.14\n"
     ]
    }
   ],
   "source": [
    "from sklearn.metrics import mean_squared_error\n",
    "\n",
    "# create new numpy array that is same size as y_test\n",
    "y_predict = regr.predict(X_train)\n",
    "y_predict = y_predict[:-1]\n",
    "\n",
    "print(mean_squared_error(y_predict,y_test))"
   ]
  },
  {
   "cell_type": "code",
   "execution_count": 27,
   "metadata": {},
   "outputs": [
    {
     "name": "stdout",
     "output_type": "stream",
     "text": [
      "-0.38340320251545834\n"
     ]
    }
   ],
   "source": [
    "from sklearn.metrics import explained_variance_score\n",
    "\n",
    "y_predict = regr.predict(X_train)\n",
    "y_predict = y_predict[:-1]\n",
    "\n",
    "print(explained_variance_score(y_predict,y_test))"
   ]
  },
  {
   "cell_type": "markdown",
   "metadata": {},
   "source": [
    "Predicted values are very far off actual values which is why the mean squared error is so high and the explained variance is negative.  At the moment, I am not sure why we are getting this output; however, I will continue to investigate and see if there is any way to fix our linear regression model.  Additionally, I will implement a few other different models and will hopefully see better results there."
   ]
  },
  {
   "cell_type": "markdown",
   "metadata": {},
   "source": [
    "### 10. SKLearn Random Forest Classifier"
   ]
  },
  {
   "cell_type": "code",
   "execution_count": 28,
   "metadata": {},
   "outputs": [
    {
     "name": "stdout",
     "output_type": "stream",
     "text": [
      "2.6130128037627384e-05\n"
     ]
    }
   ],
   "source": [
    "from sklearn.ensemble import RandomForestClassifier\n",
    "from sklearn.datasets import make_classification\n",
    "\n",
    "X_train, y_train = make_classification(n_samples=X_train.shape[0], \n",
    "                                       n_features=X_train.shape[1],n_informative=2, \n",
    "                                       n_redundant=0,random_state=0, shuffle=False)\n",
    "\n",
    "clf = RandomForestClassifier(max_depth=2, random_state=0)\n",
    "clf.fit(X_train, y_train)\n",
    "\n",
    "print(clf.score(X_test, y_test))"
   ]
  },
  {
   "cell_type": "markdown",
   "metadata": {},
   "source": [
    "The random forest classifier implemented above takes 2 different randomly selected subsets from the training set and creates a decision tree out of each of them.  The randomness of the subsets helps to enhance the overall accuracy of the classification as well as reduce overfitting which can be a big issue in many regression problems.  The .score helper function is used to  print the mean accuracy on the given testing datasets and can be a harsh metric since it requires for each sample that each label set be correctly predicted."
   ]
  },
  {
   "cell_type": "markdown",
   "metadata": {},
   "source": [
    "### 11. K-Nearest Neighbors Classifier"
   ]
  },
  {
   "cell_type": "code",
   "execution_count": null,
   "metadata": {},
   "outputs": [],
   "source": [
    "from sklearn.neighbors import KNeighborsClassifier\n",
    "\n",
    "neigh = KNeighborsClassifier(n_neighbors=3)\n",
    "\n",
    "neigh.fit(X_train, y_train)\n",
    "print(neigh.score(X_test, y_test))"
   ]
  },
  {
   "cell_type": "markdown",
   "metadata": {},
   "source": [
    "Currently is taking way too long to run.  Will need to look into ways to optimize this"
   ]
  },
  {
   "cell_type": "markdown",
   "metadata": {},
   "source": [
    "### 12. Confusion Matrix"
   ]
  },
  {
   "cell_type": "code",
   "execution_count": 29,
   "metadata": {},
   "outputs": [
    {
     "name": "stdout",
     "output_type": "stream",
     "text": [
      "[[0 0 0 0 0 0 0 0 0 0 0 0]\n",
      " [0 0 0 0 0 0 0 0 0 0 0 0]\n",
      " [1 0 0 0 0 0 0 0 0 0 0 0]\n",
      " [0 1 0 0 0 0 0 0 0 0 0 0]\n",
      " [1 0 0 0 0 0 0 0 0 0 0 0]\n",
      " [1 0 0 0 0 0 0 0 0 0 0 0]\n",
      " [1 0 0 0 0 0 0 0 0 0 0 0]\n",
      " [1 0 0 0 0 0 0 0 0 0 0 0]\n",
      " [1 0 0 0 0 0 0 0 0 0 0 0]\n",
      " [1 0 0 0 0 0 0 0 0 0 0 0]\n",
      " [1 0 0 0 0 0 0 0 0 0 0 0]\n",
      " [0 1 0 0 0 0 0 0 0 0 0 0]]\n"
     ]
    }
   ],
   "source": [
    "from sklearn.metrics import confusion_matrix\n",
    "\n",
    "# generate confusion matrix using random forest classifier\n",
    "y_predict = clf.predict(X_train[:10])\n",
    "# y_predict = y_predict[:-1]\n",
    "\n",
    "print(confusion_matrix(y_test[:10], y_predict))"
   ]
  },
  {
   "cell_type": "markdown",
   "metadata": {},
   "source": [
    "With the above code, I generated a confusion matrix comparing the first 10 values for the predictions under the random forest classifier model to the first 10 values within the y_test dataset.  To properly understand a confusion matrix, you need to udnerstand what the different numbers within the matrix mean.  In the output above, we can see that the matrix is filled with 1's and 0's.  The 1's indicate a true positive or instances where the prediction value matches the true value within the test dataset while the zeros show everywhere where the predicted value does not match the true value in the testing dataset.  As you can see, the majority of the matrix is filled with incorrect predictions; however, just having some correct predictions show that the random forrest classifier is performing more successfully than our linear regression model which consistently predicted values that were far from the correct values."
   ]
  },
  {
   "cell_type": "markdown",
   "metadata": {},
   "source": [
    "### 13. ROC Curve"
   ]
  },
  {
   "cell_type": "code",
   "execution_count": 30,
   "metadata": {},
   "outputs": [
    {
     "name": "stderr",
     "output_type": "stream",
     "text": [
      "C:\\Users\\dhoff\\anaconda3\\lib\\site-packages\\sklearn\\metrics\\_ranking.py:949: UndefinedMetricWarning: No positive samples in y_true, true positive value should be meaningless\n",
      "  warnings.warn(\"No positive samples in y_true, \"\n"
     ]
    },
    {
     "data": {
      "image/png": "[encoded data removed]",
      "text/plain": [
       "<Figure size 432x288 with 1 Axes>"
      ]
     },
     "metadata": {
      "needs_background": "light"
     },
     "output_type": "display_data"
    }
   ],
   "source": [
    "import matplotlib.pyplot as plt\n",
    "from sklearn import metrics\n",
    "\n",
    "metrics.plot_roc_curve(clf, X_test, y_test) \n",
    "\n",
    "plt.show()"
   ]
  },
  {
   "cell_type": "markdown",
   "metadata": {},
   "source": []
  }
 ],
 "metadata": {
  "colab": {
   "collapsed_sections": [],
   "name": "Project3Part1.ipynb",
   "provenance": []
  },
  "kernelspec": {
   "display_name": "Python 3",
   "language": "python",
   "name": "python3"
  },
  "language_info": {
   "codemirror_mode": {
    "name": "ipython",
    "version": 3
   },
   "file_extension": ".py",
   "mimetype": "text/x-python",
   "name": "python",
   "nbconvert_exporter": "python",
   "pygments_lexer": "ipython3",
   "version": "3.8.8"
  }
 },
 "nbformat": 4,
 "nbformat_minor": 4
}
